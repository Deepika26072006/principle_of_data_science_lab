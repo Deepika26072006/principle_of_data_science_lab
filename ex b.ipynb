{
 "cells": [
  {
   "cell_type": "code",
   "execution_count": 3,
   "id": "1cbb15fe-eaf3-4c76-af52-023ad95199a0",
   "metadata": {},
   "outputs": [
    {
     "name": "stdout",
     "output_type": "stream",
     "text": [
      "    cars  passings\n",
      "0    BMW         3\n",
      "1  Volvo         7\n",
      "2   Ford         2\n"
     ]
    }
   ],
   "source": [
    "import pandas as pd\n",
    "mydataset = {\n",
    "'cars': [\"BMW\", \"Volvo\", \"Ford\"],\n",
    "'passings': [3, 7, 2]\n",
    "}\n",
    "myvar = pd.DataFrame(mydataset)\n",
    "print(myvar)"
   ]
  },
  {
   "cell_type": "code",
   "execution_count": 4,
   "id": "4eee859d-47b2-4916-a5a2-2c4cedd56a09",
   "metadata": {},
   "outputs": [
    {
     "name": "stdout",
     "output_type": "stream",
     "text": [
      "0    10\n",
      "1    20\n",
      "2    30\n",
      "3    40\n",
      "4    50\n",
      "dtype: int64\n"
     ]
    }
   ],
   "source": [
    "data = [10, 20, 30, 40, 50]\n",
    "series = pd.Series(data)\n",
    "print(series)"
   ]
  },
  {
   "cell_type": "code",
   "execution_count": 6,
   "id": "65e69dab-6c8a-45b4-b57b-e77bd01f50b2",
   "metadata": {},
   "outputs": [
    {
     "name": "stdout",
     "output_type": "stream",
     "text": [
      "Series Representation:\n",
      " 0    10\n",
      "1    20\n",
      "2    30\n",
      "3    40\n",
      "4    50\n",
      "dtype: int64\n",
      "Array Representation: [10 20 30 40 50]\n",
      "Index Object: RangeIndex(start=0, stop=5, step=1)\n"
     ]
    }
   ],
   "source": [
    "data = [10, 20, 30, 40, 50]\n",
    "series = pd.Series(data)\n",
    "print(\"Series Representation:\\n\",series)\n",
    "array_representation = series.values\n",
    "index_object = series.index\n",
    "print(\"Array Representation:\", array_representation)\n",
    "print(\"Index Object:\", index_object)"
   ]
  },
  {
   "cell_type": "code",
   "execution_count": 7,
   "id": "cecad540-9ccc-4534-b597-bfb115c95f84",
   "metadata": {},
   "outputs": [
    {
     "name": "stdout",
     "output_type": "stream",
     "text": [
      "x    1\n",
      "y    7\n",
      "z    2\n",
      "dtype: int64\n"
     ]
    }
   ],
   "source": [
    "a = [1, 7, 2]\n",
    "myvar = pd.Series(a, index = [\"x\", \"y\", \"z\"])\n",
    "print(myvar)"
   ]
  },
  {
   "cell_type": "code",
   "execution_count": 9,
   "id": "ac61ca15-4ebe-457e-8fd8-4bf4f648647e",
   "metadata": {},
   "outputs": [
    {
     "name": "stdout",
     "output_type": "stream",
     "text": [
      "a    10\n",
      "b    20\n",
      "c    30\n",
      "d    40\n",
      "e    50\n",
      "dtype: int64\n"
     ]
    }
   ],
   "source": [
    "data = [10, 20, 30, 40, 50]\n",
    "index_labels = ['a', 'b', 'c', 'd', 'e']\n",
    "series = pd.Series(data, index=index_labels)\n",
    "print(series)"
   ]
  },
  {
   "cell_type": "code",
   "execution_count": 10,
   "id": "ca5d9403-ea89-4d13-b2de-1fe44ede17c5",
   "metadata": {},
   "outputs": [
    {
     "name": "stdout",
     "output_type": "stream",
     "text": [
      "20\n",
      "a    10\n",
      "c    30\n",
      "e    50\n",
      "dtype: int64\n"
     ]
    }
   ],
   "source": [
    "print(series['b'])\n",
    "print(series[['a', 'c', 'e']])"
   ]
  },
  {
   "cell_type": "code",
   "execution_count": 11,
   "id": "41b6f525-c85d-4410-990a-9a7fc65b7251",
   "metadata": {},
   "outputs": [
    {
     "name": "stdout",
     "output_type": "stream",
     "text": [
      "series>25= \n",
      " a    False\n",
      "b    False\n",
      "c     True\n",
      "d     True\n",
      "e     True\n",
      "dtype: bool\n",
      "Filtered Series:\n",
      " c    30\n",
      "d    40\n",
      "e    50\n",
      "dtype: int64\n",
      "\n",
      "Series after Scalar Multiplication:\n",
      " a     20\n",
      "b     40\n",
      "c     60\n",
      "d     80\n",
      "e    100\n",
      "dtype: int64\n"
     ]
    }
   ],
   "source": [
    "gt=series > 25\n",
    "print(\"series>25= \\n\",gt)\n",
    "series_filtered = series[series > 25]\n",
    "print(\"Filtered Series:\\n\", series_filtered)\n",
    "series_multiplied = series * 2\n",
    "print(\"\\nSeries after Scalar Multiplication:\\n\", series_multiplied)"
   ]
  },
  {
   "cell_type": "code",
   "execution_count": 12,
   "id": "2f03da0b-ebc0-482f-b8e1-d94c467dfd4b",
   "metadata": {},
   "outputs": [
    {
     "name": "stdout",
     "output_type": "stream",
     "text": [
      "series= \n",
      " a    10\n",
      "b    20\n",
      "c    30\n",
      "d    40\n",
      "e    50\n",
      "dtype: int64\n",
      "\n",
      "Series after Applying Square Root:\n",
      " a    3.162278\n",
      "b    4.472136\n",
      "c    5.477226\n",
      "d    6.324555\n",
      "e    7.071068\n",
      "dtype: float64\n"
     ]
    }
   ],
   "source": [
    "import numpy as np\n",
    "print(\"series= \\n\",series)\n",
    "series_sqrt = np.sqrt(series)\n",
    "print(\"\\nSeries after Applying Square Root:\\n\", series_sqrt)"
   ]
  },
  {
   "cell_type": "code",
   "execution_count": 13,
   "id": "e2084fd3-c536-4b09-b9c8-ffa21d9ba030",
   "metadata": {},
   "outputs": [
    {
     "name": "stdout",
     "output_type": "stream",
     "text": [
      "California    38332521\n",
      "Texas         26448193\n",
      "New York      19651127\n",
      "Florida       19552860\n",
      "Illinois      12882135\n",
      "dtype: int64\n"
     ]
    }
   ],
   "source": [
    "population_dict = {'California': 38332521,\n",
    "'Texas': 26448193,\n",
    "'New York': 19651127,\n",
    "'Florida': 19552860,\n",
    "'Illinois': 12882135}\n",
    "population = pd.Series(population_dict)\n",
    "print(population)"
   ]
  },
  {
   "cell_type": "code",
   "execution_count": 14,
   "id": "24c9f43d-80c1-4c28-9421-6b7e3624ec19",
   "metadata": {},
   "outputs": [
    {
     "name": "stdout",
     "output_type": "stream",
     "text": [
      "True\n",
      "False\n"
     ]
    }
   ],
   "source": [
    "print('California' in population)\n",
    "print('Canada' in population)"
   ]
  },
  {
   "cell_type": "code",
   "execution_count": 15,
   "id": "e14028a1-e633-4a8b-b1cc-c910f30be315",
   "metadata": {},
   "outputs": [
    {
     "name": "stdout",
     "output_type": "stream",
     "text": [
      "a    10.0\n",
      "b     NaN\n",
      "c    30.0\n",
      "d     NaN\n",
      "e    50.0\n",
      "dtype: float64\n",
      "\n",
      "Checking for NaN values:\n",
      " a    False\n",
      "b     True\n",
      "c    False\n",
      "d     True\n",
      "e    False\n",
      "dtype: bool\n",
      "\n",
      "Checking for non-NaN values:\n",
      " a     True\n",
      "b    False\n",
      "c     True\n",
      "d    False\n",
      "e     True\n",
      "dtype: bool\n"
     ]
    }
   ],
   "source": [
    "data = [10, np.nan, 30, np.nan, 50]\n",
    "index_labels = ['a', 'b', 'c', 'd', 'e']\n",
    "series_with_nan = pd.Series(data, index=index_labels)\n",
    "print(series_with_nan)\n",
    "print(\"\\nChecking for NaN values:\\n\", series_with_nan.isnull())\n",
    "print(\"\\nChecking for non-NaN values:\\n\", series_with_nan.notnull())"
   ]
  },
  {
   "cell_type": "code",
   "execution_count": 16,
   "id": "cba3ca04-339c-489d-80e1-92c4050c8e06",
   "metadata": {},
   "outputs": [
    {
     "name": "stdout",
     "output_type": "stream",
     "text": [
      "Population Series:\n",
      " California    38332521\n",
      "Texas         26448193\n",
      "New York      19651127\n",
      "Florida       19552860\n",
      "Illinois      12882135\n",
      "dtype: int64\n",
      "\n",
      "Area Series:\n",
      " California        423967\n",
      "Texas             695662\n",
      "New York          141297\n",
      "Florida           170312\n",
      "Illinois          149995\n",
      "North Carolina    123456\n",
      "dtype: int64\n",
      "\n",
      "Population Density:\n",
      " California         90.413926\n",
      "Florida           114.806121\n",
      "Illinois           85.883763\n",
      "New York          139.076746\n",
      "North Carolina           NaN\n",
      "Texas              38.018740\n",
      "dtype: float64\n"
     ]
    }
   ],
   "source": [
    "area_dict = {'California': 423967, 'Texas': 695662, 'New York': 141297,\n",
    "'Florida': 170312, 'Illinois': 149995, 'North Carolina':123456}\n",
    "area = pd.Series(area_dict)\n",
    "print(\"Population Series:\\n\", population)\n",
    "print(\"\\nArea Series:\\n\", area)\n",
    "population_density = population / area\n",
    "print(\"\\nPopulation Density:\\n\", population_density)"
   ]
  },
  {
   "cell_type": "code",
   "execution_count": 18,
   "id": "56f59d33-260b-439a-abba-0ccb5f031ea7",
   "metadata": {},
   "outputs": [
    {
     "name": "stdout",
     "output_type": "stream",
     "text": [
      "\n",
      "Total Population:\n",
      " California    38332521\n",
      "Texas         26448193\n",
      "Florida       19552860\n",
      "Illinois      12882135\n",
      "dtype: int64\n"
     ]
    }
   ],
   "source": [
    "male_population_dict = {'California': 19000000, 'Texas': 13000000,\n",
    "'Florida': 9600000, 'Illinois': 6300000}\n",
    "female_population_dict = {'California': 19332521, 'Texas': 13448193,\n",
    "'Florida': 9952860, 'Illinois': 6582135}\n",
    "male_population = pd.Series(male_population_dict)\n",
    "female_population = pd.Series(female_population_dict)\n",
    "\n",
    "total_population = male_population + female_population\n",
    "print(\"\\nTotal Population:\\n\", total_population)"
   ]
  },
  {
   "cell_type": "code",
   "execution_count": 19,
   "id": "1d90e40d-c655-4fdd-b24a-3f0fd4c0a4e8",
   "metadata": {},
   "outputs": [
    {
     "name": "stdout",
     "output_type": "stream",
     "text": [
      "state\n",
      "California    38332521\n",
      "Texas         26448193\n",
      "Florida       19552860\n",
      "Illinois      12882135\n",
      "Name: population, dtype: int64\n"
     ]
    }
   ],
   "source": [
    "total_population.name = 'population'\n",
    "total_population.index.name = 'state'\n",
    "print(total_population)"
   ]
  },
  {
   "cell_type": "code",
   "execution_count": 20,
   "id": "8cb4449c-a899-4440-9387-3a388ab58a18",
   "metadata": {},
   "outputs": [
    {
     "name": "stdout",
     "output_type": "stream",
     "text": [
      "d    4.5\n",
      "b    7.2\n",
      "a   -5.3\n",
      "c    3.6\n",
      "dtype: float64\n",
      "a   -5.3\n",
      "b    7.2\n",
      "c    3.6\n",
      "d    4.5\n",
      "e    NaN\n",
      "dtype: float64\n"
     ]
    }
   ],
   "source": [
    "obj = pd.Series([4.5, 7.2, -5.3, 3.6], index=['d', 'b', 'a', 'c'])\n",
    "print(obj)\n",
    "obj2 = obj.reindex(['a', 'b', 'c', 'd', 'e'])\n",
    "print(obj2)"
   ]
  },
  {
   "cell_type": "code",
   "execution_count": 21,
   "id": "e79127fa-6660-4ee1-aab6-351f002e9ce5",
   "metadata": {},
   "outputs": [
    {
     "name": "stdout",
     "output_type": "stream",
     "text": [
      "Total marks= \n",
      " Student 1    385\n",
      "Student 2    393\n",
      "Student 3    433\n",
      "Student 4    382\n",
      "Student 5    371\n",
      "Student 6    434\n",
      "Student 7    420\n",
      "dtype: int64\n",
      "Total Marks for Each Student:\n",
      "Student 1 (Student 1): 385\n",
      "Student 2 (Student 2): 393\n",
      "Student 3 (Student 3): 433\n",
      "Student 4 (Student 4): 382\n",
      "Student 5 (Student 5): 371\n",
      "Student 6 (Student 6): 434\n",
      "Student 7 (Student 7): 420\n"
     ]
    }
   ],
   "source": [
    "import pandas as pd\n",
    "\n",
    "subject1 = pd.Series([80, 75, 92, 68, 70, 95, 88], index=['Student 1', 'Student 2', 'Student 3', 'Student 4', 'Student 5', 'Student 6', 'Student 7'])\n",
    "subject2 = pd.Series([72, 88, 79, 91, 65, 82, 76], index=['Student 1', 'Student 2', 'Student 3', 'Student 4', 'Student 5', 'Student 6', 'Student 7'])\n",
    "subject3 = pd.Series([90, 68, 85, 73, 78, 92, 80], index=['Student 1', 'Student 2', 'Student 3', 'Student 4', 'Student 5', 'Student 6', 'Student 7'])\n",
    "subject4 = pd.Series([65, 92, 82, 88, 75, 79, 85], index=['Student 1', 'Student 2', 'Student 3', 'Student 4', 'Student 5', 'Student 6', 'Student 7'])\n",
    "subject5 = pd.Series([78, 70, 95, 62, 83, 86, 91], index=['Student 1', 'Student 2', 'Student 3', 'Student 4', 'Student 5', 'Student 6', 'Student 7'])\n",
    "\n",
    "total_marks = subject1 + subject2 + subject3 + subject4 + subject5\n",
    "print(\"Total marks= \\n\", total_marks)\n",
    "\n",
    "print(\"Total Marks for Each Student:\")\n",
    "for i, (student, marks) in enumerate(total_marks.items()):\n",
    "    print(f\"Student {i+1} ({student}): {marks}\")"
   ]
  },
  {
   "cell_type": "markdown",
   "id": "e828c8ba-ab90-4f73-8639-b95581b9ebf6",
   "metadata": {},
   "source": [
    "DATAFRAME"
   ]
  },
  {
   "cell_type": "code",
   "execution_count": 22,
   "id": "0ae72452-3255-48e2-9e7d-9021f00bd5fe",
   "metadata": {},
   "outputs": [
    {
     "name": "stdout",
     "output_type": "stream",
     "text": [
      "   calories  duration\n",
      "0       420        50\n",
      "1       380        40\n",
      "2       390        45\n"
     ]
    }
   ],
   "source": [
    "import pandas as pd\n",
    "data = {\n",
    "\"calories\": [420, 380, 390],\n",
    "\"duration\": [50, 40, 45]\n",
    "}\n",
    "df = pd.DataFrame(data)\n",
    "print(df)"
   ]
  },
  {
   "cell_type": "code",
   "execution_count": 23,
   "id": "3b1543ac-5678-4c17-85ca-67330024e95c",
   "metadata": {},
   "outputs": [
    {
     "name": "stdout",
     "output_type": "stream",
     "text": [
      "    state  year  pop\n",
      "0    Ohio  2000  1.5\n",
      "1    Ohio  2001  1.7\n",
      "2    Ohio  2002  3.6\n",
      "3  Nevada  2001  2.4\n",
      "4  Nevada  2002  2.9\n",
      "5  Nevada  2003  3.2\n"
     ]
    }
   ],
   "source": [
    "data = {'state': ['Ohio', 'Ohio', 'Ohio', 'Nevada', 'Nevada', 'Nevada'],\n",
    "'year': [2000, 2001, 2002, 2001, 2002, 2003],\n",
    "'pop': [1.5, 1.7, 3.6, 2.4, 2.9, 3.2]}\n",
    "frame = pd.DataFrame(data)\n",
    "print(frame)"
   ]
  },
  {
   "cell_type": "code",
   "execution_count": 24,
   "id": "129dbcb1-555e-4ccf-baee-d79e9793f6ed",
   "metadata": {},
   "outputs": [
    {
     "name": "stdout",
     "output_type": "stream",
     "text": [
      "   year   state  pop\n",
      "0  2000    Ohio  1.5\n",
      "1  2001    Ohio  1.7\n",
      "2  2002    Ohio  3.6\n",
      "3  2001  Nevada  2.4\n",
      "4  2002  Nevada  2.9\n",
      "5  2003  Nevada  3.2\n"
     ]
    }
   ],
   "source": [
    "frame = pd.DataFrame(data, columns=['year', 'state', 'pop'])\n",
    "print(frame)"
   ]
  },
  {
   "cell_type": "code",
   "execution_count": 26,
   "id": "9067b2a7-21f0-4f5b-9c0f-1d8e6292e58e",
   "metadata": {},
   "outputs": [
    {
     "name": "stdout",
     "output_type": "stream",
     "text": [
      "       year   state  pop debt\n",
      "one    2000    Ohio  1.5  NaN\n",
      "two    2001    Ohio  1.7  NaN\n",
      "three  2002    Ohio  3.6  NaN\n",
      "four   2001  Nevada  2.4  NaN\n",
      "five   2002  Nevada  2.9  NaN\n",
      "six    2003  Nevada  3.2  NaN\n"
     ]
    }
   ],
   "source": [
    "frame2 = pd.DataFrame(data, columns=['year', 'state', 'pop', 'debt'], index=['one','two','three','four','five','six'])\n",
    "print(frame2)"
   ]
  },
  {
   "cell_type": "code",
   "execution_count": 27,
   "id": "8bf86bfb-79b6-4d2a-8f1a-5783ca9f4084",
   "metadata": {},
   "outputs": [
    {
     "name": "stdout",
     "output_type": "stream",
     "text": [
      "one      2000\n",
      "two      2001\n",
      "three    2002\n",
      "four     2001\n",
      "five     2002\n",
      "six      2003\n",
      "Name: year, dtype: int64\n",
      "\n",
      " one        Ohio\n",
      "two        Ohio\n",
      "three      Ohio\n",
      "four     Nevada\n",
      "five     Nevada\n",
      "six      Nevada\n",
      "Name: state, dtype: object\n",
      "\n",
      " one        Ohio\n",
      "two        Ohio\n",
      "three      Ohio\n",
      "four     Nevada\n",
      "five     Nevada\n",
      "six      Nevada\n",
      "Name: state, dtype: object\n"
     ]
    }
   ],
   "source": [
    "print(frame2['year'])\n",
    "print(\"\\n\", frame2['state'])\n",
    "print(\"\\n\", frame2.state)"
   ]
  },
  {
   "cell_type": "code",
   "execution_count": 28,
   "id": "8ae849d4-ae94-4c8a-8b4e-76e357d7a0df",
   "metadata": {},
   "outputs": [
    {
     "name": "stdout",
     "output_type": "stream",
     "text": [
      "year     2000\n",
      "state    Ohio\n",
      "pop       1.5\n",
      "debt      NaN\n",
      "Name: one, dtype: object\n",
      "       year state  pop debt\n",
      "two    2001  Ohio  1.7  NaN\n",
      "three  2002  Ohio  3.6  NaN\n"
     ]
    }
   ],
   "source": [
    "print(frame2.loc['one'])\n",
    "print(frame2.loc[['two', 'three']])"
   ]
  },
  {
   "cell_type": "code",
   "execution_count": 29,
   "id": "ab5b15c9-3745-46ee-92c6-f899be1f0663",
   "metadata": {},
   "outputs": [
    {
     "name": "stdout",
     "output_type": "stream",
     "text": [
      "       year   state  pop  debt\n",
      "one    2000    Ohio  1.5  12.4\n",
      "two    2001    Ohio  1.7  12.4\n",
      "three  2002    Ohio  3.6  12.4\n",
      "four   2001  Nevada  2.4  12.4\n",
      "five   2002  Nevada  2.9  12.4\n",
      "six    2003  Nevada  3.2  12.4\n"
     ]
    }
   ],
   "source": [
    "frame2['debt'] = 12.4\n",
    "print(frame2)"
   ]
  },
  {
   "cell_type": "code",
   "execution_count": 30,
   "id": "ae4e1ef7-34dc-4cbd-a382-5081bf7849ad",
   "metadata": {},
   "outputs": [
    {
     "name": "stdout",
     "output_type": "stream",
     "text": [
      "       year   state  pop  debt\n",
      "one    2000    Ohio  1.5   0.0\n",
      "two    2001    Ohio  1.7   1.0\n",
      "three  2002    Ohio  3.6   2.0\n",
      "four   2001  Nevada  2.4   3.0\n",
      "five   2002  Nevada  2.9   4.0\n",
      "six    2003  Nevada  3.2   5.0\n"
     ]
    }
   ],
   "source": [
    "import numpy as np\n",
    "frame2['debt'] = np.arange(6.)\n",
    "print(frame2)"
   ]
  },
  {
   "cell_type": "code",
   "execution_count": 31,
   "id": "5c25a1ed-2565-479a-a4e7-e91a3f6e1a29",
   "metadata": {},
   "outputs": [
    {
     "name": "stdout",
     "output_type": "stream",
     "text": [
      "       year   state  pop  debt\n",
      "one    2000    Ohio  1.5   NaN\n",
      "two    2001    Ohio  1.7  -1.2\n",
      "three  2002    Ohio  3.6   NaN\n",
      "four   2001  Nevada  2.4  -1.5\n",
      "five   2002  Nevada  2.9  -1.7\n",
      "six    2003  Nevada  3.2   NaN\n"
     ]
    }
   ],
   "source": [
    "val = pd.Series([-1.2, -1.5, -1.7], index=['two', 'four', 'five'])\n",
    "frame2['debt'] = val\n",
    "print(frame2)"
   ]
  },
  {
   "cell_type": "code",
   "execution_count": 32,
   "id": "02a164eb-e5ee-4fc3-8e13-877c620c6b02",
   "metadata": {},
   "outputs": [
    {
     "name": "stdout",
     "output_type": "stream",
     "text": [
      "       year   state  pop  debt  eastern\n",
      "one    2000    Ohio  1.5   NaN     True\n",
      "two    2001    Ohio  1.7  -1.2     True\n",
      "three  2002    Ohio  3.6   NaN     True\n",
      "four   2001  Nevada  2.4  -1.5    False\n",
      "five   2002  Nevada  2.9  -1.7    False\n",
      "six    2003  Nevada  3.2   NaN    False\n"
     ]
    }
   ],
   "source": [
    "frame2['eastern'] = frame2.state == 'Ohio'\n",
    "print(frame2)"
   ]
  },
  {
   "cell_type": "code",
   "execution_count": 33,
   "id": "0d9f883a-fcec-44f9-ae2d-4711a5b5c3f0",
   "metadata": {},
   "outputs": [
    {
     "name": "stdout",
     "output_type": "stream",
     "text": [
      "       year   state  pop  debt\n",
      "one    2000    Ohio  1.5   NaN\n",
      "two    2001    Ohio  1.7  -1.2\n",
      "three  2002    Ohio  3.6   NaN\n",
      "four   2001  Nevada  2.4  -1.5\n",
      "five   2002  Nevada  2.9  -1.7\n",
      "six    2003  Nevada  3.2   NaN\n"
     ]
    }
   ],
   "source": [
    "del frame2['eastern']\n",
    "print(frame2)"
   ]
  },
  {
   "cell_type": "code",
   "execution_count": 34,
   "id": "efbf773e-7c86-4a42-9ee1-9824b5d2b439",
   "metadata": {},
   "outputs": [
    {
     "name": "stdout",
     "output_type": "stream",
     "text": [
      "      Nevada  Ohio\n",
      "2001     2.4   1.7\n",
      "2002     2.9   3.6\n",
      "2000     NaN   1.5\n"
     ]
    }
   ],
   "source": [
    "pop = {'Nevada': {2001: 2.4, 2002: 2.9},\n",
    "'Ohio': {2000: 1.5, 2001: 1.7, 2002: 3.6}}\n",
    "frame3 = pd.DataFrame(pop)\n",
    "print(frame3)"
   ]
  },
  {
   "cell_type": "code",
   "execution_count": 35,
   "id": "5cbb5bfe-facb-450d-870c-f96a58434cd4",
   "metadata": {},
   "outputs": [
    {
     "name": "stdout",
     "output_type": "stream",
     "text": [
      "      Nevada  Ohio\n",
      "2001     2.4   1.7\n",
      "2002     2.9   3.6\n",
      "2003     NaN   NaN\n"
     ]
    }
   ],
   "source": [
    "frame3 = pd.DataFrame(pop, index=[2001, 2002, 2003])\n",
    "print(frame3)"
   ]
  },
  {
   "cell_type": "code",
   "execution_count": 36,
   "id": "60f3805e-d5e5-46b0-956b-49fa5f851a69",
   "metadata": {},
   "outputs": [
    {
     "name": "stdout",
     "output_type": "stream",
     "text": [
      "        2001  2002  2003\n",
      "Nevada   2.4   2.9   NaN\n",
      "Ohio     1.7   3.6   NaN\n"
     ]
    }
   ],
   "source": [
    "print(frame3.T)"
   ]
  },
  {
   "cell_type": "code",
   "execution_count": 37,
   "id": "f5b6dad9-fc2a-4c3f-9459-e1c2a20106a0",
   "metadata": {},
   "outputs": [
    {
     "data": {
      "text/html": [
       "<div>\n",
       "<style scoped>\n",
       "    .dataframe tbody tr th:only-of-type {\n",
       "        vertical-align: middle;\n",
       "    }\n",
       "\n",
       "    .dataframe tbody tr th {\n",
       "        vertical-align: top;\n",
       "    }\n",
       "\n",
       "    .dataframe thead th {\n",
       "        text-align: right;\n",
       "    }\n",
       "</style>\n",
       "<table border=\"1\" class=\"dataframe\">\n",
       "  <thead>\n",
       "    <tr style=\"text-align: right;\">\n",
       "      <th></th>\n",
       "      <th>Ohio</th>\n",
       "      <th>Nevada</th>\n",
       "    </tr>\n",
       "  </thead>\n",
       "  <tbody>\n",
       "    <tr>\n",
       "      <th>2001</th>\n",
       "      <td>1.7</td>\n",
       "      <td>2.4</td>\n",
       "    </tr>\n",
       "    <tr>\n",
       "      <th>2002</th>\n",
       "      <td>3.6</td>\n",
       "      <td>2.9</td>\n",
       "    </tr>\n",
       "  </tbody>\n",
       "</table>\n",
       "</div>"
      ],
      "text/plain": [
       "      Ohio  Nevada\n",
       "2001   1.7     2.4\n",
       "2002   3.6     2.9"
      ]
     },
     "execution_count": 37,
     "metadata": {},
     "output_type": "execute_result"
    }
   ],
   "source": [
    "pdata = {'Ohio': frame3['Ohio'][:-1],\n",
    "'Nevada': frame3['Nevada'][:2]}\n",
    "pd.DataFrame(pdata)"
   ]
  },
  {
   "cell_type": "code",
   "execution_count": 38,
   "id": "774fe544-221a-4300-a230-e1d80e014294",
   "metadata": {},
   "outputs": [
    {
     "name": "stdout",
     "output_type": "stream",
     "text": [
      "number    one  two  three\n",
      "state                    \n",
      "Ohio        0    1      2\n",
      "Colorado    3    4      5\n",
      "New York    6    7      8 \n",
      "\n"
     ]
    },
    {
     "data": {
      "text/html": [
       "<div>\n",
       "<style scoped>\n",
       "    .dataframe tbody tr th:only-of-type {\n",
       "        vertical-align: middle;\n",
       "    }\n",
       "\n",
       "    .dataframe tbody tr th {\n",
       "        vertical-align: top;\n",
       "    }\n",
       "\n",
       "    .dataframe thead th {\n",
       "        text-align: right;\n",
       "    }\n",
       "</style>\n",
       "<table border=\"1\" class=\"dataframe\">\n",
       "  <thead>\n",
       "    <tr style=\"text-align: right;\">\n",
       "      <th>number</th>\n",
       "      <th>one</th>\n",
       "      <th>two</th>\n",
       "      <th>three</th>\n",
       "    </tr>\n",
       "    <tr>\n",
       "      <th>state</th>\n",
       "      <th></th>\n",
       "      <th></th>\n",
       "      <th></th>\n",
       "    </tr>\n",
       "  </thead>\n",
       "  <tbody>\n",
       "    <tr>\n",
       "      <th>Ohio</th>\n",
       "      <td>0</td>\n",
       "      <td>1</td>\n",
       "      <td>2</td>\n",
       "    </tr>\n",
       "    <tr>\n",
       "      <th>Colorado</th>\n",
       "      <td>3</td>\n",
       "      <td>4</td>\n",
       "      <td>5</td>\n",
       "    </tr>\n",
       "    <tr>\n",
       "      <th>New York</th>\n",
       "      <td>6</td>\n",
       "      <td>7</td>\n",
       "      <td>8</td>\n",
       "    </tr>\n",
       "  </tbody>\n",
       "</table>\n",
       "</div>"
      ],
      "text/plain": [
       "number    one  two  three\n",
       "state                    \n",
       "Ohio        0    1      2\n",
       "Colorado    3    4      5\n",
       "New York    6    7      8"
      ]
     },
     "execution_count": 38,
     "metadata": {},
     "output_type": "execute_result"
    }
   ],
   "source": [
    "data = np.arange(0, 9).reshape(3, 3)\n",
    "index = ['Ohio', 'Colorado', 'New York']\n",
    "columns = ['one', 'two', 'three']\n",
    "df = pd.DataFrame(data, index=index, columns=columns)\n",
    "df.index.name = 'state'\n",
    "df.columns.name = 'number'\n",
    "print(df,\"\\n\")\n",
    "df"
   ]
  },
  {
   "cell_type": "code",
   "execution_count": 39,
   "id": "7bc93f47-f45a-41f6-9c2e-6d7fe618f62d",
   "metadata": {},
   "outputs": [
    {
     "name": "stdout",
     "output_type": "stream",
     "text": [
      "a    0\n",
      "b    1\n",
      "c    2\n",
      "d    3\n",
      "e    4\n",
      "dtype: int64\n",
      "Index: Index(['a', 'b', 'c', 'd', 'e'], dtype='object')\n",
      "Index values: ['a' 'b' 'c' 'd' 'e']\n",
      "Is unique: True\n",
      "Index of 'c': 2\n",
      "Slice with 'b':'d': b    1\n",
      "c    2\n",
      "d    3\n",
      "dtype: int64\n",
      "Fancy indexing with ['a', 'e']: a    0\n",
      "e    4\n",
      "dtype: int64\n"
     ]
    }
   ],
   "source": [
    "s = pd.Series(np.arange(5), index=['a', 'b', 'c', 'd', 'e'])\n",
    "print(s)\n",
    "print(\"Index:\", s.index)\n",
    "print(\"Index values:\", s.index.values) \n",
    "print(\"Is unique:\", s.index.is_unique) \n",
    "print(\"Index of 'c':\", s.index.get_loc('c'))\n",
    "print(\"Slice with 'b':'d':\", s['b':'d'])\n",
    "print(\"Fancy indexing with ['a', 'e']:\", s[['a', 'e']])"
   ]
  },
  {
   "cell_type": "code",
   "execution_count": 40,
   "id": "6b2202e1-fd80-4522-95a3-6cb4d4e95e7e",
   "metadata": {},
   "outputs": [
    {
     "name": "stdout",
     "output_type": "stream",
     "text": [
      "d    4.5\n",
      "b    7.2\n",
      "a   -5.3\n",
      "c    3.6\n",
      "dtype: float64\n"
     ]
    },
    {
     "data": {
      "text/plain": [
       "a   -5.3\n",
       "b    7.2\n",
       "c    3.6\n",
       "d    4.5\n",
       "e    NaN\n",
       "dtype: float64"
      ]
     },
     "execution_count": 40,
     "metadata": {},
     "output_type": "execute_result"
    }
   ],
   "source": [
    "import pandas as pd\n",
    "import numpy as np\n",
    "obj = pd.Series([4.5, 7.2, -5.3, 3.6], index=['d', 'b', 'a', 'c'])\n",
    "print(obj)\n",
    "obj2 = obj.reindex(['a', 'b', 'c', 'd', 'e'])\n",
    "obj2"
   ]
  },
  {
   "cell_type": "code",
   "execution_count": 41,
   "id": "2a0d5284-1d7a-44e2-8d54-3c46e3dd7f27",
   "metadata": {},
   "outputs": [
    {
     "name": "stdout",
     "output_type": "stream",
     "text": [
      "0      blue\n",
      "2    purple\n",
      "4    yellow\n",
      "dtype: object\n"
     ]
    },
    {
     "data": {
      "text/plain": [
       "0      blue\n",
       "1      blue\n",
       "2    purple\n",
       "3    purple\n",
       "4    yellow\n",
       "5    yellow\n",
       "dtype: object"
      ]
     },
     "execution_count": 41,
     "metadata": {},
     "output_type": "execute_result"
    }
   ],
   "source": [
    "obj3 = pd.Series(['blue', 'purple', 'yellow'], index=[0, 2, 4])\n",
    "print(obj3)\n",
    "obj4 = obj3.reindex(range(6), method='ffill') #forward-fills the values\n",
    "obj4"
   ]
  },
  {
   "cell_type": "code",
   "execution_count": 42,
   "id": "51f6600f-d779-4889-8d83-0621ddf607bb",
   "metadata": {},
   "outputs": [
    {
     "name": "stdout",
     "output_type": "stream",
     "text": [
      "Reindexing rows:\n",
      "a   -5.3\n",
      "b    7.2\n",
      "c    3.6\n",
      "d    4.5\n",
      "e    NaN\n",
      "dtype: float64\n",
      "\n",
      "Reindexing columns:\n",
      "   Texas  Utah  California\n",
      "a      1   NaN           2\n",
      "c      4   NaN           5\n",
      "d      7   NaN           8\n",
      "\n",
      "Reindexing both rows and columns:\n",
      "   Dallas  Texas  Utah\n",
      "a     NaN    1.0   NaN\n",
      "b     NaN    NaN   NaN\n",
      "c     NaN    4.0   NaN\n",
      "d     NaN    7.0   NaN\n"
     ]
    }
   ],
   "source": [
    "import pandas as pd\n",
    "import numpy as np\n",
    "\n",
    "obj = pd.Series([4.5, 7.2, -5.3, 3.6], index=['d', 'b', 'a', 'c'])\n",
    "obj2 = obj.reindex(['a', 'b', 'c', 'd', 'e'])\n",
    "print(\"Reindexing rows:\")\n",
    "print(obj2)\n",
    "\n",
    "df = pd.DataFrame(np.arange(9).reshape((3, 3)),\n",
    "                  index=['a', 'c', 'd'],\n",
    "                  columns=['Ohio', 'Texas', 'California'])\n",
    "df2 = df.reindex(columns=['Texas', 'Utah', 'California'])\n",
    "print(\"\\nReindexing columns:\")\n",
    "print(df2)\n",
    "\n",
    "df3 = df.reindex(index=['a', 'b', 'c', 'd'], columns=[\"Dallas\", 'Texas', 'Utah'])\n",
    "print(\"\\nReindexing both rows and columns:\")\n",
    "print(df3)"
   ]
  },
  {
   "cell_type": "code",
   "execution_count": 43,
   "id": "966b437a-6258-45bb-b3fa-a9eb915d7150",
   "metadata": {},
   "outputs": [
    {
     "name": "stdout",
     "output_type": "stream",
     "text": [
      "Method 'ffill':\n",
      "0      blue\n",
      "1      blue\n",
      "2    purple\n",
      "3    purple\n",
      "4    yellow\n",
      "5    yellow\n",
      "dtype: object\n",
      "\n",
      "Method 'bfill':\n",
      "0      blue\n",
      "1    purple\n",
      "2    purple\n",
      "3    yellow\n",
      "4    yellow\n",
      "5       NaN\n",
      "dtype: object\n",
      "\n",
      "Fill value:\n",
      "0      blue\n",
      "1       red\n",
      "2    purple\n",
      "3       red\n",
      "4    yellow\n",
      "5       red\n",
      "dtype: object\n",
      "\n",
      "Limit:\n",
      "0    1.0\n",
      "1    1.0\n",
      "2    2.0\n",
      "3    2.0\n",
      "4    NaN\n",
      "5    3.0\n",
      "6    3.0\n",
      "dtype: float64\n"
     ]
    }
   ],
   "source": [
    "obj3 = pd.Series(['blue', 'purple', 'yellow'], index=[0, 2, 4])\n",
    "obj4 = obj3.reindex(range(6), method='ffill')\n",
    "print(\"Method 'ffill':\")\n",
    "print(obj4)\n",
    "\n",
    "obj5 = obj3.reindex(range(6), method='bfill')\n",
    "print(\"\\nMethod 'bfill':\")\n",
    "print(obj5)\n",
    "\n",
    "obj6 = obj3.reindex(range(6), fill_value='red')\n",
    "print(\"\\nFill value:\")\n",
    "print(obj6)\n",
    "\n",
    "obj7 = pd.Series([1, 2, 3], index=[0, 2, 5])\n",
    "obj8 = obj7.reindex(range(7), method='ffill', limit=1)\n",
    "print(\"\\nLimit:\")\n",
    "print(obj8)"
   ]
  },
  {
   "cell_type": "code",
   "execution_count": 44,
   "id": "ff8f1136-477f-40f1-a1a9-799f37bece37",
   "metadata": {},
   "outputs": [
    {
     "name": "stdout",
     "output_type": "stream",
     "text": [
      "\n",
      "Level:\n",
      "                     A         B\n",
      "first second                    \n",
      "bar   one    -1.358001 -0.108189\n",
      "      two    -0.093663 -0.846259\n",
      "baz   one    -0.941388 -0.624430\n",
      "      two     1.112866 -0.662058\n",
      "foo   one     1.208710 -0.235520\n",
      "      two     0.403482  0.822961\n",
      "qux   one     1.168177 -1.173786\n",
      "      two     1.081207  0.236493\n"
     ]
    }
   ],
   "source": [
    "arrays = [['bar', 'bar', 'baz', 'baz', 'foo', 'foo', 'qux', 'qux'],\n",
    "['one', 'two', 'one', 'two', 'one', 'two', 'one', 'two']]\n",
    "tuples = list(zip(*arrays))\n",
    "index = pd.MultiIndex.from_tuples(tuples, names=['first', 'second'])\n",
    "df = pd.DataFrame(np.random.randn(8, 2), index=index, columns=['A', 'B'])\n",
    "df.reindex(['bar', 'baz', 'foo', 'qux'], level='first')\n",
    "print(\"\\nLevel:\")\n",
    "print(df)"
   ]
  },
  {
   "cell_type": "code",
   "execution_count": 45,
   "id": "2634e0e0-bc45-4a04-a51c-2fa575a285f1",
   "metadata": {},
   "outputs": [
    {
     "name": "stdout",
     "output_type": "stream",
     "text": [
      "a    0.0\n",
      "b    1.0\n",
      "d    3.0\n",
      "e    4.0\n",
      "dtype: float64\n"
     ]
    },
    {
     "data": {
      "text/plain": [
       "a    0.0\n",
       "b    1.0\n",
       "e    4.0\n",
       "dtype: float64"
      ]
     },
     "execution_count": 45,
     "metadata": {},
     "output_type": "execute_result"
    }
   ],
   "source": [
    "obj = pd.Series(np.arange(5.), index=['a', 'b', 'c', 'd', 'e'])\n",
    "new_obj = obj.drop('c')\n",
    "print(new_obj)\n",
    "obj.drop(['d', 'c'])"
   ]
  },
  {
   "cell_type": "code",
   "execution_count": 46,
   "id": "64b3fa86-dcba-4c77-83f6-f4a30bef3cce",
   "metadata": {},
   "outputs": [
    {
     "data": {
      "text/html": [
       "<div>\n",
       "<style scoped>\n",
       "    .dataframe tbody tr th:only-of-type {\n",
       "        vertical-align: middle;\n",
       "    }\n",
       "\n",
       "    .dataframe tbody tr th {\n",
       "        vertical-align: top;\n",
       "    }\n",
       "\n",
       "    .dataframe thead th {\n",
       "        text-align: right;\n",
       "    }\n",
       "</style>\n",
       "<table border=\"1\" class=\"dataframe\">\n",
       "  <thead>\n",
       "    <tr style=\"text-align: right;\">\n",
       "      <th></th>\n",
       "      <th>one</th>\n",
       "      <th>two</th>\n",
       "      <th>three</th>\n",
       "      <th>four</th>\n",
       "    </tr>\n",
       "  </thead>\n",
       "  <tbody>\n",
       "    <tr>\n",
       "      <th>Ohio</th>\n",
       "      <td>0</td>\n",
       "      <td>1</td>\n",
       "      <td>2</td>\n",
       "      <td>3</td>\n",
       "    </tr>\n",
       "    <tr>\n",
       "      <th>Dallas</th>\n",
       "      <td>4</td>\n",
       "      <td>5</td>\n",
       "      <td>6</td>\n",
       "      <td>7</td>\n",
       "    </tr>\n",
       "    <tr>\n",
       "      <th>NJ</th>\n",
       "      <td>8</td>\n",
       "      <td>9</td>\n",
       "      <td>10</td>\n",
       "      <td>11</td>\n",
       "    </tr>\n",
       "    <tr>\n",
       "      <th>New York</th>\n",
       "      <td>12</td>\n",
       "      <td>13</td>\n",
       "      <td>14</td>\n",
       "      <td>15</td>\n",
       "    </tr>\n",
       "  </tbody>\n",
       "</table>\n",
       "</div>"
      ],
      "text/plain": [
       "          one  two  three  four\n",
       "Ohio        0    1      2     3\n",
       "Dallas      4    5      6     7\n",
       "NJ          8    9     10    11\n",
       "New York   12   13     14    15"
      ]
     },
     "execution_count": 46,
     "metadata": {},
     "output_type": "execute_result"
    }
   ],
   "source": [
    "data = pd.DataFrame(np.arange(16).reshape((4, 4)),\n",
    "index=['Ohio', 'Dallas', 'NJ', 'New York'],\n",
    "columns=['one', 'two', 'three', 'four'])\n",
    "data"
   ]
  },
  {
   "cell_type": "code",
   "execution_count": 47,
   "id": "3a38dacc-bc44-4860-9d23-296a6e407d35",
   "metadata": {},
   "outputs": [
    {
     "data": {
      "text/html": [
       "<div>\n",
       "<style scoped>\n",
       "    .dataframe tbody tr th:only-of-type {\n",
       "        vertical-align: middle;\n",
       "    }\n",
       "\n",
       "    .dataframe tbody tr th {\n",
       "        vertical-align: top;\n",
       "    }\n",
       "\n",
       "    .dataframe thead th {\n",
       "        text-align: right;\n",
       "    }\n",
       "</style>\n",
       "<table border=\"1\" class=\"dataframe\">\n",
       "  <thead>\n",
       "    <tr style=\"text-align: right;\">\n",
       "      <th></th>\n",
       "      <th>one</th>\n",
       "      <th>two</th>\n",
       "      <th>three</th>\n",
       "      <th>four</th>\n",
       "    </tr>\n",
       "  </thead>\n",
       "  <tbody>\n",
       "    <tr>\n",
       "      <th>Dallas</th>\n",
       "      <td>4</td>\n",
       "      <td>5</td>\n",
       "      <td>6</td>\n",
       "      <td>7</td>\n",
       "    </tr>\n",
       "    <tr>\n",
       "      <th>New York</th>\n",
       "      <td>12</td>\n",
       "      <td>13</td>\n",
       "      <td>14</td>\n",
       "      <td>15</td>\n",
       "    </tr>\n",
       "  </tbody>\n",
       "</table>\n",
       "</div>"
      ],
      "text/plain": [
       "          one  two  three  four\n",
       "Dallas      4    5      6     7\n",
       "New York   12   13     14    15"
      ]
     },
     "execution_count": 47,
     "metadata": {},
     "output_type": "execute_result"
    }
   ],
   "source": [
    "data.drop(['NJ', 'Ohio'])"
   ]
  },
  {
   "cell_type": "code",
   "execution_count": 51,
   "id": "c41056e5-d44e-46c6-b47a-b7c4251dbf91",
   "metadata": {},
   "outputs": [
    {
     "data": {
      "text/html": [
       "<div>\n",
       "<style scoped>\n",
       "    .dataframe tbody tr th:only-of-type {\n",
       "        vertical-align: middle;\n",
       "    }\n",
       "\n",
       "    .dataframe tbody tr th {\n",
       "        vertical-align: top;\n",
       "    }\n",
       "\n",
       "    .dataframe thead th {\n",
       "        text-align: right;\n",
       "    }\n",
       "</style>\n",
       "<table border=\"1\" class=\"dataframe\">\n",
       "  <thead>\n",
       "    <tr style=\"text-align: right;\">\n",
       "      <th></th>\n",
       "      <th>one</th>\n",
       "      <th>two</th>\n",
       "      <th>four</th>\n",
       "    </tr>\n",
       "  </thead>\n",
       "  <tbody>\n",
       "    <tr>\n",
       "      <th>Ohio</th>\n",
       "      <td>0</td>\n",
       "      <td>1</td>\n",
       "      <td>3</td>\n",
       "    </tr>\n",
       "    <tr>\n",
       "      <th>Dallas</th>\n",
       "      <td>4</td>\n",
       "      <td>5</td>\n",
       "      <td>7</td>\n",
       "    </tr>\n",
       "    <tr>\n",
       "      <th>NJ</th>\n",
       "      <td>8</td>\n",
       "      <td>9</td>\n",
       "      <td>11</td>\n",
       "    </tr>\n",
       "    <tr>\n",
       "      <th>New York</th>\n",
       "      <td>12</td>\n",
       "      <td>13</td>\n",
       "      <td>15</td>\n",
       "    </tr>\n",
       "  </tbody>\n",
       "</table>\n",
       "</div>"
      ],
      "text/plain": [
       "          one  two  four\n",
       "Ohio        0    1     3\n",
       "Dallas      4    5     7\n",
       "NJ          8    9    11\n",
       "New York   12   13    15"
      ]
     },
     "execution_count": 51,
     "metadata": {},
     "output_type": "execute_result"
    }
   ],
   "source": [
    "data.drop('three', axis=1)"
   ]
  },
  {
   "cell_type": "code",
   "execution_count": 52,
   "id": "44236fff-e9cd-45b1-bf7e-df98397b3986",
   "metadata": {},
   "outputs": [
    {
     "data": {
      "text/html": [
       "<div>\n",
       "<style scoped>\n",
       "    .dataframe tbody tr th:only-of-type {\n",
       "        vertical-align: middle;\n",
       "    }\n",
       "\n",
       "    .dataframe tbody tr th {\n",
       "        vertical-align: top;\n",
       "    }\n",
       "\n",
       "    .dataframe thead th {\n",
       "        text-align: right;\n",
       "    }\n",
       "</style>\n",
       "<table border=\"1\" class=\"dataframe\">\n",
       "  <thead>\n",
       "    <tr style=\"text-align: right;\">\n",
       "      <th></th>\n",
       "      <th>two</th>\n",
       "      <th>three</th>\n",
       "    </tr>\n",
       "  </thead>\n",
       "  <tbody>\n",
       "    <tr>\n",
       "      <th>Ohio</th>\n",
       "      <td>1</td>\n",
       "      <td>2</td>\n",
       "    </tr>\n",
       "    <tr>\n",
       "      <th>Dallas</th>\n",
       "      <td>5</td>\n",
       "      <td>6</td>\n",
       "    </tr>\n",
       "    <tr>\n",
       "      <th>NJ</th>\n",
       "      <td>9</td>\n",
       "      <td>10</td>\n",
       "    </tr>\n",
       "    <tr>\n",
       "      <th>New York</th>\n",
       "      <td>13</td>\n",
       "      <td>14</td>\n",
       "    </tr>\n",
       "  </tbody>\n",
       "</table>\n",
       "</div>"
      ],
      "text/plain": [
       "          two  three\n",
       "Ohio        1      2\n",
       "Dallas      5      6\n",
       "NJ          9     10\n",
       "New York   13     14"
      ]
     },
     "execution_count": 52,
     "metadata": {},
     "output_type": "execute_result"
    }
   ],
   "source": [
    "data.drop(['one', 'four'], axis='columns')"
   ]
  },
  {
   "cell_type": "code",
   "execution_count": 53,
   "id": "d86a2126-7ebf-48b1-ad60-563770603a8d",
   "metadata": {},
   "outputs": [
    {
     "data": {
      "text/html": [
       "<div>\n",
       "<style scoped>\n",
       "    .dataframe tbody tr th:only-of-type {\n",
       "        vertical-align: middle;\n",
       "    }\n",
       "\n",
       "    .dataframe tbody tr th {\n",
       "        vertical-align: top;\n",
       "    }\n",
       "\n",
       "    .dataframe thead th {\n",
       "        text-align: right;\n",
       "    }\n",
       "</style>\n",
       "<table border=\"1\" class=\"dataframe\">\n",
       "  <thead>\n",
       "    <tr style=\"text-align: right;\">\n",
       "      <th></th>\n",
       "      <th>one</th>\n",
       "      <th>two</th>\n",
       "      <th>three</th>\n",
       "      <th>four</th>\n",
       "    </tr>\n",
       "  </thead>\n",
       "  <tbody>\n",
       "    <tr>\n",
       "      <th>Ohio</th>\n",
       "      <td>0</td>\n",
       "      <td>1</td>\n",
       "      <td>2</td>\n",
       "      <td>3</td>\n",
       "    </tr>\n",
       "    <tr>\n",
       "      <th>Dallas</th>\n",
       "      <td>4</td>\n",
       "      <td>5</td>\n",
       "      <td>6</td>\n",
       "      <td>7</td>\n",
       "    </tr>\n",
       "    <tr>\n",
       "      <th>NJ</th>\n",
       "      <td>8</td>\n",
       "      <td>9</td>\n",
       "      <td>10</td>\n",
       "      <td>11</td>\n",
       "    </tr>\n",
       "    <tr>\n",
       "      <th>New York</th>\n",
       "      <td>12</td>\n",
       "      <td>13</td>\n",
       "      <td>14</td>\n",
       "      <td>15</td>\n",
       "    </tr>\n",
       "  </tbody>\n",
       "</table>\n",
       "</div>"
      ],
      "text/plain": [
       "          one  two  three  four\n",
       "Ohio        0    1      2     3\n",
       "Dallas      4    5      6     7\n",
       "NJ          8    9     10    11\n",
       "New York   12   13     14    15"
      ]
     },
     "execution_count": 53,
     "metadata": {},
     "output_type": "execute_result"
    }
   ],
   "source": [
    "data"
   ]
  },
  {
   "cell_type": "code",
   "execution_count": 54,
   "id": "f1328ee4-2561-4a3a-bd86-9039a0399421",
   "metadata": {},
   "outputs": [
    {
     "name": "stdout",
     "output_type": "stream",
     "text": [
      "          one  two  three  four\n",
      "Dallas      4    5      6     7\n",
      "New York   12   13     14    15\n"
     ]
    }
   ],
   "source": [
    "data.drop(['NJ', 'Ohio'], inplace=True)\n",
    "print(data)"
   ]
  },
  {
   "cell_type": "code",
   "execution_count": 55,
   "id": "4c1b0eef-e755-402e-a0b3-0b9cb8e4d7cc",
   "metadata": {},
   "outputs": [
    {
     "data": {
      "text/html": [
       "<div>\n",
       "<style scoped>\n",
       "    .dataframe tbody tr th:only-of-type {\n",
       "        vertical-align: middle;\n",
       "    }\n",
       "\n",
       "    .dataframe tbody tr th {\n",
       "        vertical-align: top;\n",
       "    }\n",
       "\n",
       "    .dataframe thead th {\n",
       "        text-align: right;\n",
       "    }\n",
       "</style>\n",
       "<table border=\"1\" class=\"dataframe\">\n",
       "  <thead>\n",
       "    <tr style=\"text-align: right;\">\n",
       "      <th></th>\n",
       "      <th>one</th>\n",
       "      <th>two</th>\n",
       "      <th>three</th>\n",
       "      <th>four</th>\n",
       "    </tr>\n",
       "  </thead>\n",
       "  <tbody>\n",
       "    <tr>\n",
       "      <th>Dallas</th>\n",
       "      <td>4</td>\n",
       "      <td>5</td>\n",
       "      <td>6</td>\n",
       "      <td>7</td>\n",
       "    </tr>\n",
       "    <tr>\n",
       "      <th>New York</th>\n",
       "      <td>12</td>\n",
       "      <td>13</td>\n",
       "      <td>14</td>\n",
       "      <td>15</td>\n",
       "    </tr>\n",
       "  </tbody>\n",
       "</table>\n",
       "</div>"
      ],
      "text/plain": [
       "          one  two  three  four\n",
       "Dallas      4    5      6     7\n",
       "New York   12   13     14    15"
      ]
     },
     "execution_count": 55,
     "metadata": {},
     "output_type": "execute_result"
    }
   ],
   "source": [
    "data"
   ]
  },
  {
   "cell_type": "code",
   "execution_count": 56,
   "id": "1737ed94-973d-4e8e-9cf2-6ebc0408883e",
   "metadata": {},
   "outputs": [
    {
     "name": "stdout",
     "output_type": "stream",
     "text": [
      "obj['b']= \n",
      " 1.0\n",
      "obj[1]= \n",
      " 1.0\n",
      "obj[2:4]= \n",
      " c    2.0\n",
      "d    3.0\n",
      "dtype: float64\n",
      "obj[['b', 'a', 'd']]= \n",
      " b    1.0\n",
      "a    0.0\n",
      "d    3.0\n",
      "dtype: float64\n",
      "obj[b:d]= \n",
      " b    1.0\n",
      "c    2.0\n",
      "d    3.0\n",
      "dtype: float64\n",
      "obj[[1, 3]]= \n",
      " b    1.0\n",
      "d    3.0\n",
      "dtype: float64\n",
      "obj[obj < 2]= \n",
      " a    0.0\n",
      "b    1.0\n",
      "dtype: float64\n"
     ]
    },
    {
     "name": "stderr",
     "output_type": "stream",
     "text": [
      "C:\\Users\\archa\\AppData\\Local\\Temp\\ipykernel_12160\\3570924658.py:3: FutureWarning: Series.__getitem__ treating keys as positions is deprecated. In a future version, integer keys will always be treated as labels (consistent with DataFrame behavior). To access a value by position, use `ser.iloc[pos]`\n",
      "  print(\"obj[1]= \\n\",obj[1])\n",
      "C:\\Users\\archa\\AppData\\Local\\Temp\\ipykernel_12160\\3570924658.py:7: FutureWarning: Series.__getitem__ treating keys as positions is deprecated. In a future version, integer keys will always be treated as labels (consistent with DataFrame behavior). To access a value by position, use `ser.iloc[pos]`\n",
      "  print(\"obj[[1, 3]]= \\n\",obj[[1, 3]])\n"
     ]
    }
   ],
   "source": [
    "obj = pd.Series(np.arange(4.), index=['a', 'b', 'c', 'd'])\n",
    "print(\"obj['b']= \\n\",obj['b'])\n",
    "print(\"obj[1]= \\n\",obj[1])\n",
    "print(\"obj[2:4]= \\n\",obj[2:4])\n",
    "print(\"obj[['b', 'a', 'd']]= \\n\",obj[['b', 'a', 'd']])\n",
    "print(\"obj[b:d]= \\n\",obj['b':'d']) #no n-1 concept\n",
    "print(\"obj[[1, 3]]= \\n\",obj[[1, 3]])\n",
    "print(\"obj[obj < 2]= \\n\",obj[obj < 2])"
   ]
  },
  {
   "cell_type": "code",
   "execution_count": 58,
   "id": "26dd1222-2174-4573-bd78-70ea24b1ca9f",
   "metadata": {},
   "outputs": [
    {
     "data": {
      "text/html": [
       "<div>\n",
       "<style scoped>\n",
       "    .dataframe tbody tr th:only-of-type {\n",
       "        vertical-align: middle;\n",
       "    }\n",
       "\n",
       "    .dataframe tbody tr th {\n",
       "        vertical-align: top;\n",
       "    }\n",
       "\n",
       "    .dataframe thead th {\n",
       "        text-align: right;\n",
       "    }\n",
       "</style>\n",
       "<table border=\"1\" class=\"dataframe\">\n",
       "  <thead>\n",
       "    <tr style=\"text-align: right;\">\n",
       "      <th></th>\n",
       "      <th>one</th>\n",
       "      <th>two</th>\n",
       "      <th>three</th>\n",
       "      <th>four</th>\n",
       "    </tr>\n",
       "  </thead>\n",
       "  <tbody>\n",
       "    <tr>\n",
       "      <th>Ohio</th>\n",
       "      <td>0</td>\n",
       "      <td>1</td>\n",
       "      <td>2</td>\n",
       "      <td>3</td>\n",
       "    </tr>\n",
       "    <tr>\n",
       "      <th>Dallas</th>\n",
       "      <td>4</td>\n",
       "      <td>5</td>\n",
       "      <td>6</td>\n",
       "      <td>7</td>\n",
       "    </tr>\n",
       "    <tr>\n",
       "      <th>Boston</th>\n",
       "      <td>8</td>\n",
       "      <td>9</td>\n",
       "      <td>10</td>\n",
       "      <td>11</td>\n",
       "    </tr>\n",
       "    <tr>\n",
       "      <th>NJ</th>\n",
       "      <td>12</td>\n",
       "      <td>13</td>\n",
       "      <td>14</td>\n",
       "      <td>15</td>\n",
       "    </tr>\n",
       "    <tr>\n",
       "      <th>New York</th>\n",
       "      <td>16</td>\n",
       "      <td>17</td>\n",
       "      <td>18</td>\n",
       "      <td>19</td>\n",
       "    </tr>\n",
       "    <tr>\n",
       "      <th>Austin</th>\n",
       "      <td>20</td>\n",
       "      <td>21</td>\n",
       "      <td>22</td>\n",
       "      <td>23</td>\n",
       "    </tr>\n",
       "  </tbody>\n",
       "</table>\n",
       "</div>"
      ],
      "text/plain": [
       "          one  two  three  four\n",
       "Ohio        0    1      2     3\n",
       "Dallas      4    5      6     7\n",
       "Boston      8    9     10    11\n",
       "NJ         12   13     14    15\n",
       "New York   16   17     18    19\n",
       "Austin     20   21     22    23"
      ]
     },
     "execution_count": 58,
     "metadata": {},
     "output_type": "execute_result"
    }
   ],
   "source": [
    "data = pd.DataFrame(np.arange(24).reshape((6, 4)),\n",
    "index=['Ohio', 'Dallas', 'Boston', 'NJ', 'New York', 'Austin'],\n",
    "columns=['one', 'two', 'three', 'four'])\n",
    "data"
   ]
  },
  {
   "cell_type": "code",
   "execution_count": 59,
   "id": "f30bcb40-26f6-4304-89d6-80d7e2d816d2",
   "metadata": {},
   "outputs": [
    {
     "data": {
      "text/plain": [
       "Ohio         1\n",
       "Dallas       5\n",
       "Boston       9\n",
       "NJ          13\n",
       "New York    17\n",
       "Austin      21\n",
       "Name: two, dtype: int64"
      ]
     },
     "execution_count": 59,
     "metadata": {},
     "output_type": "execute_result"
    }
   ],
   "source": [
    "data['two']"
   ]
  },
  {
   "cell_type": "code",
   "execution_count": 60,
   "id": "dff27909-2b80-4fee-934c-93db1d0fdb54",
   "metadata": {},
   "outputs": [
    {
     "data": {
      "text/html": [
       "<div>\n",
       "<style scoped>\n",
       "    .dataframe tbody tr th:only-of-type {\n",
       "        vertical-align: middle;\n",
       "    }\n",
       "\n",
       "    .dataframe tbody tr th {\n",
       "        vertical-align: top;\n",
       "    }\n",
       "\n",
       "    .dataframe thead th {\n",
       "        text-align: right;\n",
       "    }\n",
       "</style>\n",
       "<table border=\"1\" class=\"dataframe\">\n",
       "  <thead>\n",
       "    <tr style=\"text-align: right;\">\n",
       "      <th></th>\n",
       "      <th>one</th>\n",
       "      <th>two</th>\n",
       "      <th>three</th>\n",
       "      <th>four</th>\n",
       "    </tr>\n",
       "  </thead>\n",
       "  <tbody>\n",
       "    <tr>\n",
       "      <th>Dallas</th>\n",
       "      <td>4</td>\n",
       "      <td>5</td>\n",
       "      <td>6</td>\n",
       "      <td>7</td>\n",
       "    </tr>\n",
       "    <tr>\n",
       "      <th>Boston</th>\n",
       "      <td>8</td>\n",
       "      <td>9</td>\n",
       "      <td>10</td>\n",
       "      <td>11</td>\n",
       "    </tr>\n",
       "    <tr>\n",
       "      <th>NJ</th>\n",
       "      <td>12</td>\n",
       "      <td>13</td>\n",
       "      <td>14</td>\n",
       "      <td>15</td>\n",
       "    </tr>\n",
       "    <tr>\n",
       "      <th>New York</th>\n",
       "      <td>16</td>\n",
       "      <td>17</td>\n",
       "      <td>18</td>\n",
       "      <td>19</td>\n",
       "    </tr>\n",
       "  </tbody>\n",
       "</table>\n",
       "</div>"
      ],
      "text/plain": [
       "          one  two  three  four\n",
       "Dallas      4    5      6     7\n",
       "Boston      8    9     10    11\n",
       "NJ         12   13     14    15\n",
       "New York   16   17     18    19"
      ]
     },
     "execution_count": 60,
     "metadata": {},
     "output_type": "execute_result"
    }
   ],
   "source": [
    "data[1:5]"
   ]
  },
  {
   "cell_type": "code",
   "execution_count": 61,
   "id": "ed13faf4-9833-4c45-8c6c-bd4c3ef321d1",
   "metadata": {},
   "outputs": [
    {
     "data": {
      "text/plain": [
       "two      5\n",
       "three    6\n",
       "Name: Dallas, dtype: int64"
      ]
     },
     "execution_count": 61,
     "metadata": {},
     "output_type": "execute_result"
    }
   ],
   "source": [
    "data.loc['Dallas', ['two', 'three']]"
   ]
  },
  {
   "cell_type": "code",
   "execution_count": 66,
   "id": "58a0c3a1-cab4-479a-a2e2-b499331b18ca",
   "metadata": {},
   "outputs": [
    {
     "name": "stdout",
     "output_type": "stream",
     "text": [
      "Dallas       5\n",
      "Boston       9\n",
      "NJ          13\n",
      "New York    17\n",
      "Name: two, dtype: int64\n"
     ]
    }
   ],
   "source": [
    "print(data.loc['Dallas':'New York', 'two'])"
   ]
  },
  {
   "cell_type": "code",
   "execution_count": 63,
   "id": "846f0c4f-6029-4950-a74b-f9720e907050",
   "metadata": {},
   "outputs": [
    {
     "data": {
      "text/plain": [
       "two    5\n",
       "Name: Dallas, dtype: int64"
      ]
     },
     "execution_count": 63,
     "metadata": {},
     "output_type": "execute_result"
    }
   ],
   "source": [
    "data.loc['Dallas', ['two']]"
   ]
  },
  {
   "cell_type": "code",
   "execution_count": 64,
   "id": "fcffe3ac-1394-4cad-a60d-61f76c131346",
   "metadata": {},
   "outputs": [
    {
     "data": {
      "text/plain": [
       "np.int64(5)"
      ]
     },
     "execution_count": 64,
     "metadata": {},
     "output_type": "execute_result"
    }
   ],
   "source": [
    "data.loc['Dallas', 'two']"
   ]
  },
  {
   "cell_type": "code",
   "execution_count": 65,
   "id": "5ee30552-45f0-4734-bb00-3bd2d6221412",
   "metadata": {},
   "outputs": [
    {
     "data": {
      "text/plain": [
       "np.int64(4)"
      ]
     },
     "execution_count": 65,
     "metadata": {},
     "output_type": "execute_result"
    }
   ],
   "source": [
    "data.at['Dallas', 'one']"
   ]
  },
  {
   "cell_type": "code",
   "execution_count": 67,
   "id": "d0589436-3e3a-4f72-957e-3304d79aacbc",
   "metadata": {},
   "outputs": [
    {
     "data": {
      "text/plain": [
       "one      12\n",
       "two      13\n",
       "three    14\n",
       "four     15\n",
       "Name: NJ, dtype: int64"
      ]
     },
     "execution_count": 67,
     "metadata": {},
     "output_type": "execute_result"
    }
   ],
   "source": [
    "data.iloc[3]"
   ]
  },
  {
   "cell_type": "code",
   "execution_count": 68,
   "id": "74cc68b3-00ac-457e-b5e1-b8b80e81f5e5",
   "metadata": {},
   "outputs": [
    {
     "data": {
      "text/html": [
       "<div>\n",
       "<style scoped>\n",
       "    .dataframe tbody tr th:only-of-type {\n",
       "        vertical-align: middle;\n",
       "    }\n",
       "\n",
       "    .dataframe tbody tr th {\n",
       "        vertical-align: top;\n",
       "    }\n",
       "\n",
       "    .dataframe thead th {\n",
       "        text-align: right;\n",
       "    }\n",
       "</style>\n",
       "<table border=\"1\" class=\"dataframe\">\n",
       "  <thead>\n",
       "    <tr style=\"text-align: right;\">\n",
       "      <th></th>\n",
       "      <th>one</th>\n",
       "      <th>two</th>\n",
       "    </tr>\n",
       "  </thead>\n",
       "  <tbody>\n",
       "    <tr>\n",
       "      <th>Boston</th>\n",
       "      <td>8</td>\n",
       "      <td>9</td>\n",
       "    </tr>\n",
       "    <tr>\n",
       "      <th>NJ</th>\n",
       "      <td>12</td>\n",
       "      <td>13</td>\n",
       "    </tr>\n",
       "    <tr>\n",
       "      <th>New York</th>\n",
       "      <td>16</td>\n",
       "      <td>17</td>\n",
       "    </tr>\n",
       "  </tbody>\n",
       "</table>\n",
       "</div>"
      ],
      "text/plain": [
       "          one  two\n",
       "Boston      8    9\n",
       "NJ         12   13\n",
       "New York   16   17"
      ]
     },
     "execution_count": 68,
     "metadata": {},
     "output_type": "execute_result"
    }
   ],
   "source": [
    "data.iloc[2:5, 0:2]"
   ]
  },
  {
   "cell_type": "code",
   "execution_count": 69,
   "id": "7752902b-6a4e-4b6f-9684-a829987a53ad",
   "metadata": {},
   "outputs": [
    {
     "data": {
      "text/html": [
       "<div>\n",
       "<style scoped>\n",
       "    .dataframe tbody tr th:only-of-type {\n",
       "        vertical-align: middle;\n",
       "    }\n",
       "\n",
       "    .dataframe tbody tr th {\n",
       "        vertical-align: top;\n",
       "    }\n",
       "\n",
       "    .dataframe thead th {\n",
       "        text-align: right;\n",
       "    }\n",
       "</style>\n",
       "<table border=\"1\" class=\"dataframe\">\n",
       "  <thead>\n",
       "    <tr style=\"text-align: right;\">\n",
       "      <th></th>\n",
       "      <th>one</th>\n",
       "      <th>four</th>\n",
       "    </tr>\n",
       "  </thead>\n",
       "  <tbody>\n",
       "    <tr>\n",
       "      <th>Dallas</th>\n",
       "      <td>4</td>\n",
       "      <td>7</td>\n",
       "    </tr>\n",
       "    <tr>\n",
       "      <th>NJ</th>\n",
       "      <td>12</td>\n",
       "      <td>15</td>\n",
       "    </tr>\n",
       "    <tr>\n",
       "      <th>Austin</th>\n",
       "      <td>20</td>\n",
       "      <td>23</td>\n",
       "    </tr>\n",
       "  </tbody>\n",
       "</table>\n",
       "</div>"
      ],
      "text/plain": [
       "        one  four\n",
       "Dallas    4     7\n",
       "NJ       12    15\n",
       "Austin   20    23"
      ]
     },
     "execution_count": 69,
     "metadata": {},
     "output_type": "execute_result"
    }
   ],
   "source": [
    "data.iloc[[1, 3, 5], [0, 3]]"
   ]
  },
  {
   "cell_type": "code",
   "execution_count": 70,
   "id": "52e3eb57-7c26-4755-a84a-29a3c1b80eca",
   "metadata": {},
   "outputs": [
    {
     "data": {
      "text/html": [
       "<div>\n",
       "<style scoped>\n",
       "    .dataframe tbody tr th:only-of-type {\n",
       "        vertical-align: middle;\n",
       "    }\n",
       "\n",
       "    .dataframe tbody tr th {\n",
       "        vertical-align: top;\n",
       "    }\n",
       "\n",
       "    .dataframe thead th {\n",
       "        text-align: right;\n",
       "    }\n",
       "</style>\n",
       "<table border=\"1\" class=\"dataframe\">\n",
       "  <thead>\n",
       "    <tr style=\"text-align: right;\">\n",
       "      <th></th>\n",
       "      <th>one</th>\n",
       "      <th>two</th>\n",
       "      <th>three</th>\n",
       "      <th>four</th>\n",
       "    </tr>\n",
       "  </thead>\n",
       "  <tbody>\n",
       "    <tr>\n",
       "      <th>Dallas</th>\n",
       "      <td>4</td>\n",
       "      <td>5</td>\n",
       "      <td>6</td>\n",
       "      <td>7</td>\n",
       "    </tr>\n",
       "    <tr>\n",
       "      <th>Boston</th>\n",
       "      <td>8</td>\n",
       "      <td>9</td>\n",
       "      <td>10</td>\n",
       "      <td>11</td>\n",
       "    </tr>\n",
       "    <tr>\n",
       "      <th>NJ</th>\n",
       "      <td>12</td>\n",
       "      <td>13</td>\n",
       "      <td>14</td>\n",
       "      <td>15</td>\n",
       "    </tr>\n",
       "  </tbody>\n",
       "</table>\n",
       "</div>"
      ],
      "text/plain": [
       "        one  two  three  four\n",
       "Dallas    4    5      6     7\n",
       "Boston    8    9     10    11\n",
       "NJ       12   13     14    15"
      ]
     },
     "execution_count": 70,
     "metadata": {},
     "output_type": "execute_result"
    }
   ],
   "source": [
    "data.iloc[1:4, :]"
   ]
  },
  {
   "cell_type": "code",
   "execution_count": 71,
   "id": "4428f294-c572-4a24-b04c-0ecc9e5bd0e4",
   "metadata": {},
   "outputs": [
    {
     "data": {
      "text/html": [
       "<div>\n",
       "<style scoped>\n",
       "    .dataframe tbody tr th:only-of-type {\n",
       "        vertical-align: middle;\n",
       "    }\n",
       "\n",
       "    .dataframe tbody tr th {\n",
       "        vertical-align: top;\n",
       "    }\n",
       "\n",
       "    .dataframe thead th {\n",
       "        text-align: right;\n",
       "    }\n",
       "</style>\n",
       "<table border=\"1\" class=\"dataframe\">\n",
       "  <thead>\n",
       "    <tr style=\"text-align: right;\">\n",
       "      <th></th>\n",
       "      <th>two</th>\n",
       "      <th>three</th>\n",
       "    </tr>\n",
       "  </thead>\n",
       "  <tbody>\n",
       "    <tr>\n",
       "      <th>Ohio</th>\n",
       "      <td>1</td>\n",
       "      <td>2</td>\n",
       "    </tr>\n",
       "    <tr>\n",
       "      <th>Dallas</th>\n",
       "      <td>5</td>\n",
       "      <td>6</td>\n",
       "    </tr>\n",
       "    <tr>\n",
       "      <th>Boston</th>\n",
       "      <td>9</td>\n",
       "      <td>10</td>\n",
       "    </tr>\n",
       "    <tr>\n",
       "      <th>NJ</th>\n",
       "      <td>13</td>\n",
       "      <td>14</td>\n",
       "    </tr>\n",
       "    <tr>\n",
       "      <th>New York</th>\n",
       "      <td>17</td>\n",
       "      <td>18</td>\n",
       "    </tr>\n",
       "    <tr>\n",
       "      <th>Austin</th>\n",
       "      <td>21</td>\n",
       "      <td>22</td>\n",
       "    </tr>\n",
       "  </tbody>\n",
       "</table>\n",
       "</div>"
      ],
      "text/plain": [
       "          two  three\n",
       "Ohio        1      2\n",
       "Dallas      5      6\n",
       "Boston      9     10\n",
       "NJ         13     14\n",
       "New York   17     18\n",
       "Austin     21     22"
      ]
     },
     "execution_count": 71,
     "metadata": {},
     "output_type": "execute_result"
    }
   ],
   "source": [
    "data.iloc[:, 1:3]"
   ]
  },
  {
   "cell_type": "code",
   "execution_count": 72,
   "id": "b40350a4-a326-4b05-84ec-c9148a4ccc92",
   "metadata": {},
   "outputs": [
    {
     "data": {
      "text/plain": [
       "np.int64(5)"
      ]
     },
     "execution_count": 72,
     "metadata": {},
     "output_type": "execute_result"
    }
   ],
   "source": [
    "data.iloc[1, 1]"
   ]
  },
  {
   "cell_type": "code",
   "execution_count": 73,
   "id": "0cd7e026-15a6-4da4-8759-f9ed726871c4",
   "metadata": {},
   "outputs": [
    {
     "data": {
      "text/plain": [
       "np.int64(5)"
      ]
     },
     "execution_count": 73,
     "metadata": {},
     "output_type": "execute_result"
    }
   ],
   "source": [
    "data.iat[1, 1]"
   ]
  },
  {
   "cell_type": "code",
   "execution_count": 74,
   "id": "5747fdd2-1239-4df4-9aea-a592edd5f1d6",
   "metadata": {},
   "outputs": [
    {
     "name": "stdout",
     "output_type": "stream",
     "text": [
      "Ohio        False\n",
      "Dallas       True\n",
      "Boston       True\n",
      "NJ           True\n",
      "New York     True\n",
      "Austin       True\n",
      "Name: three, dtype: bool\n"
     ]
    },
    {
     "data": {
      "text/html": [
       "<div>\n",
       "<style scoped>\n",
       "    .dataframe tbody tr th:only-of-type {\n",
       "        vertical-align: middle;\n",
       "    }\n",
       "\n",
       "    .dataframe tbody tr th {\n",
       "        vertical-align: top;\n",
       "    }\n",
       "\n",
       "    .dataframe thead th {\n",
       "        text-align: right;\n",
       "    }\n",
       "</style>\n",
       "<table border=\"1\" class=\"dataframe\">\n",
       "  <thead>\n",
       "    <tr style=\"text-align: right;\">\n",
       "      <th></th>\n",
       "      <th>one</th>\n",
       "      <th>two</th>\n",
       "      <th>three</th>\n",
       "      <th>four</th>\n",
       "    </tr>\n",
       "  </thead>\n",
       "  <tbody>\n",
       "    <tr>\n",
       "      <th>Dallas</th>\n",
       "      <td>4</td>\n",
       "      <td>5</td>\n",
       "      <td>6</td>\n",
       "      <td>7</td>\n",
       "    </tr>\n",
       "    <tr>\n",
       "      <th>Boston</th>\n",
       "      <td>8</td>\n",
       "      <td>9</td>\n",
       "      <td>10</td>\n",
       "      <td>11</td>\n",
       "    </tr>\n",
       "    <tr>\n",
       "      <th>NJ</th>\n",
       "      <td>12</td>\n",
       "      <td>13</td>\n",
       "      <td>14</td>\n",
       "      <td>15</td>\n",
       "    </tr>\n",
       "    <tr>\n",
       "      <th>New York</th>\n",
       "      <td>16</td>\n",
       "      <td>17</td>\n",
       "      <td>18</td>\n",
       "      <td>19</td>\n",
       "    </tr>\n",
       "    <tr>\n",
       "      <th>Austin</th>\n",
       "      <td>20</td>\n",
       "      <td>21</td>\n",
       "      <td>22</td>\n",
       "      <td>23</td>\n",
       "    </tr>\n",
       "  </tbody>\n",
       "</table>\n",
       "</div>"
      ],
      "text/plain": [
       "          one  two  three  four\n",
       "Dallas      4    5      6     7\n",
       "Boston      8    9     10    11\n",
       "NJ         12   13     14    15\n",
       "New York   16   17     18    19\n",
       "Austin     20   21     22    23"
      ]
     },
     "execution_count": 74,
     "metadata": {},
     "output_type": "execute_result"
    }
   ],
   "source": [
    "print(data.three > 5)\n",
    "data[data.three > 5]"
   ]
  },
  {
   "cell_type": "code",
   "execution_count": 75,
   "id": "ba5b7b2f-1486-43d9-8b45-68c555f09ee0",
   "metadata": {},
   "outputs": [
    {
     "data": {
      "text/html": [
       "<div>\n",
       "<style scoped>\n",
       "    .dataframe tbody tr th:only-of-type {\n",
       "        vertical-align: middle;\n",
       "    }\n",
       "\n",
       "    .dataframe tbody tr th {\n",
       "        vertical-align: top;\n",
       "    }\n",
       "\n",
       "    .dataframe thead th {\n",
       "        text-align: right;\n",
       "    }\n",
       "</style>\n",
       "<table border=\"1\" class=\"dataframe\">\n",
       "  <thead>\n",
       "    <tr style=\"text-align: right;\">\n",
       "      <th></th>\n",
       "      <th>one</th>\n",
       "      <th>two</th>\n",
       "      <th>three</th>\n",
       "      <th>four</th>\n",
       "    </tr>\n",
       "  </thead>\n",
       "  <tbody>\n",
       "    <tr>\n",
       "      <th>Ohio</th>\n",
       "      <td>0</td>\n",
       "      <td>0</td>\n",
       "      <td>0</td>\n",
       "      <td>0</td>\n",
       "    </tr>\n",
       "    <tr>\n",
       "      <th>Dallas</th>\n",
       "      <td>0</td>\n",
       "      <td>5</td>\n",
       "      <td>6</td>\n",
       "      <td>7</td>\n",
       "    </tr>\n",
       "    <tr>\n",
       "      <th>Boston</th>\n",
       "      <td>8</td>\n",
       "      <td>9</td>\n",
       "      <td>10</td>\n",
       "      <td>11</td>\n",
       "    </tr>\n",
       "    <tr>\n",
       "      <th>NJ</th>\n",
       "      <td>12</td>\n",
       "      <td>13</td>\n",
       "      <td>14</td>\n",
       "      <td>15</td>\n",
       "    </tr>\n",
       "    <tr>\n",
       "      <th>New York</th>\n",
       "      <td>16</td>\n",
       "      <td>17</td>\n",
       "      <td>18</td>\n",
       "      <td>19</td>\n",
       "    </tr>\n",
       "    <tr>\n",
       "      <th>Austin</th>\n",
       "      <td>20</td>\n",
       "      <td>21</td>\n",
       "      <td>22</td>\n",
       "      <td>23</td>\n",
       "    </tr>\n",
       "  </tbody>\n",
       "</table>\n",
       "</div>"
      ],
      "text/plain": [
       "          one  two  three  four\n",
       "Ohio        0    0      0     0\n",
       "Dallas      0    5      6     7\n",
       "Boston      8    9     10    11\n",
       "NJ         12   13     14    15\n",
       "New York   16   17     18    19\n",
       "Austin     20   21     22    23"
      ]
     },
     "execution_count": 75,
     "metadata": {},
     "output_type": "execute_result"
    }
   ],
   "source": [
    "data < 5\n",
    "data[data < 5] = 0\n",
    "data"
   ]
  },
  {
   "cell_type": "code",
   "execution_count": 76,
   "id": "0d19e6e6-5668-47e3-b22d-1475b5b2af9e",
   "metadata": {},
   "outputs": [
    {
     "name": "stdout",
     "output_type": "stream",
     "text": [
      "   A  B\n",
      "0  1  4\n",
      "1  2  5\n",
      "2  3  6\n",
      "   A   B\n",
      "0  7  10\n",
      "1  8  11\n",
      "2  9  12\n",
      "Addition:\n",
      "     A   B\n",
      "0   8  14\n",
      "1  10  16\n",
      "2  12  18\n",
      "\n",
      "Subtraction:\n",
      "    A  B\n",
      "0 -6 -6\n",
      "1 -6 -6\n",
      "2 -6 -6\n",
      "\n",
      "Multiplication:\n",
      "     A   B\n",
      "0   7  40\n",
      "1  16  55\n",
      "2  27  72\n",
      "\n",
      "Division:\n",
      "           A         B\n",
      "0  0.142857  0.400000\n",
      "1  0.250000  0.454545\n",
      "2  0.333333  0.500000\n"
     ]
    }
   ],
   "source": [
    "import pandas as pd\n",
    "df1 = pd.DataFrame({'A': [1, 2, 3], 'B': [4, 5, 6]})\n",
    "df2 = pd.DataFrame({'A': [7, 8, 9], 'B': [10, 11, 12]})\n",
    "print(df1)\n",
    "print(df2)\n",
    "print(\"Addition:\\n\", df1 + df2)\n",
    "print(\"\\nSubtraction:\\n\", df1 - df2)\n",
    "print(\"\\nMultiplication:\\n\", df1 * df2)\n",
    "print(\"\\nDivision:\\n\", df1 / df2)"
   ]
  },
  {
   "cell_type": "code",
   "execution_count": 77,
   "id": "fdec660e-2bbe-4114-baef-8fb408a83ad9",
   "metadata": {},
   "outputs": [
    {
     "name": "stdout",
     "output_type": "stream",
     "text": [
      "   A  B\n",
      "0  1  4\n",
      "1  2  5\n",
      "2  3  6\n",
      "   B   C\n",
      "1  7  10\n",
      "2  8  11\n",
      "3  9  12\n",
      "Result of df3 + df4 with alignment:\n",
      "     A     B   C\n",
      "0 NaN   NaN NaN\n",
      "1 NaN  12.0 NaN\n",
      "2 NaN  14.0 NaN\n",
      "3 NaN   NaN NaN\n"
     ]
    }
   ],
   "source": [
    "import pandas as pd\n",
    "df3 = pd.DataFrame({'A': [1, 2, 3], 'B': [4, 5, 6]}, index=[0, 1, 2])\n",
    "df4 = pd.DataFrame({'B': [7, 8, 9], 'C': [10, 11, 12]}, index=[1, 2, 3])\n",
    "print(df3)\n",
    "print(df4)\n",
    "result = df3 + df4\n",
    "print(\"Result of df3 + df4 with alignment:\\n\", result)"
   ]
  },
  {
   "cell_type": "code",
   "execution_count": 78,
   "id": "da36bc06-3d90-4c44-9350-61e82e2727ca",
   "metadata": {},
   "outputs": [
    {
     "data": {
      "text/html": [
       "<div>\n",
       "<style scoped>\n",
       "    .dataframe tbody tr th:only-of-type {\n",
       "        vertical-align: middle;\n",
       "    }\n",
       "\n",
       "    .dataframe tbody tr th {\n",
       "        vertical-align: top;\n",
       "    }\n",
       "\n",
       "    .dataframe thead th {\n",
       "        text-align: right;\n",
       "    }\n",
       "</style>\n",
       "<table border=\"1\" class=\"dataframe\">\n",
       "  <thead>\n",
       "    <tr style=\"text-align: right;\">\n",
       "      <th></th>\n",
       "      <th>A</th>\n",
       "      <th>B</th>\n",
       "      <th>C</th>\n",
       "    </tr>\n",
       "  </thead>\n",
       "  <tbody>\n",
       "    <tr>\n",
       "      <th>0</th>\n",
       "      <td>NaN</td>\n",
       "      <td>NaN</td>\n",
       "      <td>NaN</td>\n",
       "    </tr>\n",
       "    <tr>\n",
       "      <th>1</th>\n",
       "      <td>NaN</td>\n",
       "      <td>-2.0</td>\n",
       "      <td>NaN</td>\n",
       "    </tr>\n",
       "    <tr>\n",
       "      <th>2</th>\n",
       "      <td>NaN</td>\n",
       "      <td>-2.0</td>\n",
       "      <td>NaN</td>\n",
       "    </tr>\n",
       "    <tr>\n",
       "      <th>3</th>\n",
       "      <td>NaN</td>\n",
       "      <td>NaN</td>\n",
       "      <td>NaN</td>\n",
       "    </tr>\n",
       "  </tbody>\n",
       "</table>\n",
       "</div>"
      ],
      "text/plain": [
       "    A    B   C\n",
       "0 NaN  NaN NaN\n",
       "1 NaN -2.0 NaN\n",
       "2 NaN -2.0 NaN\n",
       "3 NaN  NaN NaN"
      ]
     },
     "execution_count": 78,
     "metadata": {},
     "output_type": "execute_result"
    }
   ],
   "source": [
    "df3 - df4"
   ]
  },
  {
   "cell_type": "code",
   "execution_count": 79,
   "id": "1926ab2f-cd9e-4089-8a4a-c89cf363d082",
   "metadata": {},
   "outputs": [
    {
     "name": "stdout",
     "output_type": "stream",
     "text": [
      "\n",
      "Result of df3.add(df4) with fill_value=0:\n",
      "      A     B     C\n",
      "0  1.0   4.0   NaN\n",
      "1  2.0  12.0  10.0\n",
      "2  3.0  14.0  11.0\n",
      "3  NaN   9.0  12.0\n"
     ]
    }
   ],
   "source": [
    "result_add = df3.add(df4, fill_value=0)\n",
    "print(\"\\nResult of df3.add(df4) with fill_value=0:\\n\", result_add)"
   ]
  },
  {
   "cell_type": "code",
   "execution_count": 80,
   "id": "d9443706-20d9-4ded-96bc-cec4162cbeb2",
   "metadata": {},
   "outputs": [
    {
     "name": "stdout",
     "output_type": "stream",
     "text": [
      "\n",
      "Result of df3.sub(df4) with fill_value=0:\n",
      "      A    B     C\n",
      "0  1.0  4.0   NaN\n",
      "1  2.0 -2.0 -10.0\n",
      "2  3.0 -2.0 -11.0\n",
      "3  NaN -9.0 -12.0\n",
      "\n",
      "Result of df3.rsub(df4) with fill_value=0:\n",
      "      A    B     C\n",
      "0 -1.0 -4.0   NaN\n",
      "1 -2.0  2.0  10.0\n",
      "2 -3.0  2.0  11.0\n",
      "3  NaN  9.0  12.0\n"
     ]
    }
   ],
   "source": [
    "result_sub = df3.sub(df4, fill_value=0)\n",
    "print(\"\\nResult of df3.sub(df4) with fill_value=0:\\n\", result_sub)\n",
    "result_rsub = df3.rsub(df4, fill_value=0)\n",
    "print(\"\\nResult of df3.rsub(df4) with fill_value=0:\\n\", result_rsub)"
   ]
  },
  {
   "cell_type": "code",
   "execution_count": 81,
   "id": "3b86dfca-7ea9-40a2-ba35-6dc7b3fe381f",
   "metadata": {},
   "outputs": [
    {
     "name": "stdout",
     "output_type": "stream",
     "text": [
      "\n",
      "Result of df3.div(df4) with fill_value=1:\n",
      "      A         B         C\n",
      "0  1.0  4.000000       NaN\n",
      "1  2.0  0.714286  0.100000\n",
      "2  3.0  0.750000  0.090909\n",
      "3  NaN  0.111111  0.083333\n",
      "\n",
      "Result of df3.rdiv(df4) with fill_value=1:\n",
      "           A         B     C\n",
      "0  1.000000  0.250000   NaN\n",
      "1  0.500000  1.400000  10.0\n",
      "2  0.333333  1.333333  11.0\n",
      "3       NaN  9.000000  12.0\n"
     ]
    }
   ],
   "source": [
    "result_div = df3.div(df4, fill_value=1) # Avoid division by zero\n",
    "print(\"\\nResult of df3.div(df4) with fill_value=1:\\n\", result_div)\n",
    "result_rdiv = df3.rdiv(df4, fill_value=1) # Avoid division by zero\n",
    "print(\"\\nResult of df3.rdiv(df4) with fill_value=1:\\n\", result_rdiv)"
   ]
  },
  {
   "cell_type": "code",
   "execution_count": 82,
   "id": "a57e7536-04b2-4632-ba3b-57ff8e78f497",
   "metadata": {},
   "outputs": [
    {
     "name": "stdout",
     "output_type": "stream",
     "text": [
      "\n",
      "Result of df3.floordiv(df4) with fill_value=1:\n",
      "      A    B    C\n",
      "0  1.0  4.0  NaN\n",
      "1  2.0  0.0  0.0\n",
      "2  3.0  0.0  0.0\n",
      "3  NaN  0.0  0.0\n",
      "\n",
      "Result of df3.rfloordiv(df4) with fill_value=1:\n",
      "      A    B     C\n",
      "0  1.0  0.0   NaN\n",
      "1  0.0  1.0  10.0\n",
      "2  0.0  1.0  11.0\n",
      "3  NaN  9.0  12.0\n"
     ]
    }
   ],
   "source": [
    "result_floordiv = df3.floordiv(df4, fill_value=1) # Avoid division by zero\n",
    "print(\"\\nResult of df3.floordiv(df4) with fill_value=1:\\n\", result_floordiv)\n",
    "result_rfloordiv = df3.rfloordiv(df4, fill_value=1) # Avoid division by zero\n",
    "print(\"\\nResult of df3.rfloordiv(df4) with fill_value=1:\\n\", result_rfloordiv)"
   ]
  },
  {
   "cell_type": "code",
   "execution_count": 83,
   "id": "0f55d622-97e6-4028-8b1e-8676af757916",
   "metadata": {},
   "outputs": [
    {
     "name": "stdout",
     "output_type": "stream",
     "text": [
      "\n",
      "Result of df3.mul(df4) with fill_value=1:\n",
      "      A     B     C\n",
      "0  1.0   4.0   NaN\n",
      "1  2.0  35.0  10.0\n",
      "2  3.0  48.0  11.0\n",
      "3  NaN   9.0  12.0\n",
      "\n",
      "Result of df3.rmul(df4) with fill_value=1:\n",
      "      A     B     C\n",
      "0  1.0   4.0   NaN\n",
      "1  2.0  35.0  10.0\n",
      "2  3.0  48.0  11.0\n",
      "3  NaN   9.0  12.0\n"
     ]
    }
   ],
   "source": [
    "result_mul = df3.mul(df4, fill_value=1)\n",
    "print(\"\\nResult of df3.mul(df4) with fill_value=1:\\n\", result_mul)\n",
    "result_rmul = df3.rmul(df4, fill_value=1)\n",
    "print(\"\\nResult of df3.rmul(df4) with fill_value=1:\\n\", result_rmul)"
   ]
  },
  {
   "cell_type": "code",
   "execution_count": 84,
   "id": "a2356bdf-73a6-4690-b736-bc2b59dc71c5",
   "metadata": {},
   "outputs": [
    {
     "name": "stdout",
     "output_type": "stream",
     "text": [
      "\n",
      "Result of series1.pow(series2) with fill_value=1:\n",
      " a      1.0\n",
      "b     16.0\n",
      "c    243.0\n",
      "d      1.0\n",
      "dtype: float64\n",
      "\n",
      "Result of series1.rpow(series2) with fill_value=1:\n",
      " a      1.0\n",
      "b     16.0\n",
      "c    125.0\n",
      "d      6.0\n",
      "dtype: float64\n",
      "\n",
      "Result of df3.pow(df4) with fill_value=1:\n",
      "      A          B    C\n",
      "0  1.0        4.0  NaN\n",
      "1  2.0    78125.0  1.0\n",
      "2  3.0  1679616.0  1.0\n",
      "3  NaN        1.0  1.0\n",
      "\n",
      "Result of df3.rpow(df4) with fill_value=1:\n",
      "      A         B     C\n",
      "0  1.0       1.0   NaN\n",
      "1  1.0   16807.0  10.0\n",
      "2  1.0  262144.0  11.0\n",
      "3  NaN       9.0  12.0\n"
     ]
    }
   ],
   "source": [
    "series1 = pd.Series([1, 2, 3], index=['a', 'b', 'c'])\n",
    "series2 = pd.Series([4, 5, 6], index=['b', 'c', 'd'])\n",
    "result_pow_series = series1.pow(series2, fill_value=1)\n",
    "print(\"\\nResult of series1.pow(series2) with fill_value=1:\\n\", result_pow_series)\n",
    "result_rpow_series = series1.rpow(series2, fill_value=1)\n",
    "print(\"\\nResult of series1.rpow(series2) with fill_value=1:\\n\", result_rpow_series)\n",
    "result_pow_df = df3.pow(df4, fill_value=1)\n",
    "print(\"\\nResult of df3.pow(df4) with fill_value=1:\\n\", result_pow_df)\n",
    "result_rpow_df = df3.rpow(df4, fill_value=1)\n",
    "print(\"\\nResult of df3.rpow(df4) with fill_value=1:\\n\", result_rpow_df)"
   ]
  },
  {
   "cell_type": "code",
   "execution_count": 85,
   "id": "d94350a8-4075-4677-96d9-360ab5266722",
   "metadata": {},
   "outputs": [
    {
     "name": "stdout",
     "output_type": "stream",
     "text": [
      "   A  B\n",
      "0  3  6\n",
      "1  4  7\n",
      "2  5  8\n",
      "   A  B\n",
      "0  3  6\n",
      "1  4  7\n",
      "2  5  8\n"
     ]
    }
   ],
   "source": [
    "import pandas as pd\n",
    "df = pd.DataFrame({'A': [1, 2, 3], 'B': [4, 5, 6]})\n",
    "df = df + 2\n",
    "print(df)\n",
    "print(df)"
   ]
  },
  {
   "cell_type": "code",
   "execution_count": 86,
   "id": "2d160793-dfb3-4bb3-be65-d7450b275d44",
   "metadata": {},
   "outputs": [
    {
     "name": "stdout",
     "output_type": "stream",
     "text": [
      "               b         d         e\n",
      "Utah   -1.905235 -2.026325 -0.172444\n",
      "Ohio    0.421150 -0.173075  1.409813\n",
      "Texas   0.150011 -0.142664  0.559225\n",
      "Oregon -0.747555 -0.950663  2.409572\n",
      "               b         d         e\n",
      "Utah    1.905235  2.026325  0.172444\n",
      "Ohio    0.421150  0.173075  1.409813\n",
      "Texas   0.150011  0.142664  0.559225\n",
      "Oregon  0.747555  0.950663  2.409572\n"
     ]
    }
   ],
   "source": [
    "import numpy as np\n",
    "frame = pd.DataFrame(np.random.randn(4, 3), columns=list('bde'),\n",
    "index=['Utah', 'Ohio', 'Texas', 'Oregon'])\n",
    "print(frame)\n",
    "print(np.abs(frame))"
   ]
  },
  {
   "cell_type": "code",
   "execution_count": 87,
   "id": "ac434872-08ee-4167-b6df-2d156cbddc7b",
   "metadata": {},
   "outputs": [
    {
     "name": "stdout",
     "output_type": "stream",
     "text": [
      "b    2.326386\n",
      "d    1.883660\n",
      "e    2.582016\n",
      "dtype: float64\n",
      "Utah      1.853881\n",
      "Ohio      1.582888\n",
      "Texas     0.701889\n",
      "Oregon    3.360235\n",
      "dtype: float64\n"
     ]
    }
   ],
   "source": [
    "f = lambda x: x.max() - x.min()\n",
    "df_apply = frame.apply(f)\n",
    "print(df_apply)\n",
    "df_apply_axis = frame.apply(f, axis='columns') #apply lambda function to columns\n",
    "print(df_apply_axis)"
   ]
  },
  {
   "cell_type": "code",
   "execution_count": 88,
   "id": "153ca887-6295-47fd-8529-ed9076e22bf2",
   "metadata": {},
   "outputs": [
    {
     "name": "stdout",
     "output_type": "stream",
     "text": [
      "            b         d         e\n",
      "min -1.905235 -2.026325 -0.172444\n",
      "max  0.421150 -0.142664  2.409572\n"
     ]
    }
   ],
   "source": [
    "def f(x):\n",
    "    return pd.Series([x.min(), x.max()], index=['min', 'max'])\n",
    "df_apply_series = frame.apply(f)\n",
    "print(df_apply_series)"
   ]
  },
  {
   "cell_type": "code",
   "execution_count": 89,
   "id": "de17a6ca-5c67-46ff-ab74-618d7ffb12a7",
   "metadata": {},
   "outputs": [
    {
     "name": "stdout",
     "output_type": "stream",
     "text": [
      "Utah      -0.17\n",
      "Ohio       1.41\n",
      "Texas      0.56\n",
      "Oregon     2.41\n",
      "Name: e, dtype: object\n"
     ]
    }
   ],
   "source": [
    "format = lambda x: '%.2f' % x\n",
    "df_map = frame['e'].map(format)\n",
    "print(df_map)"
   ]
  },
  {
   "cell_type": "code",
   "execution_count": 90,
   "id": "3ae0d5fd-996d-40ba-a19e-83a20da26390",
   "metadata": {},
   "outputs": [
    {
     "name": "stdout",
     "output_type": "stream",
     "text": [
      "a    1\n",
      "b    2\n",
      "c    3\n",
      "d    0\n",
      "dtype: int64\n",
      "I \n",
      "        d  a  b  c\n",
      "one    4  5  6  7\n",
      "three  0  1  2  3\n",
      "II \n",
      "        a  b  c  d\n",
      "three  1  2  3  0\n",
      "one    5  6  7  4\n",
      "III \n",
      "        d  c  b  a\n",
      "three  0  3  2  1\n",
      "one    4  7  6  5\n",
      "IV \n",
      "        d  a  b  c\n",
      "three  0  1  2  3\n",
      "one    4  5  6  7\n"
     ]
    }
   ],
   "source": [
    "obj = pd.Series(range(4), index=['d', 'a', 'b', 'c'])\n",
    "df_sort_series = obj.sort_index()\n",
    "print(df_sort_series)\n",
    "\n",
    "frame = pd.DataFrame(np.arange(8).reshape((2, 4)),\n",
    "index=['three', 'one'],\n",
    "columns=['d', 'a', 'b', 'c'])\n",
    "df_sort_dataframe = frame.sort_index()#sort row name-wise\n",
    "print(\"I \\n\",df_sort_dataframe)\n",
    "df_sort_dataframe_axis1 = frame.sort_index(axis=1)#sort all columns in order\n",
    "print(\"II \\n\",df_sort_dataframe_axis1)\n",
    "df_sort_dataframe_ascending = frame.sort_index(axis=1, ascending=False)\n",
    "print(\"III \\n\",df_sort_dataframe_ascending)\n",
    "df_sort_values_by_column = frame.sort_values(by='b') #sort b and extend the sort\n",
    "print(\"IV \\n\",df_sort_values_by_column)"
   ]
  },
  {
   "cell_type": "code",
   "execution_count": 91,
   "id": "f2ff6d5c-1d49-4cb7-9a54-d0d5cbf0aecc",
   "metadata": {},
   "outputs": [
    {
     "name": "stdout",
     "output_type": "stream",
     "text": [
      "4   -3.0\n",
      "5    2.0\n",
      "0    4.0\n",
      "2    7.0\n",
      "1    NaN\n",
      "3    NaN\n",
      "dtype: float64\n"
     ]
    }
   ],
   "source": [
    "obj = pd.Series([4, np.nan, 7, np.nan, -3, 2])\n",
    "df_sort_series_na = obj.sort_values()\n",
    "print(df_sort_series_na)"
   ]
  },
  {
   "cell_type": "code",
   "execution_count": 92,
   "id": "14eff5d9-103c-4af6-b4ce-501d276c6cb0",
   "metadata": {},
   "outputs": [
    {
     "name": "stdout",
     "output_type": "stream",
     "text": [
      "I \n",
      "    b  a\n",
      "0  4  0\n",
      "1  7  1\n",
      "2 -3  0\n",
      "3  2  1\n",
      "II \n",
      "    b  a\n",
      "2 -3  0\n",
      "3  2  1\n",
      "0  4  0\n",
      "1  7  1\n",
      "III \n",
      "    b  a\n",
      "2 -3  0\n",
      "0  4  0\n",
      "3  2  1\n",
      "1  7  1\n"
     ]
    }
   ],
   "source": [
    "import pandas as pd\n",
    "import numpy as np\n",
    "frame = pd.DataFrame({'b': [4, 7, -3, 2], 'a': [0, 1, 0, 1]})\n",
    "print(\"I \\n\",frame)\n",
    "df_sort_dataframe_by_column = frame.sort_values(by='b')\n",
    "print(\"II \\n\",df_sort_dataframe_by_column)\n",
    "df_sort_dataframe_by_multiple_columns = frame.sort_values(by=['a', 'b'])\n",
    "print(\"III \\n\",df_sort_dataframe_by_multiple_columns)"
   ]
  },
  {
   "cell_type": "code",
   "execution_count": 93,
   "id": "053c3521-cb1e-4902-ac94-595c702cac18",
   "metadata": {},
   "outputs": [
    {
     "name": "stdout",
     "output_type": "stream",
     "text": [
      "Rank \n",
      " 0    6.5\n",
      "1    1.0\n",
      "2    6.5\n",
      "3    4.0\n",
      "4    3.0\n",
      "5    2.0\n",
      "6    5.0\n",
      "dtype: float64\n",
      "rank- Method=first \n",
      " 0    6.0\n",
      "1    1.0\n",
      "2    7.0\n",
      "3    4.0\n",
      "4    3.0\n",
      "5    2.0\n",
      "6    5.0\n",
      "dtype: float64\n",
      "rank- Method=max \n",
      " 0    2.0\n",
      "1    7.0\n",
      "2    2.0\n",
      "3    4.0\n",
      "4    5.0\n",
      "5    6.0\n",
      "6    3.0\n",
      "dtype: float64\n",
      "Rank over rows \n",
      "      b  a    c\n",
      "0  4.3  0 -2.0\n",
      "1  7.0  1  5.0\n",
      "2 -3.0  0  8.0\n",
      "3  2.0  1 -2.5\n",
      "Rank over columns \n",
      "      b    a    c\n",
      "0  3.0  2.0  1.0\n",
      "1  3.0  1.0  2.0\n",
      "2  1.0  2.0  3.0\n",
      "3  3.0  2.0  1.0\n"
     ]
    }
   ],
   "source": [
    "obj = pd.Series([7, -5, 7, 3, 2, 0, 4])\n",
    "df_rank = obj.rank()\n",
    "print(\"Rank \\n\", df_rank)\n",
    "df_rank_method_first = obj.rank(method='first')\n",
    "print(\"rank- Method=first \\n\", df_rank_method_first)\n",
    "df_rank_ascending = obj.rank(ascending=False, method='max')\n",
    "print(\"rank- Method=max \\n\", df_rank_ascending)\n",
    "frame = pd.DataFrame({'b': [4.3, 7, -3, 2], 'a': [0, 1, 0, 1],\n",
    "'c': [-2, 5, 8, -2.5]})\n",
    "print(\"Rank over rows \\n\", frame)\n",
    "df_rank_dataframe = frame.rank(axis='columns')\n",
    "print(\"Rank over columns \\n\", df_rank_dataframe)"
   ]
  },
  {
   "cell_type": "code",
   "execution_count": 94,
   "id": "736d9556-9564-438c-b0ff-b9293066ddef",
   "metadata": {},
   "outputs": [
    {
     "name": "stdout",
     "output_type": "stream",
     "text": [
      "False\n"
     ]
    }
   ],
   "source": [
    "import pandas as pd\n",
    "import numpy as np\n",
    "obj = pd.Series(range(5), index=['a', 'a', 'b', 'b', 'c'])\n",
    "print(obj.index.is_unique)"
   ]
  },
  {
   "cell_type": "code",
   "execution_count": 95,
   "id": "8b9db795-d1f6-41cb-8767-543f3efd0135",
   "metadata": {},
   "outputs": [
    {
     "name": "stdout",
     "output_type": "stream",
     "text": [
      "False\n",
      "False\n",
      "True\n"
     ]
    }
   ],
   "source": [
    "obj = pd.Series(range(5), index=['a', 'a', 'b', 'b', 'c'])\n",
    "print(obj.index.is_unique)\n",
    "df = pd.DataFrame(np.random.randn(4, 3), index=['a', 'a', 'b', 'b'])\n",
    "print(df.index.is_unique)\n",
    "df2 = pd.DataFrame({'A': [1, 2, 3], 'B': [4, 5, 6]}, index=['x', 'y', 'z'])\n",
    "print(df2.index.is_unique)"
   ]
  },
  {
   "cell_type": "code",
   "execution_count": 97,
   "id": "ff06a544-34c7-4136-94a0-7d4e0bcae73a",
   "metadata": {},
   "outputs": [
    {
     "data": {
      "text/html": [
       "<div>\n",
       "<style scoped>\n",
       "    .dataframe tbody tr th:only-of-type {\n",
       "        vertical-align: middle;\n",
       "    }\n",
       "\n",
       "    .dataframe tbody tr th {\n",
       "        vertical-align: top;\n",
       "    }\n",
       "\n",
       "    .dataframe thead th {\n",
       "        text-align: right;\n",
       "    }\n",
       "</style>\n",
       "<table border=\"1\" class=\"dataframe\">\n",
       "  <thead>\n",
       "    <tr style=\"text-align: right;\">\n",
       "      <th></th>\n",
       "      <th>Math</th>\n",
       "      <th>Science</th>\n",
       "      <th>English</th>\n",
       "      <th>History</th>\n",
       "      <th>Geography</th>\n",
       "    </tr>\n",
       "  </thead>\n",
       "  <tbody>\n",
       "    <tr>\n",
       "      <th>Student1</th>\n",
       "      <td>68</td>\n",
       "      <td>82</td>\n",
       "      <td>78</td>\n",
       "      <td>84</td>\n",
       "      <td>59</td>\n",
       "    </tr>\n",
       "    <tr>\n",
       "      <th>Student2</th>\n",
       "      <td>67</td>\n",
       "      <td>86</td>\n",
       "      <td>88</td>\n",
       "      <td>72</td>\n",
       "      <td>69</td>\n",
       "    </tr>\n",
       "    <tr>\n",
       "      <th>Student3</th>\n",
       "      <td>51</td>\n",
       "      <td>88</td>\n",
       "      <td>58</td>\n",
       "      <td>64</td>\n",
       "      <td>61</td>\n",
       "    </tr>\n",
       "    <tr>\n",
       "      <th>Student4</th>\n",
       "      <td>51</td>\n",
       "      <td>91</td>\n",
       "      <td>65</td>\n",
       "      <td>95</td>\n",
       "      <td>72</td>\n",
       "    </tr>\n",
       "    <tr>\n",
       "      <th>Student5</th>\n",
       "      <td>79</td>\n",
       "      <td>69</td>\n",
       "      <td>68</td>\n",
       "      <td>66</td>\n",
       "      <td>69</td>\n",
       "    </tr>\n",
       "  </tbody>\n",
       "</table>\n",
       "</div>"
      ],
      "text/plain": [
       "          Math  Science  English  History  Geography\n",
       "Student1    68       82       78       84         59\n",
       "Student2    67       86       88       72         69\n",
       "Student3    51       88       58       64         61\n",
       "Student4    51       91       65       95         72\n",
       "Student5    79       69       68       66         69"
      ]
     },
     "execution_count": 97,
     "metadata": {},
     "output_type": "execute_result"
    }
   ],
   "source": [
    "import pandas as pd\n",
    "import numpy as np\n",
    "\n",
    "data = {'Math': np.random.randint(50, 100, 5),\n",
    "'Science': np.random.randint(50, 100, 5),\n",
    "'English': np.random.randint(50, 100, 5),\n",
    "'History': np.random.randint(50, 100, 5),\n",
    "'Geography': np.random.randint(50, 100, 5)}\n",
    "df = pd.DataFrame(data, index=['Student1', 'Student2', 'Student3', 'Student4', 'Student5'])\n",
    "df"
   ]
  },
  {
   "cell_type": "code",
   "execution_count": 98,
   "id": "d1787ae5-4bbf-4670-9765-3e929607c155",
   "metadata": {},
   "outputs": [
    {
     "data": {
      "text/html": [
       "<div>\n",
       "<style scoped>\n",
       "    .dataframe tbody tr th:only-of-type {\n",
       "        vertical-align: middle;\n",
       "    }\n",
       "\n",
       "    .dataframe tbody tr th {\n",
       "        vertical-align: top;\n",
       "    }\n",
       "\n",
       "    .dataframe thead th {\n",
       "        text-align: right;\n",
       "    }\n",
       "</style>\n",
       "<table border=\"1\" class=\"dataframe\">\n",
       "  <thead>\n",
       "    <tr style=\"text-align: right;\">\n",
       "      <th></th>\n",
       "      <th>Math</th>\n",
       "      <th>Science</th>\n",
       "      <th>English</th>\n",
       "      <th>History</th>\n",
       "      <th>Geography</th>\n",
       "      <th>Total</th>\n",
       "    </tr>\n",
       "  </thead>\n",
       "  <tbody>\n",
       "    <tr>\n",
       "      <th>Student1</th>\n",
       "      <td>68</td>\n",
       "      <td>82</td>\n",
       "      <td>78</td>\n",
       "      <td>84</td>\n",
       "      <td>59</td>\n",
       "      <td>371</td>\n",
       "    </tr>\n",
       "    <tr>\n",
       "      <th>Student2</th>\n",
       "      <td>67</td>\n",
       "      <td>86</td>\n",
       "      <td>88</td>\n",
       "      <td>72</td>\n",
       "      <td>69</td>\n",
       "      <td>382</td>\n",
       "    </tr>\n",
       "    <tr>\n",
       "      <th>Student3</th>\n",
       "      <td>51</td>\n",
       "      <td>88</td>\n",
       "      <td>58</td>\n",
       "      <td>64</td>\n",
       "      <td>61</td>\n",
       "      <td>322</td>\n",
       "    </tr>\n",
       "    <tr>\n",
       "      <th>Student4</th>\n",
       "      <td>51</td>\n",
       "      <td>91</td>\n",
       "      <td>65</td>\n",
       "      <td>95</td>\n",
       "      <td>72</td>\n",
       "      <td>374</td>\n",
       "    </tr>\n",
       "    <tr>\n",
       "      <th>Student5</th>\n",
       "      <td>79</td>\n",
       "      <td>69</td>\n",
       "      <td>68</td>\n",
       "      <td>66</td>\n",
       "      <td>69</td>\n",
       "      <td>351</td>\n",
       "    </tr>\n",
       "  </tbody>\n",
       "</table>\n",
       "</div>"
      ],
      "text/plain": [
       "          Math  Science  English  History  Geography  Total\n",
       "Student1    68       82       78       84         59    371\n",
       "Student2    67       86       88       72         69    382\n",
       "Student3    51       88       58       64         61    322\n",
       "Student4    51       91       65       95         72    374\n",
       "Student5    79       69       68       66         69    351"
      ]
     },
     "execution_count": 98,
     "metadata": {},
     "output_type": "execute_result"
    }
   ],
   "source": [
    "df['Total'] = df.sum(axis=1)\n",
    "df"
   ]
  },
  {
   "cell_type": "code",
   "execution_count": 99,
   "id": "20749ccd-f532-4c26-a246-17937435dc7e",
   "metadata": {},
   "outputs": [
    {
     "data": {
      "text/html": [
       "<div>\n",
       "<style scoped>\n",
       "    .dataframe tbody tr th:only-of-type {\n",
       "        vertical-align: middle;\n",
       "    }\n",
       "\n",
       "    .dataframe tbody tr th {\n",
       "        vertical-align: top;\n",
       "    }\n",
       "\n",
       "    .dataframe thead th {\n",
       "        text-align: right;\n",
       "    }\n",
       "</style>\n",
       "<table border=\"1\" class=\"dataframe\">\n",
       "  <thead>\n",
       "    <tr style=\"text-align: right;\">\n",
       "      <th></th>\n",
       "      <th>Math</th>\n",
       "      <th>Science</th>\n",
       "      <th>English</th>\n",
       "      <th>History</th>\n",
       "      <th>Geography</th>\n",
       "      <th>Total</th>\n",
       "    </tr>\n",
       "  </thead>\n",
       "  <tbody>\n",
       "    <tr>\n",
       "      <th>Student1</th>\n",
       "      <td>4.0</td>\n",
       "      <td>2.0</td>\n",
       "      <td>4.0</td>\n",
       "      <td>4.0</td>\n",
       "      <td>1.0</td>\n",
       "      <td>3.0</td>\n",
       "    </tr>\n",
       "    <tr>\n",
       "      <th>Student2</th>\n",
       "      <td>3.0</td>\n",
       "      <td>3.0</td>\n",
       "      <td>5.0</td>\n",
       "      <td>3.0</td>\n",
       "      <td>3.5</td>\n",
       "      <td>5.0</td>\n",
       "    </tr>\n",
       "    <tr>\n",
       "      <th>Student3</th>\n",
       "      <td>1.5</td>\n",
       "      <td>4.0</td>\n",
       "      <td>1.0</td>\n",
       "      <td>1.0</td>\n",
       "      <td>2.0</td>\n",
       "      <td>1.0</td>\n",
       "    </tr>\n",
       "    <tr>\n",
       "      <th>Student4</th>\n",
       "      <td>1.5</td>\n",
       "      <td>5.0</td>\n",
       "      <td>2.0</td>\n",
       "      <td>5.0</td>\n",
       "      <td>5.0</td>\n",
       "      <td>4.0</td>\n",
       "    </tr>\n",
       "    <tr>\n",
       "      <th>Student5</th>\n",
       "      <td>5.0</td>\n",
       "      <td>1.0</td>\n",
       "      <td>3.0</td>\n",
       "      <td>2.0</td>\n",
       "      <td>3.5</td>\n",
       "      <td>2.0</td>\n",
       "    </tr>\n",
       "  </tbody>\n",
       "</table>\n",
       "</div>"
      ],
      "text/plain": [
       "          Math  Science  English  History  Geography  Total\n",
       "Student1   4.0      2.0      4.0      4.0        1.0    3.0\n",
       "Student2   3.0      3.0      5.0      3.0        3.5    5.0\n",
       "Student3   1.5      4.0      1.0      1.0        2.0    1.0\n",
       "Student4   1.5      5.0      2.0      5.0        5.0    4.0\n",
       "Student5   5.0      1.0      3.0      2.0        3.5    2.0"
      ]
     },
     "execution_count": 99,
     "metadata": {},
     "output_type": "execute_result"
    }
   ],
   "source": [
    "df.rank()"
   ]
  },
  {
   "cell_type": "code",
   "execution_count": 100,
   "id": "fadce9c4-a1ba-4eca-ad2f-55497c2ed37e",
   "metadata": {},
   "outputs": [
    {
     "data": {
      "text/html": [
       "<div>\n",
       "<style scoped>\n",
       "    .dataframe tbody tr th:only-of-type {\n",
       "        vertical-align: middle;\n",
       "    }\n",
       "\n",
       "    .dataframe tbody tr th {\n",
       "        vertical-align: top;\n",
       "    }\n",
       "\n",
       "    .dataframe thead th {\n",
       "        text-align: right;\n",
       "    }\n",
       "</style>\n",
       "<table border=\"1\" class=\"dataframe\">\n",
       "  <thead>\n",
       "    <tr style=\"text-align: right;\">\n",
       "      <th></th>\n",
       "      <th>Math</th>\n",
       "      <th>Science</th>\n",
       "      <th>English</th>\n",
       "      <th>History</th>\n",
       "      <th>Geography</th>\n",
       "      <th>Total</th>\n",
       "    </tr>\n",
       "  </thead>\n",
       "  <tbody>\n",
       "    <tr>\n",
       "      <th>Student1</th>\n",
       "      <td>2.0</td>\n",
       "      <td>4.0</td>\n",
       "      <td>2.0</td>\n",
       "      <td>2.0</td>\n",
       "      <td>5.0</td>\n",
       "      <td>3.0</td>\n",
       "    </tr>\n",
       "    <tr>\n",
       "      <th>Student2</th>\n",
       "      <td>3.0</td>\n",
       "      <td>3.0</td>\n",
       "      <td>1.0</td>\n",
       "      <td>3.0</td>\n",
       "      <td>2.5</td>\n",
       "      <td>1.0</td>\n",
       "    </tr>\n",
       "    <tr>\n",
       "      <th>Student3</th>\n",
       "      <td>4.5</td>\n",
       "      <td>2.0</td>\n",
       "      <td>5.0</td>\n",
       "      <td>5.0</td>\n",
       "      <td>4.0</td>\n",
       "      <td>5.0</td>\n",
       "    </tr>\n",
       "    <tr>\n",
       "      <th>Student4</th>\n",
       "      <td>4.5</td>\n",
       "      <td>1.0</td>\n",
       "      <td>4.0</td>\n",
       "      <td>1.0</td>\n",
       "      <td>1.0</td>\n",
       "      <td>2.0</td>\n",
       "    </tr>\n",
       "    <tr>\n",
       "      <th>Student5</th>\n",
       "      <td>1.0</td>\n",
       "      <td>5.0</td>\n",
       "      <td>3.0</td>\n",
       "      <td>4.0</td>\n",
       "      <td>2.5</td>\n",
       "      <td>4.0</td>\n",
       "    </tr>\n",
       "  </tbody>\n",
       "</table>\n",
       "</div>"
      ],
      "text/plain": [
       "          Math  Science  English  History  Geography  Total\n",
       "Student1   2.0      4.0      2.0      2.0        5.0    3.0\n",
       "Student2   3.0      3.0      1.0      3.0        2.5    1.0\n",
       "Student3   4.5      2.0      5.0      5.0        4.0    5.0\n",
       "Student4   4.5      1.0      4.0      1.0        1.0    2.0\n",
       "Student5   1.0      5.0      3.0      4.0        2.5    4.0"
      ]
     },
     "execution_count": 100,
     "metadata": {},
     "output_type": "execute_result"
    }
   ],
   "source": [
    "df.rank(ascending=False)"
   ]
  },
  {
   "cell_type": "code",
   "execution_count": 101,
   "id": "eb51c9e2-2628-4222-b713-6d79a6eecd97",
   "metadata": {},
   "outputs": [
    {
     "name": "stdout",
     "output_type": "stream",
     "text": [
      "          Math  Science  English  History  Geography  Total  Subject Count\n",
      "Student1    68       82       78       84         59    371              4\n",
      "Student2    67       86       88       72         69    382              4\n",
      "Student3    51       88       58       64         61    322              4\n",
      "Student4    51       91       65       95         72    374              4\n",
      "Student5    79       69       68       66         69    351              4\n"
     ]
    }
   ],
   "source": [
    "df['Subject Count'] = len(df.columns) - 2 # Subtract 'Total' and 'Subject Count' columns\n",
    "print(df)"
   ]
  },
  {
   "cell_type": "code",
   "execution_count": 102,
   "id": "a81f5abc-2031-4325-8c5b-dd9ac38551ca",
   "metadata": {},
   "outputs": [
    {
     "name": "stdout",
     "output_type": "stream",
     "text": [
      "   Column1  Column2\n",
      "0      1.0      5.0\n",
      "1      2.0      NaN\n",
      "2      NaN      7.0\n",
      "3      4.0      8.0\n"
     ]
    }
   ],
   "source": [
    "import pandas as pd\n",
    "import numpy as np\n",
    "df = pd.DataFrame({'Column1': [1, 2, np.nan, 4],\n",
    "'Column2': [5, np.nan, 7, 8]})\n",
    "print(df)"
   ]
  },
  {
   "cell_type": "code",
   "execution_count": 103,
   "id": "1771a7de-168f-437a-99c7-8503463938dd",
   "metadata": {},
   "outputs": [
    {
     "data": {
      "text/plain": [
       "Column1     7.0\n",
       "Column2    20.0\n",
       "dtype: float64"
      ]
     },
     "execution_count": 103,
     "metadata": {},
     "output_type": "execute_result"
    }
   ],
   "source": [
    "df.sum()"
   ]
  },
  {
   "cell_type": "code",
   "execution_count": 104,
   "id": "818238e4-f7cc-4e09-8128-059f0605640e",
   "metadata": {},
   "outputs": [
    {
     "data": {
      "text/plain": [
       "0     6.0\n",
       "1     2.0\n",
       "2     7.0\n",
       "3    12.0\n",
       "dtype: float64"
      ]
     },
     "execution_count": 104,
     "metadata": {},
     "output_type": "execute_result"
    }
   ],
   "source": [
    "df.sum(axis=1)"
   ]
  },
  {
   "cell_type": "code",
   "execution_count": 105,
   "id": "8b5c2941-b80f-43d0-b189-93ef0633ce95",
   "metadata": {},
   "outputs": [
    {
     "data": {
      "text/plain": [
       "Column1    2.333333\n",
       "Column2    6.666667\n",
       "dtype: float64"
      ]
     },
     "execution_count": 105,
     "metadata": {},
     "output_type": "execute_result"
    }
   ],
   "source": [
    "df.mean()"
   ]
  },
  {
   "cell_type": "code",
   "execution_count": 106,
   "id": "bf991e9a-87d9-469e-ac16-8ab03be4c9d4",
   "metadata": {},
   "outputs": [
    {
     "name": "stdout",
     "output_type": "stream",
     "text": [
      "   Column1  Column2\n",
      "0      1.0      5.0\n",
      "1      2.0      NaN\n",
      "2      NaN      7.0\n",
      "3      4.0      8.0\n"
     ]
    },
    {
     "data": {
      "text/plain": [
       "0    3.0\n",
       "1    2.0\n",
       "2    7.0\n",
       "3    6.0\n",
       "dtype: float64"
      ]
     },
     "execution_count": 106,
     "metadata": {},
     "output_type": "execute_result"
    }
   ],
   "source": [
    "print(df)\n",
    "df.mean(axis='columns')"
   ]
  },
  {
   "cell_type": "code",
   "execution_count": 107,
   "id": "b54822e9-0e68-4c0e-b69d-aedd3754128e",
   "metadata": {},
   "outputs": [
    {
     "data": {
      "text/plain": [
       "0    3.0\n",
       "1    NaN\n",
       "2    NaN\n",
       "3    6.0\n",
       "dtype: float64"
      ]
     },
     "execution_count": 107,
     "metadata": {},
     "output_type": "execute_result"
    }
   ],
   "source": [
    "df.mean(axis='columns', skipna=False)"
   ]
  },
  {
   "cell_type": "code",
   "execution_count": 108,
   "id": "f9e258fb-ddfc-497a-b405-b13127189f7b",
   "metadata": {},
   "outputs": [
    {
     "name": "stdout",
     "output_type": "stream",
     "text": [
      "Minimum indices: Column1    0\n",
      "Column2    0\n",
      "dtype: int64\n",
      "Maximum indices: Column1    3\n",
      "Column2    3\n",
      "dtype: int64\n"
     ]
    }
   ],
   "source": [
    "min_index = df.idxmin()\n",
    "max_index = df.idxmax()\n",
    "print(\"Minimum indices:\", min_index)\n",
    "print(\"Maximum indices:\", max_index)"
   ]
  },
  {
   "cell_type": "code",
   "execution_count": 109,
   "id": "62a43492-8285-4f97-89ce-d8b597b544d1",
   "metadata": {},
   "outputs": [
    {
     "name": "stdout",
     "output_type": "stream",
     "text": [
      "Cumulative sum:\n",
      "     A   B\n",
      "0   1   5\n",
      "1   3   9\n",
      "2   6  12\n",
      "3  10  14\n",
      "4  15  15\n"
     ]
    }
   ],
   "source": [
    "df = pd.DataFrame({'A': [1, 2, 3, 4, 5],\n",
    "'B': [5, 4, 3, 2, 1]})\n",
    "cumsum_df = df.cumsum()\n",
    "print(\"Cumulative sum:\\n\", cumsum_df)"
   ]
  },
  {
   "cell_type": "code",
   "execution_count": 110,
   "id": "5b9bf93c-f520-49c4-8a57-93b64589bc41",
   "metadata": {},
   "outputs": [
    {
     "data": {
      "text/html": [
       "<div>\n",
       "<style scoped>\n",
       "    .dataframe tbody tr th:only-of-type {\n",
       "        vertical-align: middle;\n",
       "    }\n",
       "\n",
       "    .dataframe tbody tr th {\n",
       "        vertical-align: top;\n",
       "    }\n",
       "\n",
       "    .dataframe thead th {\n",
       "        text-align: right;\n",
       "    }\n",
       "</style>\n",
       "<table border=\"1\" class=\"dataframe\">\n",
       "  <thead>\n",
       "    <tr style=\"text-align: right;\">\n",
       "      <th></th>\n",
       "      <th>A</th>\n",
       "      <th>B</th>\n",
       "    </tr>\n",
       "  </thead>\n",
       "  <tbody>\n",
       "    <tr>\n",
       "      <th>count</th>\n",
       "      <td>5.000000</td>\n",
       "      <td>5.000000</td>\n",
       "    </tr>\n",
       "    <tr>\n",
       "      <th>mean</th>\n",
       "      <td>3.000000</td>\n",
       "      <td>3.000000</td>\n",
       "    </tr>\n",
       "    <tr>\n",
       "      <th>std</th>\n",
       "      <td>1.581139</td>\n",
       "      <td>1.581139</td>\n",
       "    </tr>\n",
       "    <tr>\n",
       "      <th>min</th>\n",
       "      <td>1.000000</td>\n",
       "      <td>1.000000</td>\n",
       "    </tr>\n",
       "    <tr>\n",
       "      <th>25%</th>\n",
       "      <td>2.000000</td>\n",
       "      <td>2.000000</td>\n",
       "    </tr>\n",
       "    <tr>\n",
       "      <th>50%</th>\n",
       "      <td>3.000000</td>\n",
       "      <td>3.000000</td>\n",
       "    </tr>\n",
       "    <tr>\n",
       "      <th>75%</th>\n",
       "      <td>4.000000</td>\n",
       "      <td>4.000000</td>\n",
       "    </tr>\n",
       "    <tr>\n",
       "      <th>max</th>\n",
       "      <td>5.000000</td>\n",
       "      <td>5.000000</td>\n",
       "    </tr>\n",
       "  </tbody>\n",
       "</table>\n",
       "</div>"
      ],
      "text/plain": [
       "              A         B\n",
       "count  5.000000  5.000000\n",
       "mean   3.000000  3.000000\n",
       "std    1.581139  1.581139\n",
       "min    1.000000  1.000000\n",
       "25%    2.000000  2.000000\n",
       "50%    3.000000  3.000000\n",
       "75%    4.000000  4.000000\n",
       "max    5.000000  5.000000"
      ]
     },
     "execution_count": 110,
     "metadata": {},
     "output_type": "execute_result"
    }
   ],
   "source": [
    "df.describe()"
   ]
  },
  {
   "cell_type": "code",
   "execution_count": 111,
   "id": "5145986a-d879-4581-99cf-f7f5b366aa71",
   "metadata": {},
   "outputs": [
    {
     "name": "stdout",
     "output_type": "stream",
     "text": [
      "       Name      City Country\n",
      "count     4         4       4\n",
      "unique    3         4       2\n",
      "top     Bob  New York     USA\n",
      "freq      2         1       3\n"
     ]
    }
   ],
   "source": [
    "df_non_numeric = pd.DataFrame({\n",
    "'Name': ['Alice', 'Bob', 'Charlie', 'Bob'],\n",
    "'City': ['New York', 'Los Angeles', 'Chicago', 'Alberta'],\n",
    "'Country': ['USA', 'USA', 'USA', 'Canada']\n",
    "})\n",
    "summary = df_non_numeric.describe(include='object')\n",
    "print(summary)"
   ]
  },
  {
   "cell_type": "markdown",
   "id": "ad985190-5eb4-468b-bffb-64459a73782f",
   "metadata": {},
   "source": [
    "Correlation and Covariance"
   ]
  },
  {
   "cell_type": "code",
   "execution_count": 112,
   "id": "661e96e1-5a5e-4e66-8a28-c3c391c3026e",
   "metadata": {},
   "outputs": [
    {
     "name": "stdout",
     "output_type": "stream",
     "text": [
      "   A  B  C\n",
      "0  1  5  2\n",
      "1  2  4  3\n",
      "2  3  3  5\n",
      "3  4  2  1\n",
      "4  5  1  4\n",
      "Correlation Matrix:\n",
      "      A    B    C\n",
      "A  1.0 -1.0  0.2\n",
      "B -1.0  1.0 -0.2\n",
      "C  0.2 -0.2  1.0\n",
      "\n",
      "Covariance Matrix:\n",
      "      A    B    C\n",
      "A  2.5 -2.5  0.5\n",
      "B -2.5  2.5 -0.5\n",
      "C  0.5 -0.5  2.5\n"
     ]
    }
   ],
   "source": [
    "import pandas as pd\n",
    "import numpy as np\n",
    "data = {'A': [1, 2, 3, 4, 5],\n",
    "'B': [5, 4, 3, 2, 1],\n",
    "'C': [2, 3, 5, 1, 4]}\n",
    "df = pd.DataFrame(data)\n",
    "print(df)\n",
    "correlation_matrix = df.corr()\n",
    "print(\"Correlation Matrix:\\n\", correlation_matrix)\n",
    "covariance_matrix = df.cov()\n",
    "print(\"\\nCovariance Matrix:\\n\", covariance_matrix)"
   ]
  },
  {
   "cell_type": "code",
   "execution_count": 114,
   "id": "de111e0c-bcc7-45c1-a7eb-e07ec95d6bb7",
   "metadata": {},
   "outputs": [
    {
     "name": "stdout",
     "output_type": "stream",
     "text": [
      "   A  B  C\n",
      "0  1  5  2\n",
      "1  2  4  3\n",
      "2  3  3  5\n",
      "3  4  2  1\n",
      "4  5  1  4\n",
      "\n",
      "Unique values in column 'A': [1 2 3 4 5]\n",
      "\n",
      "Value counts in column 'B':\n",
      " B\n",
      "5    1\n",
      "4    1\n",
      "3    1\n",
      "2    1\n",
      "1    1\n",
      "Name: count, dtype: int64\n",
      "\n",
      "Is 3 present in column 'C'?: True\n"
     ]
    }
   ],
   "source": [
    "data = {'A': [1, 2, 3, 4, 5],\n",
    "'B': [5, 4, 3, 2, 1],\n",
    "'C': [2, 3, 5, 1, 4]}\n",
    "df = pd.DataFrame(data)\n",
    "print(df)\n",
    "unique_values = df['A'].unique()\n",
    "print(\"\\nUnique values in column 'A':\", unique_values)\n",
    "value_counts = df['B'].value_counts()\n",
    "print(\"\\nValue counts in column 'B':\\n\", value_counts)\n",
    "is_present = 3 in df['C'].values\n",
    "print(\"\\nIs 3 present in column 'C'?:\", is_present)"
   ]
  },
  {
   "cell_type": "code",
   "execution_count": 115,
   "id": "a4ff195d-9dd4-49cf-ae59-4a9972e67ad5",
   "metadata": {},
   "outputs": [
    {
     "name": "stdout",
     "output_type": "stream",
     "text": [
      "\n",
      "Are 2, 4, and 6 present in column 'A'?:\n",
      " 0    False\n",
      "1     True\n",
      "2    False\n",
      "3     True\n",
      "4    False\n",
      "Name: A, dtype: bool\n"
     ]
    }
   ],
   "source": [
    "is_present_multiple = df['A'].isin([2, 4, 6])\n",
    "print(\"\\nAre 2, 4, and 6 present in column 'A'?:\\n\", is_present_multiple)"
   ]
  },
  {
   "cell_type": "code",
   "execution_count": 116,
   "id": "4e1db1c0-f588-46ff-a54b-279f1ebcf6c3",
   "metadata": {},
   "outputs": [
    {
     "name": "stdout",
     "output_type": "stream",
     "text": [
      "[ 1  4 -1]\n"
     ]
    }
   ],
   "source": [
    "data = {'A': [1, 2, 3, 4, 5],\n",
    "'B': [5, 4, 3, 2, 1],\n",
    "'C': [2, 3, 5, 1, 4]}\n",
    "df = pd.DataFrame(data, index=['a', 'b', 'c', 'd', 'e'])\n",
    "index_values = df.index.get_indexer(['b', 'e', 'f'])\n",
    "print(index_values) # Output: [ 1 4 -1] (-1 indicates 'f' is not in the index)"
   ]
  },
  {
   "cell_type": "code",
   "execution_count": 117,
   "id": "9935fa18-2eba-4094-996d-74060f5c0214",
   "metadata": {},
   "outputs": [
    {
     "name": "stdout",
     "output_type": "stream",
     "text": [
      "   col1  col2  col3\n",
      "1   2.0   0.0   0.0\n",
      "2   2.0   2.0   0.0\n",
      "3   2.0   2.0   2.0\n",
      "4   1.0   2.0   2.0\n",
      "5   1.0   1.0   2.0\n",
      "6   0.0   1.0   1.0\n",
      "7   0.0   0.0   1.0\n"
     ]
    },
    {
     "name": "stderr",
     "output_type": "stream",
     "text": [
      "C:\\Users\\archa\\AppData\\Local\\Temp\\ipykernel_12160\\3368919746.py:6: FutureWarning: pandas.value_counts is deprecated and will be removed in a future version. Use pd.Series(obj).value_counts() instead.\n",
      "  result = df.apply(pd.value_counts).fillna(0)\n"
     ]
    }
   ],
   "source": [
    "df = pd.DataFrame({\n",
    "'col1': [1, 2, 3, 1, 2, 3, 4, 5],\n",
    "'col2': [2, 3, 4, 2, 3, 4, 5, 6],\n",
    "'col3': [3, 4, 5, 3, 4, 5, 6, 7]\n",
    "})\n",
    "result = df.apply(pd.value_counts).fillna(0)\n",
    "print(result)"
   ]
  },
  {
   "cell_type": "code",
   "execution_count": null,
   "id": "72b017a3-acd3-4a10-8783-56b1d122d28b",
   "metadata": {},
   "outputs": [],
   "source": []
  }
 ],
 "metadata": {
  "kernelspec": {
   "display_name": "Python 3 (ipykernel)",
   "language": "python",
   "name": "python3"
  },
  "language_info": {
   "codemirror_mode": {
    "name": "ipython",
    "version": 3
   },
   "file_extension": ".py",
   "mimetype": "text/x-python",
   "name": "python",
   "nbconvert_exporter": "python",
   "pygments_lexer": "ipython3",
   "version": "3.13.0"
  }
 },
 "nbformat": 4,
 "nbformat_minor": 5
}
