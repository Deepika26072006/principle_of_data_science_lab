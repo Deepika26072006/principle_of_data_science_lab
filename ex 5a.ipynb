{
 "cells": [
  {
   "cell_type": "code",
   "execution_count": 1,
   "id": "8f375d07",
   "metadata": {},
   "outputs": [
    {
     "name": "stdout",
     "output_type": "stream",
     "text": [
      "Requirement already satisfied: pandas in c:\\programdata\\anaconda3\\lib\\site-packages (2.0.3)\n",
      "Requirement already satisfied: nltk in c:\\programdata\\anaconda3\\lib\\site-packages (3.8.1)\n",
      "Requirement already satisfied: python-dateutil>=2.8.2 in c:\\programdata\\anaconda3\\lib\\site-packages (from pandas) (2.8.2)\n",
      "Requirement already satisfied: pytz>=2020.1 in c:\\programdata\\anaconda3\\lib\\site-packages (from pandas) (2023.3.post1)\n",
      "Requirement already satisfied: tzdata>=2022.1 in c:\\programdata\\anaconda3\\lib\\site-packages (from pandas) (2023.3)\n",
      "Requirement already satisfied: numpy>=1.21.0 in c:\\programdata\\anaconda3\\lib\\site-packages (from pandas) (1.24.3)\n",
      "Requirement already satisfied: click in c:\\programdata\\anaconda3\\lib\\site-packages (from nltk) (8.0.4)\n",
      "Requirement already satisfied: joblib in c:\\programdata\\anaconda3\\lib\\site-packages (from nltk) (1.2.0)\n",
      "Requirement already satisfied: regex>=2021.8.3 in c:\\programdata\\anaconda3\\lib\\site-packages (from nltk) (2022.7.9)\n",
      "Requirement already satisfied: tqdm in c:\\programdata\\anaconda3\\lib\\site-packages (from nltk) (4.65.0)\n",
      "Requirement already satisfied: six>=1.5 in c:\\programdata\\anaconda3\\lib\\site-packages (from python-dateutil>=2.8.2->pandas) (1.16.0)\n",
      "Requirement already satisfied: colorama in c:\\programdata\\anaconda3\\lib\\site-packages (from click->nltk) (0.4.6)\n"
     ]
    }
   ],
   "source": [
    "!pip install pandas nltk"
   ]
  },
  {
   "cell_type": "code",
   "execution_count": 2,
   "id": "aa81d0c1",
   "metadata": {},
   "outputs": [],
   "source": [
    "import pandas as pd\n",
    "import nltk\n",
    "import string\n",
    "from nltk.corpus import stopwords\n",
    "from nltk.tokenize import word_tokenize\n",
    "from nltk import pos_tag,ne_chunk"
   ]
  },
  {
   "cell_type": "code",
   "execution_count": 3,
   "id": "b90c0d33",
   "metadata": {},
   "outputs": [
    {
     "name": "stderr",
     "output_type": "stream",
     "text": [
      "[nltk_data] Downloading package punkt to\n",
      "[nltk_data]     C:\\Users\\TCS\\AppData\\Roaming\\nltk_data...\n",
      "[nltk_data]   Package punkt is already up-to-date!\n",
      "[nltk_data] Downloading package stopwords to\n",
      "[nltk_data]     C:\\Users\\TCS\\AppData\\Roaming\\nltk_data...\n",
      "[nltk_data]   Package stopwords is already up-to-date!\n",
      "[nltk_data] Downloading package averaged_perceptron_tagger to\n",
      "[nltk_data]     C:\\Users\\TCS\\AppData\\Roaming\\nltk_data...\n",
      "[nltk_data]   Unzipping taggers\\averaged_perceptron_tagger.zip.\n",
      "[nltk_data] Downloading package maxent_ne_chunker to\n",
      "[nltk_data]     C:\\Users\\TCS\\AppData\\Roaming\\nltk_data...\n",
      "[nltk_data]   Unzipping chunkers\\maxent_ne_chunker.zip.\n",
      "[nltk_data] Downloading package words to\n",
      "[nltk_data]     C:\\Users\\TCS\\AppData\\Roaming\\nltk_data...\n",
      "[nltk_data]   Unzipping corpora\\words.zip.\n"
     ]
    },
    {
     "data": {
      "text/plain": [
       "True"
      ]
     },
     "execution_count": 3,
     "metadata": {},
     "output_type": "execute_result"
    }
   ],
   "source": [
    "nltk.download('punkt') \n",
    "nltk.download('stopwords') \n",
    "nltk.download('averaged_perceptron_tagger') \n",
    "nltk.download('maxent_ne_chunker') \n",
    "nltk.download('words')"
   ]
  },
  {
   "cell_type": "code",
   "execution_count": 4,
   "id": "2dfff8d9",
   "metadata": {},
   "outputs": [
    {
     "name": "stdout",
     "output_type": "stream",
     "text": [
      "Total reviews 10000\n",
      "0    I have bought several of the Vitality canned d...\n",
      "1    Product arrived labeled as Jumbo Salted Peanut...\n",
      "2    This is a confection that has been around a fe...\n",
      "3    If you are looking for the secret ingredient i...\n",
      "4    Great taffy at a great price.  There was a wid...\n",
      "Name: Text, dtype: object\n"
     ]
    }
   ],
   "source": [
    "df=pd.read_csv(\"Reviews[1].csv\")\n",
    "reviews=df['Text'].dropna()\n",
    "reviews=reviews.head(10000)\n",
    "print(\"Total reviews\",len(reviews))\n",
    "print(reviews.head())"
   ]
  },
  {
   "cell_type": "code",
   "execution_count": 5,
   "id": "c5f9a59d",
   "metadata": {},
   "outputs": [
    {
     "name": "stdout",
     "output_type": "stream",
     "text": [
      "0    i have bought several of the vitality canned d...\n",
      "1    product arrived labeled as jumbo salted peanut...\n",
      "2    this is a confection that has been around a fe...\n",
      "3    if you are looking for the secret ingredient i...\n",
      "4    great taffy at a great price  there was a wide...\n",
      "Name: Text, dtype: object\n"
     ]
    }
   ],
   "source": [
    "def preprocess(text):\n",
    "    text=text.lower()\n",
    "    text=text.translate(str.maketrans('','',string.punctuation))\n",
    "    return text\n",
    "\n",
    "cleaned_reviews=reviews.apply(preprocess)\n",
    "print(cleaned_reviews.head())"
   ]
  },
  {
   "cell_type": "code",
   "execution_count": 8,
   "id": "3f1fc67a",
   "metadata": {},
   "outputs": [
    {
     "name": "stdout",
     "output_type": "stream",
     "text": [
      "0    [bought, several, vitality, canned, dog, food,...\n",
      "1    [product, arrived, labeled, jumbo, salted, pea...\n",
      "2    [confection, around, centuries, light, pillowy...\n",
      "3    [looking, secret, ingredient, robitussin, beli...\n",
      "4    [great, taffy, great, price, wide, assortment,...\n",
      "Name: Text, dtype: object\n"
     ]
    }
   ],
   "source": [
    "stop_words=set(stopwords.words('english'))\n",
    "def tokenize_and_clean(text):\n",
    "    token=word_tokenize(text)\n",
    "    token=[w for w in token if w.isalpha() and w not in stop_words]\n",
    "    return token\n",
    "tokenize=cleaned_reviews.apply(tokenize_and_clean)\n",
    "print(tokenize.head())"
   ]
  },
  {
   "cell_type": "code",
   "execution_count": 9,
   "id": "358d5c8b",
   "metadata": {},
   "outputs": [
    {
     "name": "stdout",
     "output_type": "stream",
     "text": [
      "POS_tag [('bought', 'VBD'), ('several', 'JJ'), ('vitality', 'NN'), ('canned', 'VBD'), ('dog', 'JJ'), ('food', 'NN'), ('products', 'NNS'), ('found', 'VBD'), ('good', 'JJ'), ('quality', 'NN'), ('product', 'NN'), ('looks', 'VBZ'), ('like', 'IN'), ('stew', 'NN'), ('processed', 'VBN'), ('meat', 'NN'), ('smells', 'NNS'), ('better', 'RBR'), ('labrador', 'NN'), ('finicky', 'JJ'), ('appreciates', 'VBZ'), ('product', 'NN'), ('better', 'RBR')]\n"
     ]
    }
   ],
   "source": [
    "sample_token=tokenize.iloc[0]\n",
    "pos_tags=pos_tag(sample_token)\n",
    "print(\"POS_tag\",pos_tags)"
   ]
  },
  {
   "cell_type": "code",
   "execution_count": 11,
   "id": "beefecfb",
   "metadata": {},
   "outputs": [
    {
     "name": "stdout",
     "output_type": "stream",
     "text": [
      "Named Entity Recognition\n",
      "(S\n",
      "  bought/VBD\n",
      "  several/JJ\n",
      "  vitality/NN\n",
      "  canned/VBD\n",
      "  dog/JJ\n",
      "  food/NN\n",
      "  products/NNS\n",
      "  found/VBD\n",
      "  good/JJ\n",
      "  quality/NN\n",
      "  product/NN\n",
      "  looks/VBZ\n",
      "  like/IN\n",
      "  stew/NN\n",
      "  processed/VBN\n",
      "  meat/NN\n",
      "  smells/NNS\n",
      "  better/RBR\n",
      "  labrador/NN\n",
      "  finicky/JJ\n",
      "  appreciates/VBZ\n",
      "  product/NN\n",
      "  better/RBR)\n"
     ]
    }
   ],
   "source": [
    "ner=ne_chunk(pos_tags)\n",
    "print(\"Named Entity Recognition\")\n",
    "print(ner)"
   ]
  },
  {
   "cell_type": "code",
   "execution_count": null,
   "id": "279d247f",
   "metadata": {},
   "outputs": [],
   "source": []
  }
 ],
 "metadata": {
  "kernelspec": {
   "display_name": "Python 3 (ipykernel)",
   "language": "python",
   "name": "python3"
  },
  "language_info": {
   "codemirror_mode": {
    "name": "ipython",
    "version": 3
   },
   "file_extension": ".py",
   "mimetype": "text/x-python",
   "name": "python",
   "nbconvert_exporter": "python",
   "pygments_lexer": "ipython3",
   "version": "3.11.5"
  }
 },
 "nbformat": 4,
 "nbformat_minor": 5
}
