{
 "cells": [
  {
   "cell_type": "code",
   "execution_count": 1,
   "id": "7f75065d-cec1-489d-98ac-a574abef291f",
   "metadata": {},
   "outputs": [
    {
     "name": "stdout",
     "output_type": "stream",
     "text": [
      "[1 2 3 4 5]\n"
     ]
    }
   ],
   "source": [
    "import numpy as np\n",
    "arr = np.array([1, 2, 3, 4, 5])\n",
    "print(arr)"
   ]
  },
  {
   "cell_type": "code",
   "execution_count": 2,
   "id": "d3552f7b-04f5-47bd-ba67-b208ceb6cf92",
   "metadata": {},
   "outputs": [
    {
     "name": "stdout",
     "output_type": "stream",
     "text": [
      "[0 1 2 3 4 5 6 7 8 9]\n",
      "<class 'numpy.ndarray'>\n"
     ]
    }
   ],
   "source": [
    "my_arr = np.arange(10)\n",
    "print(my_arr)\n",
    "print(type(my_arr))"
   ]
  },
  {
   "cell_type": "code",
   "execution_count": 3,
   "id": "0660406b-412c-401f-82c9-0d70d914d4c8",
   "metadata": {},
   "outputs": [
    {
     "name": "stdout",
     "output_type": "stream",
     "text": [
      "[0, 1, 2, 3, 4, 5, 6, 7, 8, 9]\n",
      "<class 'list'>\n"
     ]
    }
   ],
   "source": [
    "my_list = list(range(10))\n",
    "print(my_list)\n",
    "print(type(my_list))"
   ]
  },
  {
   "cell_type": "code",
   "execution_count": 5,
   "id": "1fd98174-5c2a-42e7-b5bf-85e09ecde4eb",
   "metadata": {},
   "outputs": [
    {
     "name": "stdout",
     "output_type": "stream",
     "text": [
      "Size of each element of list in bytes:  48\n",
      "Size of the whole list in bytes:  48000\n",
      "Size of each element of the Numpy array in bytes:  8\n",
      "Size of the whole Numpy array in bytes:  8000\n"
     ]
    }
   ],
   "source": [
    "import numpy as np\n",
    "import sys\n",
    "S= range(1000)\n",
    "print(\"Size of each element of list in bytes: \",sys.getsizeof(S))\n",
    "print(\"Size of the whole list in bytes: \",sys.getsizeof(S)*len(S))\n",
    "D= np.arange(1000)\n",
    "print(\"Size of each element of the Numpy array in bytes: \",D.itemsize)\n",
    "print(\"Size of the whole Numpy array in bytes: \",D.size*D.itemsize)"
   ]
  },
  {
   "cell_type": "code",
   "execution_count": 6,
   "id": "cbdf3040-9e36-4f2d-bf48-8902f1f60e07",
   "metadata": {},
   "outputs": [
    {
     "name": "stdout",
     "output_type": "stream",
     "text": [
      "<class 'range'>\n"
     ]
    }
   ],
   "source": [
    "print(type(S))"
   ]
  },
  {
   "cell_type": "code",
   "execution_count": 67,
   "id": "fd0136d7-4579-4d08-aa87-4af5bd01772c",
   "metadata": {},
   "outputs": [
    {
     "name": "stdout",
     "output_type": "stream",
     "text": [
      "float64\n",
      "float64\n",
      "float64\n",
      "int64\n",
      "float64\n"
     ]
    }
   ],
   "source": [
    "print(arr1.dtype)\n",
    "print(arr2.dtype)\n",
    "print(arr3.dtype)\n",
    "print(arr4.dtype)\n",
    "print(arr5.dtype)"
   ]
  },
  {
   "cell_type": "code",
   "execution_count": 70,
   "id": "ea86096f-d668-4f29-b573-dbc24ca0169f",
   "metadata": {},
   "outputs": [
    {
     "name": "stdout",
     "output_type": "stream",
     "text": [
      "[1 2 3 4 5]\n",
      "[[1 2 3]\n",
      " [4 5 6]]\n",
      "[[[1 2 3]\n",
      "  [4 5 6]]\n",
      "\n",
      " [[1 2 3]\n",
      "  [4 5 6]]]\n"
     ]
    }
   ],
   "source": [
    "arr5=np.array([1, 2, 3, 4, 5])\n",
    "arr6=np.array([[1, 2, 3], [4, 5, 6]])\n",
    "arr7=np.array([[[1, 2, 3], [4, 5, 6]], [[1, 2, 3], [4, 5, 6]]])\n",
    "print(arr5)\n",
    "print(arr6)\n",
    "print(arr7)"
   ]
  },
  {
   "cell_type": "code",
   "execution_count": 7,
   "id": "9c59b486-1795-4cfa-91a0-76049e0822e1",
   "metadata": {},
   "outputs": [
    {
     "name": "stdout",
     "output_type": "stream",
     "text": [
      "[[[[[1 2 3 4]]]]]\n",
      "number of dimensions : 5\n"
     ]
    }
   ],
   "source": [
    "arr = np.array([1, 2, 3, 4], ndmin=5)\n",
    "print(arr)\n",
    "print('number of dimensions :', arr.ndim)"
   ]
  },
  {
   "cell_type": "code",
   "execution_count": 8,
   "id": "59add2c7-e418-48b4-a1fe-95bca0232ced",
   "metadata": {},
   "outputs": [
    {
     "name": "stdout",
     "output_type": "stream",
     "text": [
      "Shape=  (2, 3)\n",
      "Type=  float64\n",
      "Data =  [[ 1.5 -0.1  3. ]\n",
      " [ 0.  -3.   6.5]]\n",
      "\n",
      "Ans1 =  [[ 15.  -1.  30.]\n",
      " [  0. -30.  65.]]\n",
      "\n",
      "Ans2=  [[ 3.  -0.2  6. ]\n",
      " [ 0.  -6.  13. ]]\n"
     ]
    }
   ],
   "source": [
    "data = np.array([[1.5, -0.1, 3], [0, -3, 6.5]])\n",
    "print(\"Shape= \",data.shape)\n",
    "print(\"Type= \",data.dtype)\n",
    "print(\"Data = \", data)\n",
    "print(\"\\nAns1 = \",data * 10)\n",
    "print(\"\\nAns2= \",data+data)"
   ]
  },
  {
   "cell_type": "code",
   "execution_count": 9,
   "id": "90c6c868-6e85-4e78-9531-0145981a7f9b",
   "metadata": {},
   "outputs": [
    {
     "name": "stdout",
     "output_type": "stream",
     "text": [
      "<class 'numpy.ndarray'>\n",
      "[1 2 3 4 5]\n",
      "\n",
      " int64\n"
     ]
    }
   ],
   "source": [
    "my_list = [1, 2, 3, 4, 5]\n",
    "arr = np.array(my_list)\n",
    "print(type(arr))\n",
    "print(arr)\n",
    "print(\"\\n\", arr.dtype)"
   ]
  },
  {
   "cell_type": "code",
   "execution_count": 66,
   "id": "52505668-dc19-4424-a3c7-495ab314c5d0",
   "metadata": {},
   "outputs": [
    {
     "name": "stdout",
     "output_type": "stream",
     "text": [
      "[0. 0. 0. 0. 0. 0.]\n",
      "[1. 1. 1. 1. 1. 1.]\n",
      "[1. 1. 1.]\n",
      "[1 2 3 4 5]\n",
      "[[1. 0. 0.]\n",
      " [0. 1. 0.]\n",
      " [0. 0. 1.]]\n"
     ]
    }
   ],
   "source": [
    "arr1=np.zeros(6)\n",
    "print(arr1)\n",
    "arr2=np.ones(6)\n",
    "print(arr2)\n",
    "arr3=np.empty(3)\n",
    "print(arr3)\n",
    "arr4=np.array([1,2,3,4,5])\n",
    "print(arr4)\n",
    "arr5=np.eye(3)\n",
    "print(arr5)"
   ]
  },
  {
   "cell_type": "code",
   "execution_count": 19,
   "id": "46c82238-a1d9-4e72-9834-ecfdd96a8d96",
   "metadata": {},
   "outputs": [
    {
     "name": "stdout",
     "output_type": "stream",
     "text": [
      "float64\n",
      "int32\n"
     ]
    }
   ],
   "source": [
    "import numpy as np\n",
    "arr1 = np.array([1, 2, 3], dtype='d')\n",
    "arr2 = np.array([1, 2, 3], dtype=np.int32)\n",
    "print(arr1.dtype)\n",
    "print(arr2.dtype)"
   ]
  },
  {
   "cell_type": "code",
   "execution_count": 11,
   "id": "b91b9009-5485-4696-acc3-cd1d1bb1e805",
   "metadata": {},
   "outputs": [
    {
     "name": "stdout",
     "output_type": "stream",
     "text": [
      "Before converting:  [1 2 3] int64\n",
      "After converting:  [1. 2. 3.] float32\n"
     ]
    }
   ],
   "source": [
    "arr = np.array([1, 2, 3])\n",
    "print(\"Before converting: \", arr, arr.dtype)\n",
    "new_arr = arr.astype('f')\n",
    "print(\"After converting: \", new_arr, new_arr.dtype)"
   ]
  },
  {
   "cell_type": "code",
   "execution_count": 12,
   "id": "0fa87fce-4df8-440b-a245-dcd444320110",
   "metadata": {},
   "outputs": [
    {
     "name": "stdout",
     "output_type": "stream",
     "text": [
      "Before converting:  [1.1 2.2 3.3] float64\n",
      "After converting:  [1 2 3] int32\n"
     ]
    }
   ],
   "source": [
    "arr = np.array([1.1, 2.2, 3.3])\n",
    "print(\"Before converting: \", arr, arr.dtype)\n",
    "new_arr = arr.astype('i')\n",
    "print(\"After converting: \", new_arr, new_arr.dtype)"
   ]
  },
  {
   "cell_type": "code",
   "execution_count": 13,
   "id": "aba28a53-1352-4ba3-ba2d-c16075a05dd1",
   "metadata": {},
   "outputs": [
    {
     "name": "stdout",
     "output_type": "stream",
     "text": [
      "Before converting:  ['1.1' '2.2' '-3.3'] <U4\n",
      "After converting:  [ 1.1  2.2 -3.3] float32\n"
     ]
    }
   ],
   "source": [
    "arr = np.array(['1.1', '2.2', '-3.3'])\n",
    "print(\"Before converting: \", arr, arr.dtype)\n",
    "new_arr = arr.astype('f')\n",
    "print(\"After converting: \", new_arr, new_arr.dtype)"
   ]
  },
  {
   "cell_type": "code",
   "execution_count": 16,
   "id": "abb6b12a-e41f-40d1-b076-b1f2ff4a816d",
   "metadata": {},
   "outputs": [
    {
     "name": "stdout",
     "output_type": "stream",
     "text": [
      "Before converting:  ['1.1' '2.2' 'abc'] <U3\n",
      "Conversion failed: could not convert string to float: np.str_('abc')\n"
     ]
    }
   ],
   "source": [
    "arr = np.array(['1.1', '2.2', 'abc'])\n",
    "print(\"Before converting: \", arr, arr.dtype)\n",
    "try:\n",
    "    new_arr = arr.astype('f')\n",
    "    print(\"After converting: \", new_arr, new_arr.dtype)\n",
    "except ValueError as e:\n",
    "    print(\"Conversion failed:\", e)"
   ]
  },
  {
   "cell_type": "code",
   "execution_count": 17,
   "id": "f44bbf4e-8d1c-405c-9fb9-f72dfc98cbdd",
   "metadata": {},
   "outputs": [
    {
     "name": "stdout",
     "output_type": "stream",
     "text": [
      "array 1\n",
      " [0 1 2 3 4 5 6 7 8 9] int64\n",
      "Array 2 \n",
      " [-0.85096258 -1.30802743 -0.63434512 -1.19566048  0.75698268 -0.96427669\n",
      "  0.39860475  0.33730931  1.48156742 -2.25557825] float64\n",
      "New Array \n",
      " [0. 1. 2. 3. 4. 5. 6. 7. 8. 9.] float64\n"
     ]
    }
   ],
   "source": [
    "arr1 = np.arange(10)\n",
    "arr2 = np.random.randn(10)\n",
    "print(\"array 1\\n\",arr1, arr1.dtype)\n",
    "print(\"Array 2 \\n\",arr2, arr2.dtype)\n",
    "new_arr = arr1.astype(arr2.dtype)\n",
    "print(\"New Array \\n\",new_arr, new_arr.dtype)"
   ]
  },
  {
   "cell_type": "code",
   "execution_count": 20,
   "id": "e79516cb-0f2b-4983-b5ca-cb1585aa60a2",
   "metadata": {},
   "outputs": [
    {
     "name": "stdout",
     "output_type": "stream",
     "text": [
      "['hello' 'world' 'numpy']\n"
     ]
    }
   ],
   "source": [
    "str_arr = np.array(['hello', 'world', 'numpy'])\n",
    "print(str_arr)"
   ]
  },
  {
   "cell_type": "code",
   "execution_count": 22,
   "id": "422589ec-8a51-4e85-b7f9-196ce3592736",
   "metadata": {},
   "outputs": [
    {
     "name": "stdout",
     "output_type": "stream",
     "text": [
      "[ 6.  8. 10. 12.]\n",
      "[-4. -4. -4. -4.]\n",
      "[ 5. 12. 21. 32.]\n",
      "[0.2        0.33333333 0.42857143 0.5       ]\n",
      "[1.0000e+00 6.4000e+01 2.1870e+03 6.5536e+04]\n"
     ]
    }
   ],
   "source": [
    "import numpy as np\n",
    "a = np.array([1., 2., 3., 4.])\n",
    "b = np.array([5., 6., 7., 8.])\n",
    "print(a + b) \n",
    "print(a - b) \n",
    "print(a * b) \n",
    "print(a / b) \n",
    "print(a ** b)"
   ]
  },
  {
   "cell_type": "code",
   "execution_count": 25,
   "id": "507d66ab-afe8-4a94-899c-c6d8a6ecf697",
   "metadata": {},
   "outputs": [
    {
     "name": "stdout",
     "output_type": "stream",
     "text": [
      "[2. 3. 4. 5.]\n",
      "[0. 1. 2. 3.]\n",
      "[2. 4. 6. 8.]\n",
      "[0.5 1.  1.5 2. ]\n",
      "[ 1.  4.  9. 16.]\n",
      "[1.         0.5        0.33333333 0.25      ]\n"
     ]
    }
   ],
   "source": [
    "a=np.array([1.,2.,3.,4.])\n",
    "print(a+1)\n",
    "print(a-1)\n",
    "print(a*2)\n",
    "print(a/2)\n",
    "print(a**2)\n",
    "print(1/a)"
   ]
  },
  {
   "cell_type": "code",
   "execution_count": 32,
   "id": "04f24fb7-8fc6-4d3b-bdf0-efb7d712b79a",
   "metadata": {},
   "outputs": [
    {
     "name": "stdout",
     "output_type": "stream",
     "text": [
      "[[ 0  1  2]\n",
      " [ 3  4  5]\n",
      " [ 6  7  8]\n",
      " [ 9 10 11]]\n",
      "\n",
      " [[ 0  4  8]\n",
      " [ 1  5  9]\n",
      " [ 2  6 10]\n",
      " [ 3  7 11]]\n"
     ]
    }
   ],
   "source": [
    "arr = np.arange(12)\n",
    "newarr = arr.reshape(4, 3)\n",
    "print(newarr)\n",
    "newarr = arr.reshape((4, 3),order='F')\n",
    "print(\"\\n\",newarr)"
   ]
  },
  {
   "cell_type": "code",
   "execution_count": 34,
   "id": "a195ac01-5b39-4cd3-a211-b9051e324803",
   "metadata": {},
   "outputs": [
    {
     "name": "stdout",
     "output_type": "stream",
     "text": [
      "[[ 1  2  3  4  9 10]\n",
      " [ 5  6  7  8 11 12]]\n",
      "\n",
      " [[[ 1  2]\n",
      "  [ 3  4]]\n",
      "\n",
      " [[ 9 10]\n",
      "  [ 5  6]]\n",
      "\n",
      " [[ 7  8]\n",
      "  [11 12]]]\n",
      "\n",
      " reshape(3,-1) \n",
      " [[ 1  2  3  4]\n",
      " [ 9 10  5  6]\n",
      " [ 7  8 11 12]]\n"
     ]
    }
   ],
   "source": [
    "arr = np.array([[1, 2, 3, 4, 9, 10], [5, 6, 7, 8, 11, 12]])\n",
    "print(arr)\n",
    "newarr = arr.reshape(3, 2, 2)\n",
    "print(\"\\n\",newarr)\n",
    "newarr1 = newarr.reshape(3, -1)\n",
    "print(\"\\n reshape(3,-1) \\n\",newarr1)"
   ]
  },
  {
   "cell_type": "code",
   "execution_count": 35,
   "id": "30b5c04b-33da-4b73-b036-83e7e9400bcf",
   "metadata": {},
   "outputs": [
    {
     "name": "stdout",
     "output_type": "stream",
     "text": [
      "Original array:\n",
      " [[10 20]\n",
      " [30 40]]\n",
      "Flattened array:\n",
      " [999  20  30  40]\n",
      "Original array:\n",
      " [[ 10 888]\n",
      " [ 30  40]]\n",
      "Raveled array:\n",
      " [ 10 888  30  40]\n",
      "Original array:\n",
      " [[ 10 888]\n",
      " [ 30  40]]\n"
     ]
    }
   ],
   "source": [
    "original_array = np.array([[10, 20], [30, 40]])\n",
    "print(\"Original array:\\n\", original_array)\n",
    "\n",
    "flattened_array = original_array.flatten()\n",
    "flattened_array[0] = 999\n",
    "print(\"Flattened array:\\n\", flattened_array)\n",
    "\n",
    "raveled_array = original_array.ravel()\n",
    "raveled_array[1] = 888\n",
    "print(\"Original array:\\n\", original_array)\n",
    "\n",
    "print(\"Raveled array:\\n\", raveled_array)\n",
    "print(\"Original array:\\n\", original_array)"
   ]
  },
  {
   "cell_type": "code",
   "execution_count": 36,
   "id": "5a7f3a54-804b-4f2c-bce3-51fdfb87ea78",
   "metadata": {},
   "outputs": [
    {
     "name": "stdout",
     "output_type": "stream",
     "text": [
      "Flattened array: [1 2 3 4 5 6]\n",
      "Original array after modification: [[10  2  3]\n",
      " [ 4  5  6]]\n"
     ]
    }
   ],
   "source": [
    "arr = np.array([[1, 2, 3], [4, 5, 6]])\n",
    "r_arr = np.ravel(arr)\n",
    "print(\"Flattened array:\", r_arr)\n",
    "r_arr[0] = 10\n",
    "print(\"Original array after modification:\", arr)"
   ]
  },
  {
   "cell_type": "code",
   "execution_count": 37,
   "id": "179baf20-1d87-4432-a17b-245714e33358",
   "metadata": {},
   "outputs": [
    {
     "name": "stdout",
     "output_type": "stream",
     "text": [
      "Flattened array: [1 2 3 4 5 6]\n",
      "original array after flattening: [[1 2 3]\n",
      " [4 5 6]]\n"
     ]
    }
   ],
   "source": [
    "arr = np.array([[1, 2, 3], [4, 5, 6]])\n",
    "f_arr = arr.flatten()\n",
    "print(\"Flattened array:\", f_arr)\n",
    "f_arr[0] = 10\n",
    "print(\"original array after flattening:\", arr)"
   ]
  },
  {
   "cell_type": "code",
   "execution_count": 38,
   "id": "0a57617c-1263-4e32-a80b-2d13c78154dd",
   "metadata": {},
   "outputs": [
    {
     "name": "stdout",
     "output_type": "stream",
     "text": [
      "Greater than:\n",
      " [[False  True]\n",
      " [False False]]\n",
      "\n",
      "Less than:\n",
      " [[ True False]\n",
      " [False  True]]\n",
      "\n",
      "Equal to:\n",
      " [[False False]\n",
      " [ True False]]\n",
      "\n",
      "Array-wise comparison 1: True\n",
      "Array-wise comparison 2: False\n"
     ]
    }
   ],
   "source": [
    "import numpy as np\n",
    "arr1 = np.array([[1, 2], [3, 4]])\n",
    "arr2 = np.array([[2, 1], [3, 5]])\n",
    "\n",
    "greater_than = arr1 > arr2\n",
    "less_than = arr1 < arr2\n",
    "equal_to = arr1 == arr2\n",
    "print(\"Greater than:\\n\", greater_than)\n",
    "print(\"\\nLess than:\\n\", less_than)\n",
    "print(\"\\nEqual to:\\n\", equal_to)\n",
    "\n",
    "arr3 = np.array([1, 2, 3])\n",
    "arr4 = np.array([1, 2, 3])\n",
    "arr5 = np.array([1, 2, 4])\n",
    "result1 = np.array_equal(arr3, arr4)\n",
    "result2 = np.array_equal(arr3, arr5)\n",
    "print(\"\\nArray-wise comparison 1:\", result1)\n",
    "print(\"Array-wise comparison 2:\", result2)"
   ]
  },
  {
   "cell_type": "code",
   "execution_count": 45,
   "id": "4cd0789d-8ef2-4fac-b894-832af2db8da6",
   "metadata": {},
   "outputs": [
    {
     "data": {
      "text/plain": [
       "array([[ 0,  1,  2],\n",
       "       [ 3,  4,  5],\n",
       "       [ 6,  7,  8],\n",
       "       [ 9, 10, 11],\n",
       "       [12, 13, 14]])"
      ]
     },
     "execution_count": 45,
     "metadata": {},
     "output_type": "execute_result"
    }
   ],
   "source": [
    "arr = np.arange(15)\n",
    "arr.reshape((5, -1))"
   ]
  },
  {
   "cell_type": "code",
   "execution_count": 46,
   "id": "4a61ef3c-71ea-4b3a-b302-c5e69bcb6ad8",
   "metadata": {},
   "outputs": [
    {
     "data": {
      "text/plain": [
       "array([[ 0,  1,  2,  3,  4],\n",
       "       [ 5,  6,  7,  8,  9],\n",
       "       [10, 11, 12, 13, 14]])"
      ]
     },
     "execution_count": 46,
     "metadata": {},
     "output_type": "execute_result"
    }
   ],
   "source": [
    "other_arr = np.ones((3, 5))\n",
    "arr.reshape(other_arr.shape)"
   ]
  },
  {
   "cell_type": "code",
   "execution_count": 47,
   "id": "8c7ca0f6-7031-401e-936c-72f08eb4fecb",
   "metadata": {},
   "outputs": [
    {
     "name": "stdout",
     "output_type": "stream",
     "text": [
      "x=  [0 1 2 3 4 5 6 7 8 9]\n",
      "\n",
      " x[:5]=  [0 1 2 3 4]\n",
      "\n",
      " x[5:]=  [5 6 7 8 9]\n",
      "\n",
      " x[4:7]=  [4 5 6]\n",
      "\n",
      " x[::2]=  [0 2 4 6 8]\n",
      "\n",
      " x[1::2]=  [1 3 5 7 9]\n",
      "\n",
      " x[::-1]=  [9 8 7 6 5 4 3 2 1 0]\n",
      "\n",
      " x[5::-2]=  [5 3 1]\n"
     ]
    }
   ],
   "source": [
    "import numpy as np\n",
    "x = np.arange(10)\n",
    "print(\"x= \",x)\n",
    "print(\"\\n x[:5]= \",x[:5])\n",
    "print(\"\\n x[5:]= \",x[5:])\n",
    "print(\"\\n x[4:7]= \",x[4:7])\n",
    "print(\"\\n x[::2]= \",x[::2])\n",
    "print(\"\\n x[1::2]= \",x[1::2])\n",
    "print(\"\\n x[::-1]= \",x[::-1])\n",
    "print(\"\\n x[5::-2]= \",x[5::-2])"
   ]
  },
  {
   "cell_type": "code",
   "execution_count": 48,
   "id": "2a13ef7a-d548-4d18-8e00-5043747fa7de",
   "metadata": {},
   "outputs": [
    {
     "name": "stdout",
     "output_type": "stream",
     "text": [
      "[0 1 2 3 4 5 6 7 8 9]\n",
      "\n",
      " After broadcasting1 [0 1 2 3 4 2 2 2 2 2]\n",
      "\n",
      " After broadcasting2 [100   1 100   3 100   2 100   2 100   2]\n"
     ]
    }
   ],
   "source": [
    "x = np.arange(10)\n",
    "print(x)\n",
    "x[5:] = 2\n",
    "print(\"\\n After broadcasting1\",x)\n",
    "x[::2] = 100\n",
    "print(\"\\n After broadcasting2\",x)"
   ]
  },
  {
   "cell_type": "code",
   "execution_count": 51,
   "id": "5d781b74-8bdd-47a4-91e6-c2e481e79872",
   "metadata": {},
   "outputs": [
    {
     "name": "stdout",
     "output_type": "stream",
     "text": [
      "Original array: [0 1 2 3 4 5 6 7 8 9]\n",
      "View of the array: [2 3 4 5 6]\n",
      "Modified view: [ 2 99 99 99  6]\n",
      "Original array after modifying the view: [ 0  1  2 99 99 99  6  7  8  9]\n",
      "Modified view: [-9 -9 -9 -9 -9]\n",
      "Original array after modifying the view: [ 0  1 -9 -9 -9 -9 -9  7  8  9]\n",
      "Modified copy: [100 100 100 100 100]\n",
      "Original array: [ 0  1 -9 -9 -9 -9 -9  7  8  9]\n"
     ]
    }
   ],
   "source": [
    "x = np.arange(10)\n",
    "print(\"Original array:\", x)\n",
    "view = x[2:7]\n",
    "print(\"View of the array:\", view)\n",
    "view[1:4] = 99\n",
    "print(\"Modified view:\", view)\n",
    "print(\"Original array after modifying the view:\", x)\n",
    "view[:] = -9\n",
    "print(\"Modified view:\", view)\n",
    "print(\"Original array after modifying the view:\", x)\n",
    "x_copy = x[2:7].copy()\n",
    "x_copy[:] = 100\n",
    "print(\"Modified copy:\", x_copy)\n",
    "print(\"Original array:\", x)"
   ]
  },
  {
   "cell_type": "code",
   "execution_count": 52,
   "id": "2efb1f91-be5b-4d6c-b0fb-181b2d19e2d9",
   "metadata": {},
   "outputs": [
    {
     "name": "stdout",
     "output_type": "stream",
     "text": [
      "1\n",
      "8\n",
      "7\n",
      "[12  5  2  4]\n"
     ]
    }
   ],
   "source": [
    "x2 = np.array([[12, 5, 2, 4],[ 7, 6, 8, 8],[ 1, 6, 7, 7]])\n",
    "print(x2[2,0])\n",
    "print(x2[1][2])\n",
    "print(x2[2,-1])\n",
    "print(x2[0])"
   ]
  },
  {
   "cell_type": "code",
   "execution_count": 55,
   "id": "b5890a8a-5161-4b8d-98a2-a208c279375c",
   "metadata": {},
   "outputs": [
    {
     "name": "stdout",
     "output_type": "stream",
     "text": [
      "[[12  5  2  4]\n",
      " [ 7  6  8  8]]\n",
      "7\n",
      "8\n",
      "9\n"
     ]
    }
   ],
   "source": [
    "import numpy as np\n",
    "\n",
    "x3 = np.array([\n",
    "    [[12, 5, 2, 4],\n",
    "     [ 7, 6, 8, 8]],\n",
    "    [[ 1, 6, 7, 7],\n",
    "     [ 3, 4, 5, 9]]\n",
    "])\n",
    "\n",
    "print(x3[0])\n",
    "print(x3[1, 0, 2])\n",
    "print(x3[0][1][2])\n",
    "print(x3[1, -1, -1])"
   ]
  },
  {
   "cell_type": "code",
   "execution_count": 56,
   "id": "499c31d3-e655-407b-9079-e049afebe572",
   "metadata": {},
   "outputs": [
    {
     "name": "stdout",
     "output_type": "stream",
     "text": [
      "\n",
      " x2 = \n",
      " [[99 99 99 99]\n",
      " [ 7  6  8  8]\n",
      " [ 1  6  7  7]]\n",
      "\n",
      " x3 = \n",
      " [[[12  5  2  4]\n",
      "  [ 7  6  8  8]]\n",
      "\n",
      " [[99 99 99 99]\n",
      "  [99 99 99 99]]]\n",
      "\n",
      " x3 = \n",
      " [[[12  5  2  4]\n",
      "  [ 7  6  8  8]]\n",
      "\n",
      " [[ 1  6  7  7]\n",
      "  [ 3  4  5  9]]]\n"
     ]
    }
   ],
   "source": [
    "x2_old = x2.copy()\n",
    "x2[0] = 99\n",
    "print(\"\\n x2 = \\n\", x2)\n",
    "\n",
    "x3_old = x3[1].copy()\n",
    "x3[1] = 99\n",
    "print(\"\\n x3 = \\n\", x3)\n",
    "\n",
    "x3[1] = x3_old\n",
    "print(\"\\n x3 = \\n\", x3)"
   ]
  },
  {
   "cell_type": "code",
   "execution_count": 58,
   "id": "5dfc310b-28e6-4273-9775-4adabbdd646f",
   "metadata": {},
   "outputs": [
    {
     "name": "stdout",
     "output_type": "stream",
     "text": [
      "x2=  [[12  5  2  4]\n",
      " [ 7  6  8  8]\n",
      " [ 1  6  7  7]]\n",
      "\n",
      " x2[:2, :3] = \n",
      " [[12  5  2]\n",
      " [ 7  6  8]]\n",
      "\n",
      " x2[:3, ::2]=\n",
      "  [[12  2]\n",
      " [ 7  8]\n",
      " [ 1  7]]\n",
      "\n",
      " x2[::-1,::-1]= \n",
      " [[ 7  7  6  1]\n",
      " [ 8  8  6  7]\n",
      " [ 4  2  5 12]]\n",
      "\n",
      " x2[::-1]= \n",
      " [[ 1  6  7  7]\n",
      " [ 7  6  8  8]\n",
      " [12  5  2  4]]\n"
     ]
    }
   ],
   "source": [
    "x2 = np.array([[12, 5, 2, 4], [7, 6, 8, 8], [1, 6, 7, 7]])\n",
    "print(\"x2= \",x2)\n",
    "print(\"\\n x2[:2, :3] = \\n\",x2[:2, :3])\n",
    "print(\"\\n x2[:3, ::2]=\\n \",x2[:3, ::2])\n",
    "print(\"\\n x2[::-1,::-1]= \\n\",x2[::-1, ::-1])\n",
    "print(\"\\n x2[::-1]= \\n\",x2[::-1])"
   ]
  },
  {
   "cell_type": "code",
   "execution_count": 59,
   "id": "20fddc0d-77e3-4a18-a4bc-073af1300c12",
   "metadata": {},
   "outputs": [
    {
     "name": "stdout",
     "output_type": "stream",
     "text": [
      "[[[ 0  1  2  3]\n",
      "  [ 4  5  6  7]\n",
      "  [ 8  9 10 11]]\n",
      "\n",
      " [[12 13 14 15]\n",
      "  [16 17 18 19]\n",
      "  [20 21 22 23]]]\n",
      "[[ 0  1  2  3]\n",
      " [12 13 14 15]]\n",
      "[[ 0  4  8]\n",
      " [12 16 20]]\n",
      "[[ 0  4  8]\n",
      " [12 16 20]]\n"
     ]
    }
   ],
   "source": [
    "import numpy as np\n",
    "x=np.arange(24).reshape(2,3,4)\n",
    "print(x)\n",
    "print(x[:,0])\n",
    "print(x[:,:,0])\n",
    "print(x[...,0])"
   ]
  },
  {
   "cell_type": "code",
   "execution_count": 60,
   "id": "b9527223-df20-4687-810d-f98d9e24efc4",
   "metadata": {},
   "outputs": [
    {
     "name": "stdout",
     "output_type": "stream",
     "text": [
      "x2= \n",
      " [[12  5  2  4]\n",
      " [ 7  6  8  8]\n",
      " [ 1  6  7  7]]\n",
      "x2[:2, ::2]= \n",
      " [[12  2]\n",
      " [ 7  8]]\n",
      "x2[1, :2]= \n",
      " [7 6]\n"
     ]
    }
   ],
   "source": [
    "print(\"x2= \\n\",x2)\n",
    "print(\"x2[:2, ::2]= \\n\",x2[:2, ::2])\n",
    "print(\"x2[1, :2]= \\n\",x2[1, :2])"
   ]
  },
  {
   "cell_type": "code",
   "execution_count": 61,
   "id": "41466da8-c8da-4ac3-baa3-bd985480662e",
   "metadata": {},
   "outputs": [
    {
     "name": "stdout",
     "output_type": "stream",
     "text": [
      "a= \n",
      " [[ 0  1  2  3]\n",
      " [ 4  5  6  7]\n",
      " [ 8  9 10 11]]\n",
      "b= \n",
      " [[False False False False]\n",
      " [False  True  True  True]\n",
      " [ True  True  True  True]]\n",
      "a[b]= \n",
      " [ 5  6  7  8  9 10 11]\n",
      "a= \n",
      " [[0 1 2 3]\n",
      " [4 1 1 1]\n",
      " [1 1 1 1]]\n"
     ]
    }
   ],
   "source": [
    "a=np.arange(12).reshape(3,4)\n",
    "print(\"a= \\n\",a)\n",
    "b=a>4\n",
    "print(\"b= \\n\",b)\n",
    "print(\"a[b]= \\n\",a[b]) # 1d array\n",
    "a[b] = 1\n",
    "print(\"a= \\n\",a)"
   ]
  },
  {
   "cell_type": "code",
   "execution_count": 58,
   "id": "244f4a46-2562-4ffa-a170-dd52665c739a",
   "metadata": {},
   "outputs": [
    {
     "name": "stdout",
     "output_type": "stream",
     "text": [
      "['Bob' 'Joe' 'Will' 'Bob' 'Will' 'Joe' 'Joe']\n"
     ]
    }
   ],
   "source": [
    "names=np.array(['Bob','Joe','Will','Bob','Will','Joe','Joe'])\n",
    "data=np.arange(28).reshape(7,4)\n",
    "print(names)"
   ]
  },
  {
   "cell_type": "code",
   "execution_count": 59,
   "id": "50011eea-66e3-426c-995a-7ee06f22a577",
   "metadata": {},
   "outputs": [
    {
     "name": "stdout",
     "output_type": "stream",
     "text": [
      "data= \n",
      " [[ 0  1  2  3]\n",
      " [ 4  5  6  7]\n",
      " [ 8  9 10 11]\n",
      " [12 13 14 15]\n",
      " [16 17 18 19]\n",
      " [20 21 22 23]\n",
      " [24 25 26 27]]\n"
     ]
    }
   ],
   "source": [
    "print(\"data= \\n\",data)"
   ]
  },
  {
   "cell_type": "code",
   "execution_count": 60,
   "id": "a1cff211-d44d-4ee3-9106-7b4bc3457761",
   "metadata": {},
   "outputs": [
    {
     "name": "stdout",
     "output_type": "stream",
     "text": [
      "names bool= \n",
      " [ True False False  True False False False]\n"
     ]
    }
   ],
   "source": [
    "print(\"names bool= \\n\",names=='Bob')"
   ]
  },
  {
   "cell_type": "code",
   "execution_count": 61,
   "id": "daa4908a-54b3-449e-896e-b99e93ebf132",
   "metadata": {},
   "outputs": [
    {
     "name": "stdout",
     "output_type": "stream",
     "text": [
      "names == 'Bob' \n",
      " [[ 0  1  2  3]\n",
      " [12 13 14 15]]\n"
     ]
    }
   ],
   "source": [
    "print(\"names == 'Bob' \\n\",data[names == 'Bob'])"
   ]
  },
  {
   "cell_type": "code",
   "execution_count": 62,
   "id": "7cac3262-e156-423b-b8e6-322c0fc2f63b",
   "metadata": {},
   "outputs": [
    {
     "name": "stdout",
     "output_type": "stream",
     "text": [
      "names == 'Bob',2: \n",
      " [[ 2  3]\n",
      " [14 15]]\n"
     ]
    }
   ],
   "source": [
    "print(\"names == 'Bob',2: \\n\",data[names == 'Bob', 2:])"
   ]
  },
  {
   "cell_type": "code",
   "execution_count": 63,
   "id": "002252b7-6ad9-488c-8fec-f66ab12e01ef",
   "metadata": {},
   "outputs": [
    {
     "name": "stdout",
     "output_type": "stream",
     "text": [
      "names == 'Bob',3: \n",
      " [ 3 15]\n"
     ]
    }
   ],
   "source": [
    "print(\"names == 'Bob',3: \\n\",data[names == 'Bob', 3])"
   ]
  },
  {
   "cell_type": "code",
   "execution_count": 62,
   "id": "72091bac-2a4a-4b1c-bd0e-e7fee9f6cede",
   "metadata": {},
   "outputs": [
    {
     "name": "stdout",
     "output_type": "stream",
     "text": [
      "[[ 4  5  6  7]\n",
      " [ 8  9 10 11]\n",
      " [16 17 18 19]\n",
      " [20 21 22 23]\n",
      " [24 25 26 27]]\n",
      "\n",
      " [[ 4  5  6  7]\n",
      " [ 8  9 10 11]\n",
      " [16 17 18 19]\n",
      " [20 21 22 23]\n",
      " [24 25 26 27]]\n",
      "\n",
      "data= \n",
      " [[ 0  1  2  3]\n",
      " [-1 -1 -1 -1]\n",
      " [-1 -1 -1 -1]\n",
      " [12 13 14 15]\n",
      " [-1 -1 -1 -1]\n",
      " [-1 -1 -1 -1]\n",
      " [-1 -1 -1 -1]]\n"
     ]
    }
   ],
   "source": [
    "import numpy as np\n",
    "names = np.array(['Bob', 'Joe', 'Will', 'Bob', 'Will', 'Joe', 'Joe'])\n",
    "data = np.arange(28).reshape(7, 4)\n",
    "print(data[names != 'Bob'])\n",
    "print(\"\\n\",data[~(names == 'Bob')])\n",
    "data[names != 'Bob']=-1\n",
    "print(\"\\ndata= \\n\",data)"
   ]
  },
  {
   "cell_type": "code",
   "execution_count": 63,
   "id": "0e3e639f-81a1-4e73-a531-ff0b494bdc8c",
   "metadata": {},
   "outputs": [
    {
     "name": "stdout",
     "output_type": "stream",
     "text": [
      "People older than 29: ['Bob' 'David']\n",
      "Ages of Alice and Charlie: [25.5 28.2]\n"
     ]
    }
   ],
   "source": [
    "import numpy as np\n",
    "\n",
    "names = np.array(['Alice', 'Bob', 'Charlie', 'David'])\n",
    "ages = np.array([25.5, 30, 28.2, 35])\n",
    "\n",
    "older_than_29 = ages > 29\n",
    "print(\"People older than 29:\", names[older_than_29])\n",
    "\n",
    "names_to_select = (names == 'Alice') | (names == 'Charlie')\n",
    "print(\"Ages of Alice and Charlie:\", ages[names_to_select])"
   ]
  },
  {
   "cell_type": "code",
   "execution_count": 64,
   "id": "7e901a72-060c-4b06-9dc9-8b7e9713c720",
   "metadata": {},
   "outputs": [
    {
     "name": "stdout",
     "output_type": "stream",
     "text": [
      "Hot cities: ['Los Angeles' 'Houston']\n"
     ]
    }
   ],
   "source": [
    "import numpy as np\n",
    "\n",
    "city_names = np.array(['New York', 'Los Angeles', 'Chicago', 'Houston'])\n",
    "temperatures = np.array([25, 32, 28, 35])\n",
    "\n",
    "hot_threshold = 30\n",
    "hot_cities_bool = temperatures > hot_threshold\n",
    "hot_cities = city_names[hot_cities_bool]\n",
    "print(\"Hot cities:\", hot_cities)"
   ]
  },
  {
   "cell_type": "code",
   "execution_count": 66,
   "id": "1c439f16-bdf4-4089-8022-ab025d63ae52",
   "metadata": {},
   "outputs": [
    {
     "name": "stdout",
     "output_type": "stream",
     "text": [
      "Updated temperatures: [ 0 32  0 35]\n"
     ]
    }
   ],
   "source": [
    "city_names = np.array(['New York', 'Los Angeles', 'Chicago', 'Houston'])\n",
    "temperatures = np.array([-25, 32, -28, 35])\n",
    "negative_temp_indices = temperatures < 0 \n",
    "temperatures[negative_temp_indices] = 0\n",
    "print(\"Updated temperatures:\", temperatures)"
   ]
  },
  {
   "cell_type": "code",
   "execution_count": 67,
   "id": "bf3e7a5d-05ee-4080-b9a8-3a965ec906da",
   "metadata": {},
   "outputs": [
    {
     "name": "stdout",
     "output_type": "stream",
     "text": [
      "arr= \n",
      " [[ 0  1  2  3]\n",
      " [ 4  5  6  7]\n",
      " [ 8  9 10 11]\n",
      " [12 13 14 15]\n",
      " [16 17 18 19]\n",
      " [20 21 22 23]\n",
      " [24 25 26 27]\n",
      " [28 29 30 31]]\n",
      "\n",
      "arr[[1, 5, 7, 2]]= \n",
      " [[ 4  5  6  7]\n",
      " [20 21 22 23]\n",
      " [28 29 30 31]\n",
      " [ 8  9 10 11]]\n",
      "\n",
      "arr[[1, 5, 7, 2], [0, 3, 1, 2]]= \n",
      " [ 4 23 29 10]\n",
      "\n",
      "arr[[1, 5, 7, 2]][:, [0, 3, 1, 2]]= \n",
      " [[ 4  7  5  6]\n",
      " [20 23 21 22]\n",
      " [28 31 29 30]\n",
      " [ 8 11  9 10]]\n",
      "\n",
      "arr[[-3, -5, -7]]= \n",
      " [[20 21 22 23]\n",
      " [12 13 14 15]\n",
      " [ 4  5  6  7]]\n",
      "\n",
      "arr= \n",
      " [[ 0  1  2  3]\n",
      " [ 1  1  1  1]\n",
      " [ 1  1  1  1]\n",
      " [12 13 14 15]\n",
      " [16 17 18 19]\n",
      " [ 1  1  1  1]\n",
      " [24 25 26 27]\n",
      " [ 1  1  1  1]]\n"
     ]
    }
   ],
   "source": [
    "arr = np.arange(32).reshape(8, 4)\n",
    "print(\"arr= \\n\", arr)\n",
    "\n",
    "print(\"\\narr[[1, 5, 7, 2]]= \\n\", arr[[1, 5, 7, 2]])\n",
    "\n",
    "print(\"\\narr[[1, 5, 7, 2], [0, 3, 1, 2]]= \\n\", arr[[1, 5, 7, 2], [0, 3, 1, 2]])\n",
    "\n",
    "print(\"\\narr[[1, 5, 7, 2]][:, [0, 3, 1, 2]]= \\n\", arr[[1, 5, 7, 2]][:, [0, 3, 1, 2]])\n",
    "\n",
    "print(\"\\narr[[-3, -5, -7]]= \\n\", arr[[-3, -5, -7]])\n",
    "arr[[1, 5, 7, 2]] = 1\n",
    "print(\"\\narr= \\n\", arr)"
   ]
  },
  {
   "cell_type": "code",
   "execution_count": 68,
   "id": "b611beaf-eadf-4719-bdb2-f80a7d46b119",
   "metadata": {},
   "outputs": [
    {
     "name": "stdout",
     "output_type": "stream",
     "text": [
      "[[ 0  1  2  3]\n",
      " [ 4  5  6  7]\n",
      " [ 8  9 10 11]]\n",
      "Transpose using .T\n",
      "[[ 0  4  8]\n",
      " [ 1  5  9]\n",
      " [ 2  6 10]\n",
      " [ 3  7 11]]\n",
      "Transpose using the transpose() function\n",
      "[[ 0  4  8]\n",
      " [ 1  5  9]\n",
      " [ 2  6 10]\n",
      " [ 3  7 11]]\n"
     ]
    }
   ],
   "source": [
    "import numpy as np\n",
    "arr = np.arange(12).reshape((3, 4))\n",
    "print(arr)\n",
    "print(\"Transpose using .T\")\n",
    "print(arr.T)\n",
    "print(\"Transpose using the transpose() function\")\n",
    "print(np.transpose(arr))"
   ]
  },
  {
   "cell_type": "code",
   "execution_count": 69,
   "id": "935b704c-30cd-47e9-998b-c75ba8c0a710",
   "metadata": {},
   "outputs": [
    {
     "name": "stdout",
     "output_type": "stream",
     "text": [
      "[[ 0  4  8]\n",
      " [ 1  5  9]\n",
      " [ 2  6 10]\n",
      " [ 3  7 11]]\n",
      "[[ 0  1  2  3]\n",
      " [ 4  5  6  7]\n",
      " [ 8  9 10 11]]\n"
     ]
    }
   ],
   "source": [
    "arr1=np.transpose(arr,(1,0))\n",
    "print(arr1)\n",
    "arr2=np.transpose(arr,(0,1))\n",
    "print(arr2)"
   ]
  },
  {
   "cell_type": "code",
   "execution_count": 71,
   "id": "41f42e72-4c33-4208-a5c0-5226b0ed096c",
   "metadata": {},
   "outputs": [
    {
     "name": "stdout",
     "output_type": "stream",
     "text": [
      "[[[ 0  1]\n",
      "  [ 2  3]\n",
      "  [ 4  5]]\n",
      "\n",
      " [[ 6  7]\n",
      "  [ 8  9]\n",
      "  [10 11]]]\n",
      "Transpose using .T\n",
      "[[[ 0  6]\n",
      "  [ 2  8]\n",
      "  [ 4 10]]\n",
      "\n",
      " [[ 1  7]\n",
      "  [ 3  9]\n",
      "  [ 5 11]]]\n",
      "(2, 3, 2)\n",
      "Transpose using the transpose() function\n",
      "[[[ 0  6]\n",
      "  [ 2  8]\n",
      "  [ 4 10]]\n",
      "\n",
      " [[ 1  7]\n",
      "  [ 3  9]\n",
      "  [ 5 11]]]\n"
     ]
    }
   ],
   "source": [
    "arr = np.arange(12).reshape((2, 3,2))\n",
    "print(arr)\n",
    "print(\"Transpose using .T\")\n",
    "arr3dT=arr.T\n",
    "print(arr3dT)\n",
    "print(arr3dT.shape)\n",
    "print(\"Transpose using the transpose() function\")\n",
    "print(np.transpose(arr))"
   ]
  },
  {
   "cell_type": "code",
   "execution_count": 72,
   "id": "bc8a7d97-225d-4967-8602-fbb6ed33456f",
   "metadata": {},
   "outputs": [
    {
     "name": "stdout",
     "output_type": "stream",
     "text": [
      "[[[ 0  1]\n",
      "  [ 6  7]]\n",
      "\n",
      " [[ 2  3]\n",
      "  [ 8  9]]\n",
      "\n",
      " [[ 4  5]\n",
      "  [10 11]]]\n",
      "[[[ 0  1]\n",
      "  [ 2  3]\n",
      "  [ 4  5]]\n",
      "\n",
      " [[ 6  7]\n",
      "  [ 8  9]\n",
      "  [10 11]]]\n"
     ]
    }
   ],
   "source": [
    "arr3d1=np.transpose(arr,(1,0,2))\n",
    "print(arr3d1)\n",
    "arr3d2=np.transpose(arr,(0,1,2))\n",
    "print(arr3d2)"
   ]
  },
  {
   "cell_type": "code",
   "execution_count": 73,
   "id": "06c4176b-56c0-4d8b-acd8-7d5bf5da7efc",
   "metadata": {},
   "outputs": [
    {
     "name": "stdout",
     "output_type": "stream",
     "text": [
      "Dot product of arr and arr2:\n",
      "[[ 14  38  62]\n",
      " [ 38 126 214]\n",
      " [ 62 214 366]]\n"
     ]
    }
   ],
   "source": [
    "import numpy as np\n",
    "arr = np.arange(12).reshape((3, 4))\n",
    "print(\"Dot product of arr and arr2:\")\n",
    "print(np.dot(arr, arr.T))"
   ]
  },
  {
   "cell_type": "code",
   "execution_count": 74,
   "id": "e02e1009-1ffb-4d02-b35b-8fbe6e5cdff5",
   "metadata": {},
   "outputs": [
    {
     "name": "stdout",
     "output_type": "stream",
     "text": [
      "[[ 0  1  2  3]\n",
      " [ 4  5  6  7]\n",
      " [ 8  9 10 11]]\n",
      "Swap axes 0 and 1:\n",
      "[[ 0  4  8]\n",
      " [ 1  5  9]\n",
      " [ 2  6 10]\n",
      " [ 3  7 11]]\n"
     ]
    }
   ],
   "source": [
    "import numpy as np\n",
    "arr = np.arange(12).reshape((3, 4))\n",
    "print(arr)\n",
    "print(\"Swap axes 0 and 1:\")\n",
    "print(np.swapaxes(arr, 0, 1))"
   ]
  },
  {
   "cell_type": "code",
   "execution_count": 75,
   "id": "c3cffe4b-4f6b-4c6c-9313-98db6d0adc05",
   "metadata": {},
   "outputs": [
    {
     "name": "stdout",
     "output_type": "stream",
     "text": [
      "Result of element-wise multiplication:\n",
      "[[ 5 12]\n",
      " [21 32]]\n"
     ]
    }
   ],
   "source": [
    "import numpy as np\n",
    "arr1 = np.array([[1, 2],\n",
    "[3, 4]])\n",
    "arr2 = np.array([[5, 6],\n",
    "[7, 8]])\n",
    "result = np.multiply(arr1, arr2)\n",
    "print(\"Result of element-wise multiplication:\")\n",
    "print(result)"
   ]
  },
  {
   "cell_type": "code",
   "execution_count": 76,
   "id": "d0e12c81-f6e4-4ce2-a127-b4135dfa207f",
   "metadata": {},
   "outputs": [
    {
     "name": "stdout",
     "output_type": "stream",
     "text": [
      "Result of matrix multiplication:\n",
      "[[19 22]\n",
      " [43 50]]\n"
     ]
    }
   ],
   "source": [
    "result = np.matmul(arr1, arr2)\n",
    "print(\"Result of matrix multiplication:\")\n",
    "print(result)"
   ]
  },
  {
   "cell_type": "code",
   "execution_count": 77,
   "id": "241adbaa-c82e-4153-9fb1-13706993e3fe",
   "metadata": {},
   "outputs": [
    {
     "name": "stdout",
     "output_type": "stream",
     "text": [
      "Result of matrix multiplication:\n",
      "[[19 22]\n",
      " [43 50]]\n"
     ]
    }
   ],
   "source": [
    "result = np.dot(arr1, arr2)\n",
    "print(\"Result of matrix multiplication:\")\n",
    "print(result)"
   ]
  }
 ],
 "metadata": {
  "kernelspec": {
   "display_name": "Python 3 (ipykernel)",
   "language": "python",
   "name": "python3"
  },
  "language_info": {
   "codemirror_mode": {
    "name": "ipython",
    "version": 3
   },
   "file_extension": ".py",
   "mimetype": "text/x-python",
   "name": "python",
   "nbconvert_exporter": "python",
   "pygments_lexer": "ipython3",
   "version": "3.13.0"
  }
 },
 "nbformat": 4,
 "nbformat_minor": 5
}
