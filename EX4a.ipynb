{
 "cells": [
  {
   "cell_type": "code",
   "execution_count": 57,
   "metadata": {
    "id": "nnzMexsdetqW"
   },
   "outputs": [],
   "source": [
    "import pandas as pd"
   ]
  },
  {
   "cell_type": "code",
   "execution_count": 59,
   "metadata": {},
   "outputs": [],
   "source": [
    "import re\n",
    "from sklearn.feature_extraction.text import TfidfVectorizer\n",
    "from sklearn.metrics.pairwise import cosine_similarity"
   ]
  },
  {
   "cell_type": "code",
   "execution_count": 61,
   "metadata": {
    "id": "D7LcyfqlfeRr"
   },
   "outputs": [],
   "source": [
    "import nltk\n",
    "from nltk.corpus import stopwords"
   ]
  },
  {
   "cell_type": "code",
   "execution_count": 63,
   "metadata": {
    "id": "PhYf7UKyfjs5"
   },
   "outputs": [],
   "source": [
    "df = pd.read_csv(\"Reviews.csv\")"
   ]
  },
  {
   "cell_type": "code",
   "execution_count": 65,
   "metadata": {
    "colab": {
     "base_uri": "https://localhost:8080/"
    },
    "id": "haC1CTCVg4me",
    "outputId": "faa9f857-37ac-4d28-d84d-682342160bed"
   },
   "outputs": [],
   "source": [
    "reviews = df[\"Text\"]"
   ]
  },
  {
   "cell_type": "code",
   "execution_count": 67,
   "metadata": {
    "id": "kuXm97iSg7-2"
   },
   "outputs": [],
   "source": [
    "reviews = reviews.dropna()"
   ]
  },
  {
   "cell_type": "code",
   "execution_count": 69,
   "metadata": {
    "id": "hgZNVlQDhW0u"
   },
   "outputs": [],
   "source": [
    "reviews = reviews.sample(10000, random_state=42)"
   ]
  },
  {
   "cell_type": "code",
   "execution_count": 71,
   "metadata": {
    "id": "iqR363iijhoV"
   },
   "outputs": [],
   "source": [
    "stop_words = set(stopwords.words(\"english\"))"
   ]
  },
  {
   "cell_type": "code",
   "execution_count": 73,
   "metadata": {
    "id": "TCWqiMZmjsNt"
   },
   "outputs": [],
   "source": [
    "def preprocess_text(text):\n",
    "    text = text.lower()                                    \n",
    "    text = re.sub(r'[^a-zA-Z\\s]', '', text)                 \n",
    "    tokens = text.split()                                   \n",
    "    tokens = [word for word in tokens if word not in stop_words]  \n",
    "    return \" \".join(tokens)     "
   ]
  },
  {
   "cell_type": "code",
   "execution_count": 75,
   "metadata": {
    "id": "1497f1f0"
   },
   "outputs": [],
   "source": [
    "cleaned_reviews = reviews.apply(preprocess_text)"
   ]
  },
  {
   "cell_type": "code",
   "execution_count": 77,
   "metadata": {
    "id": "_M4Xwq5po4U0"
   },
   "outputs": [],
   "source": [
    "vectorizer = TfidfVectorizer()\n",
    "tfidf_matrix = vectorizer.fit_transform(cleaned_reviews)"
   ]
  },
  {
   "cell_type": "code",
   "execution_count": 79,
   "metadata": {
    "id": "bttANnZapCPM"
   },
   "outputs": [],
   "source": [
    "def search_reviews(query, top_k=5):\n",
    "    cleaned_query = preprocess_text(query)                      \n",
    "    query_vector = vectorizer.transform([cleaned_query])         \n",
    "    similarities = cosine_similarity(query_vector, tfidf_matrix).flatten()  \n",
    "    top_indices = similarities.argsort()[-top_k:][::-1]          \n",
    "    results = []\n",
    "    for i in top_indices:\n",
    "        results.append({\n",
    "            \"Original Review\": reviews.iloc[i],\n",
    "            \"Cleaned Review\": cleaned_reviews.iloc[i],\n",
    "            \"Similarity Score\": similarities[i]\n",
    "        })\n",
    "    return results "
   ]
  },
  {
   "cell_type": "code",
   "execution_count": 81,
   "metadata": {
    "colab": {
     "base_uri": "https://localhost:8080/"
    },
    "id": "Q03cNuMKpOW7",
    "outputId": "800d5897-3257-4ce2-e4ab-32f3b83c0612"
   },
   "outputs": [],
   "source": [
    "query1 = \"great product with fast shipping\"\n",
    "query2 = \"disappointed\""
   ]
  },
  {
   "cell_type": "code",
   "execution_count": 83,
   "metadata": {
    "colab": {
     "base_uri": "https://localhost:8080/"
    },
    "id": "g2SIVQ5FpSUr",
    "outputId": "c98e6e98-4227-485d-cd7b-a08a025c1781"
   },
   "outputs": [
    {
     "name": "stdout",
     "output_type": "stream",
     "text": [
      "Query 1 Results:\n",
      "{'Original Review': 'I have ordered this product several times and have never been disappointed! Shipping is super fast.', 'Cleaned Review': 'ordered product several times never disappointed shipping super fast', 'Similarity Score': 0.5121833905266558} \n",
      "\n",
      "{'Original Review': 'I enjoy the mild coffee blends that Green Mountain has.  Great price and fast shipping.', 'Cleaned Review': 'enjoy mild coffee blends green mountain great price fast shipping', 'Similarity Score': 0.44996442527678004} \n",
      "\n",
      "{'Original Review': 'Great seller, fast shipping! I love these cookies! I have many allergies and I have no problems when eating these. I will be ordering more.', 'Cleaned Review': 'great seller fast shipping love cookies many allergies problems eating ordering', 'Similarity Score': 0.4320415307052864} \n",
      "\n",
      "{'Original Review': 'Nice size and quality for the price.  My dogs chew this things 24/7. Fast shipping.  No problems.', 'Cleaned Review': 'nice size quality price dogs chew things fast shipping problems', 'Similarity Score': 0.4102063807414428} \n",
      "\n",
      "{'Original Review': \"Very satisfied with product.  Shipping was fast.  Product arrived sooner than expected.  Will purchase from Barry's Farm again.\", 'Cleaned Review': 'satisfied product shipping fast product arrived sooner expected purchase barrys farm', 'Similarity Score': 0.4005701942840689} \n",
      "\n"
     ]
    }
   ],
   "source": [
    "print(\"Query 1 Results:\")\n",
    "for r in search_reviews(query1, top_k=5):\n",
    "    print(r, \"\\n\")"
   ]
  },
  {
   "cell_type": "code",
   "execution_count": 85,
   "metadata": {
    "colab": {
     "base_uri": "https://localhost:8080/"
    },
    "id": "1woPDZoNp7A1",
    "outputId": "81ee6965-3da4-4e1a-aa13-6b7ffd0d8283"
   },
   "outputs": [
    {
     "name": "stdout",
     "output_type": "stream",
     "text": [
      "Query 2 Results:\n",
      "{'Original Review': 'I have ordered this product several times and have never been disappointed! Shipping is super fast.', 'Cleaned Review': 'ordered product several times never disappointed shipping super fast', 'Similarity Score': 0.366278704897463} \n",
      "\n",
      "{'Original Review': \"I was disappointed with the taste and price of this coffee.  I don't recommend it unless you're looking for a VERY subtle flavor of chocolate only.\", 'Cleaned Review': 'disappointed taste price coffee dont recommend unless youre looking subtle flavor chocolate', 'Similarity Score': 0.3363398391767886} \n",
      "\n",
      "{'Original Review': 'I was disappointed that there was a lot of juice and very few clams. It was expensive and not worth the cost.', 'Cleaned Review': 'disappointed lot juice clams expensive worth cost', 'Similarity Score': 0.33313266349762477} \n",
      "\n",
      "{'Original Review': \"Bought several of these cakes and was not disappointed. Most delicious and moist cake I've ever had. Will definitely buy more again!!!\", 'Cleaned Review': 'bought several cakes disappointed delicious moist cake ive ever definitely buy', 'Similarity Score': 0.30985494488173465} \n",
      "\n",
      "{'Original Review': 'I was really looking forward to trying the pumpkin flavor - I was a little disappointed in the flavor and not as creamy as the other flavors I have tried.', 'Cleaned Review': 'really looking forward trying pumpkin flavor little disappointed flavor creamy flavors tried', 'Similarity Score': 0.3057034615907961} \n",
      "\n"
     ]
    }
   ],
   "source": [
    "print(\"Query 2 Results:\")\n",
    "for r in search_reviews(query2, top_k=5):\n",
    "    print(r, \"\\n\")"
   ]
  },
  {
   "cell_type": "code",
   "execution_count": null,
   "metadata": {
    "id": "3RKBcUJ2qAIz"
   },
   "outputs": [],
   "source": []
  }
 ],
 "metadata": {
  "colab": {
   "provenance": []
  },
  "kernelspec": {
   "display_name": "Python [conda env:base] *",
   "language": "python",
   "name": "conda-base-py"
  },
  "language_info": {
   "codemirror_mode": {
    "name": "ipython",
    "version": 3
   },
   "file_extension": ".py",
   "mimetype": "text/x-python",
   "name": "python",
   "nbconvert_exporter": "python",
   "pygments_lexer": "ipython3",
   "version": "3.12.7"
  }
 },
 "nbformat": 4,
 "nbformat_minor": 4
}
